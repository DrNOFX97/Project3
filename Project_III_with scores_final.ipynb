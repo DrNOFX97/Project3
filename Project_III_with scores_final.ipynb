{
 "cells": [
  {
   "cell_type": "markdown",
   "metadata": {
    "id": "U0BmR-FvTlzc"
   },
   "source": [
    "# Install main dependencies"
   ]
  },
  {
   "cell_type": "code",
   "execution_count": 1,
   "metadata": {
    "colab": {
     "base_uri": "https://localhost:8080/"
    },
    "id": "oebvtvaQwPPG",
    "outputId": "62584a85-1080-47e9-c644-a80441d2c265"
   },
   "outputs": [
    {
     "data": {
      "text/plain": [
       "'import subprocess\\nimport sys\\n\\n# Function to install packages using pip\\ndef install_packages(packages):\\n    subprocess.check_call([sys.executable, \"-m\", \"pip\", \"install\", *packages])\\n\\n# List of packages to install\\npackages = [\\n    \\'vosk\\', \\'yt-dlp\\', \\'tqdm\\', \\'datasets\\', \\'openai\\', \\'pinecone-client\\', \\'tiktoken\\',\\n    \\'pyarrow==11.0.0\\', \\'flask\\',\\n    \\'langchain\\', \\'langchainhub\\', \\'langchain-openai\\', \\'langchain_community\\',\\n    \\'langchain-pinecone\\', \\'langchain_anthropic\\'\\n]\\n\\n# Install the packages\\ninstall_packages(packages)\\n\\n# If running on Colab, you can uncomment and run these lines to download and set up the model\\nsubprocess.check_call([\"wget\", \"https://alphacephei.com/vosk/models/vosk-model-small-en-us-0.15.zip\"])\\nsubprocess.check_call([\"unzip\", \"vosk-model-small-en-us-0.15.zip\"])\\nsubprocess.check_call([\"mv\", \"vosk-model-small-en-us-0.15\", \"model\"])\\nsubprocess.check_call([\"rm\", \"vosk-model-small-en-us-0.15.zip\"])\\nsubprocess.check_call([\"rm\", \"-rf\", \"audio.wav\"])\\nsubprocess.check_call([\"rm\", \"-rf\", \"transcription.txt\"])\\nsubprocess.check_call([\"apt-get\", \"update\"])\\nsubprocess.check_call([\"apt-get\", \"install\", \"-y\", \"ffmpeg\"])\\n\\n# Now your dependencies are installed, and you can continue with your Streamlit app code'"
      ]
     },
     "execution_count": 1,
     "metadata": {},
     "output_type": "execute_result"
    }
   ],
   "source": [
    "'''import subprocess\n",
    "import sys\n",
    "\n",
    "# Function to install packages using pip\n",
    "def install_packages(packages):\n",
    "    subprocess.check_call([sys.executable, \"-m\", \"pip\", \"install\", *packages])\n",
    "\n",
    "# List of packages to install\n",
    "packages = [\n",
    "    'vosk', 'yt-dlp', 'tqdm', 'datasets', 'openai', 'pinecone-client', 'tiktoken',\n",
    "    'pyarrow==11.0.0', 'flask',\n",
    "    'langchain', 'langchainhub', 'langchain-openai', 'langchain_community',\n",
    "    'langchain-pinecone', 'langchain_anthropic'\n",
    "]\n",
    "\n",
    "# Install the packages\n",
    "install_packages(packages)\n",
    "\n",
    "# If running on Colab, you can uncomment and run these lines to download and set up the model\n",
    "subprocess.check_call([\"wget\", \"https://alphacephei.com/vosk/models/vosk-model-small-en-us-0.15.zip\"])\n",
    "subprocess.check_call([\"unzip\", \"vosk-model-small-en-us-0.15.zip\"])\n",
    "subprocess.check_call([\"mv\", \"vosk-model-small-en-us-0.15\", \"model\"])\n",
    "subprocess.check_call([\"rm\", \"vosk-model-small-en-us-0.15.zip\"])\n",
    "subprocess.check_call([\"rm\", \"-rf\", \"audio.wav\"])\n",
    "subprocess.check_call([\"rm\", \"-rf\", \"transcription.txt\"])\n",
    "subprocess.check_call([\"apt-get\", \"update\"])\n",
    "subprocess.check_call([\"apt-get\", \"install\", \"-y\", \"ffmpeg\"])\n",
    "\n",
    "# Now your dependencies are installed, and you can continue with your Streamlit app code'''"
   ]
  },
  {
   "cell_type": "markdown",
   "metadata": {
    "id": "X5qlev6BTu0m"
   },
   "source": [
    "# Install main packages and modules"
   ]
  },
  {
   "cell_type": "code",
   "execution_count": 2,
   "metadata": {
    "id": "SiuRvYKia7kC"
   },
   "outputs": [],
   "source": [
    "import os\n",
    "import re\n",
    "import json\n",
    "import time\n",
    "import wave\n",
    "import yt_dlp\n",
    "import sqlite3\n",
    "import pinecone\n",
    "import requests\n",
    "import tiktoken\n",
    "import subprocess\n",
    "\n",
    "from uuid import uuid4\n",
    "from typing import List\n",
    "from tqdm.auto import tqdm\n",
    "from datasets import load_dataset\n",
    "\n",
    "from vosk import Model, KaldiRecognizer\n",
    "\n",
    "from pinecone import Pinecone, ServerlessSpec\n",
    "\n",
    "from langchain.chains import RetrievalQA\n",
    "from langchain_pinecone import PineconeVectorStore\n",
    "from langchain.agents import Tool, create_react_agent\n",
    "from langchain_openai import OpenAIEmbeddings, ChatOpenAI, OpenAI\n",
    "from langchain.text_splitter import RecursiveCharacterTextSplitter\n",
    "from langchain.chains.conversation.memory import ConversationBufferWindowMemory\n",
    "\n",
    "\n",
    "from langchain.output_parsers import ListOutputParser\n",
    "from langchain.prompts import PromptTemplate\n",
    "from langchain.chains import LLMChain"
   ]
  },
  {
   "cell_type": "markdown",
   "metadata": {
    "id": "-_zskC1dT1rc"
   },
   "source": [
    "# Set API Keys"
   ]
  },
  {
   "cell_type": "code",
   "execution_count": 3,
   "metadata": {
    "id": "SS5EwSSgbDyI"
   },
   "outputs": [],
   "source": [
    "from dotenv import load_dotenv\n",
    "import os\n",
    "\n",
    "# Load environment variables from the .env file\n",
    "load_dotenv()\n",
    "\n",
    "# Get the API keys\n",
    "pinecone_api_key = os.getenv('PINECONE_API_KEY')\n",
    "openai_api_key = os.getenv('OPENAI_API_KEY')\n",
    "langchain_api_key = os.getenv('LANGCHAIN_API_KEY')\n",
    "\n",
    "# If running on CoLab, comment out above and uncomment below\n",
    "\n",
    "# from google.colab import files, userdata\n",
    "\n",
    "# PINECONE_API_KEY=userdata.get('PINECONE_API_KEY')\n",
    "# OPENAI_API_KEY=userdata.get('OPENAI_API_KEY')\n",
    "# LANGCHAIN_API_KEY=userdata.get('LANGCHAIN_API_KEY')"
   ]
  },
  {
   "cell_type": "markdown",
   "metadata": {
    "id": "2cBLJG0ZT7fU"
   },
   "source": [
    "# Speech-to-text\n",
    "- ### User input URL\n",
    "- ### Download YouTube video upon user URL input\n",
    "- ### Extract and transcribe audio"
   ]
  },
  {
   "cell_type": "code",
   "execution_count": 4,
   "metadata": {
    "colab": {
     "base_uri": "https://localhost:8080/",
     "height": 434,
     "referenced_widgets": [
      "22b29699bfa544629f4cd136f6370fbe",
      "869a2bd1ca924eb5bfa43ba403efb780",
      "c675717db3744349b9fbef85bf398902",
      "25cabc4efd04428e919cde59e3615ed3",
      "9ca9b0300ead4a768340b5ca297e2374",
      "1461f7546d3e49489d2c3488191fa0c8",
      "d58e937d585f43b9b680a2a86dd2eec3",
      "2ff688dad44a4bcb91baf6e0b597a80d",
      "98d50bbbafeb444295dae9fdaf9a3da7",
      "aadc265d8186451faf96dc2dae45fcba",
      "6bf3bd62bac2469f980a6181db55afe3",
      "2a96c831b633464f8983497b7e57d705"
     ]
    },
    "id": "4TxmSFVUwfbg",
    "outputId": "a64ae223-6aea-4ef9-9f88-e56b26090b35"
   },
   "outputs": [
    {
     "name": "stdin",
     "output_type": "stream",
     "text": [
      "Enter the YouTube video URL:  https://www.youtube.com/watch?v=qQviI1d_hFA\n"
     ]
    },
    {
     "name": "stdout",
     "output_type": "stream",
     "text": [
      "Extracting YouTube video info...\n"
     ]
    },
    {
     "data": {
      "text/html": [
       "<img src=\"https://i.ytimg.com/vi/qQviI1d_hFA/maxresdefault.jpg\" width=\"580\"/>"
      ],
      "text/plain": [
       "<IPython.core.display.Image object>"
      ]
     },
     "metadata": {},
     "output_type": "display_data"
    },
    {
     "name": "stdout",
     "output_type": "stream",
     "text": [
      "\n",
      "YouTube Video Info:\n",
      "+---------------+-------------------------------------------------------+\n",
      "| Field         | Value                                                 |\n",
      "+===============+=======================================================+\n",
      "| Title         | Michio Kaku: Quantum computing is the next revolution |\n",
      "+---------------+-------------------------------------------------------+\n",
      "| Thumbnail URL | https://i.ytimg.com/vi/qQviI1d_hFA/maxresdefault.jpg  |\n",
      "+---------------+-------------------------------------------------------+\n",
      "| Uploader      | Big Think                                             |\n",
      "+---------------+-------------------------------------------------------+\n",
      "| Uploader ID   | @bigthink                                             |\n",
      "+---------------+-------------------------------------------------------+\n",
      "| Upload Date   | 20230818                                              |\n",
      "+---------------+-------------------------------------------------------+\n",
      "| Duration      | 677                                                   |\n",
      "+---------------+-------------------------------------------------------+\n",
      "| View Count    | 2135253                                               |\n",
      "+---------------+-------------------------------------------------------+\n",
      "| Like Count    | 52468                                                 |\n",
      "+---------------+-------------------------------------------------------+\n",
      "Downloading video...\n",
      "[youtube] Extracting URL: https://www.youtube.com/watch?v=qQviI1d_hFA\n",
      "[youtube] qQviI1d_hFA: Downloading webpage\n",
      "[youtube] qQviI1d_hFA: Downloading ios player API JSON\n",
      "[youtube] qQviI1d_hFA: Downloading m3u8 information\n",
      "[info] qQviI1d_hFA: Downloading 1 format(s): 251\n",
      "[download] Destination: audio.webm\n",
      "[download] 100% of   10.70MiB in 00:00:00 at 21.15MiB/s    \n",
      "[ExtractAudio] Destination: audio.wav\n",
      "Deleting original file audio.webm (pass -k to keep)\n",
      "Transcribing audio...\n"
     ]
    },
    {
     "name": "stderr",
     "output_type": "stream",
     "text": [
      "LOG (VoskAPI:ReadDataFiles():model.cc:213) Decoding params beam=10 max-active=3000 lattice-beam=2\n",
      "LOG (VoskAPI:ReadDataFiles():model.cc:216) Silence phones 1:2:3:4:5:6:7:8:9:10\n",
      "LOG (VoskAPI:RemoveOrphanNodes():nnet-nnet.cc:948) Removed 0 orphan nodes.\n",
      "LOG (VoskAPI:RemoveOrphanComponents():nnet-nnet.cc:847) Removing 0 orphan components.\n",
      "LOG (VoskAPI:ReadDataFiles():model.cc:248) Loading i-vector extractor from model/ivector/final.ie\n",
      "LOG (VoskAPI:ComputeDerivedVars():ivector-extractor.cc:183) Computing derived variables for iVector extractor\n",
      "LOG (VoskAPI:ComputeDerivedVars():ivector-extractor.cc:204) Done.\n",
      "LOG (VoskAPI:ReadDataFiles():model.cc:282) Loading HCL and G from model/graph/HCLr.fst model/graph/Gr.fst\n",
      "LOG (VoskAPI:ReadDataFiles():model.cc:303) Loading winfo model/graph/phones/word_boundary.int\n"
     ]
    },
    {
     "name": "stdout",
     "output_type": "stream",
     "text": [
      "Converting audio to the correct format...\n"
     ]
    },
    {
     "data": {
      "application/vnd.jupyter.widget-view+json": {
       "model_id": "e7de531e871142a2a7231b9f13412bdf",
       "version_major": 2,
       "version_minor": 0
      },
      "text/plain": [
       "Transcribing:   0%|          | 0/10836846 [00:00<?, ?it/s]"
      ]
     },
     "metadata": {},
     "output_type": "display_data"
    },
    {
     "name": "stdout",
     "output_type": "stream",
     "text": [
      "\n",
      "Transcription:\n",
      "we all know the digital computers changed virtually every aspect of our life well the arrival of quantum computers could be even more historic than that we're now and the initial stages of the next revolution we're talking about a new generation of computers the ultimate computer a computer that computer on adam the ultimate constituents of batter itself the question is who's involved in this race to perfect quantum computers and the answer is everyone all the big players are part of this race because if they're not silicon valley could become the next rust belt also anyone who's interested in security is interested in the quantum computers they can crack almost any code that is based on digital technology that's why the f b i the cia and all national governments are following this is very closely what their computers will change everything the economy how he saw problems the way we interact with the universe you name it won't to computers will be there i'm doctor or michio kaku professor of theoretical physics at the city university of new york and author of quantum supremacy about the rise of quantum computers if he computers have gone through three basic stages stage one was the analog computer so two thousand years ago there was a shipwreck and in the boat that sank was a device and when you brushed away a the dirt and debris you began to realize that it was a machine a machine of incredible complexity he was in fact the world's first analog computer and it was designed to map the motion of the moon the sun and the planet's to simulate the universe but as we primitive people's became more prosperous we had to count things count how many cows you had count how much profit you may analog computers could be based on sticks bones whatever it took the count so this went on for thousands of years until finally we reach the work of charles babbage he creates the ultimate analog computer with hundreds of years and lovers and bullies and by turning the crank you can then calculate longitude latitude you can calculate interest rates it was very valuable to have it is made like that where the banking industry for commerce then world war two comes along babbage's machine is simply too primitive rated the german code so the job was given to mathematicians like alan turing alan turing was the one who codified lot of the laws of computation into what it's called a turing machine and of course is digital know the digital revolution is based on transistors it operates on zeros and ones zeros and ones at the speed of electricity every digital computer is a turing machine the next step beyond digital computers is the quantum era where to find it was one of the founders of quantum electrodynamics but also a visionary and he asked himself a simple question how small can you make a transistor and he realize that the old transistor is an atom one atom that could control the flow of electricity not just on or off but everything in between we have to go to quantum computers computers their computer on adams rather than on transistors transistors are based on zeros zero one zero zero one reality is not reality is based on electrons and particles and these particles in turn act like waves so you have to have a new set of mathematics to discuss the way leaves that make up a molecule and that's where quantum computers come in they're based on electrons and these electrons how can they have so much computational power because they could be in two places at the same time that's what gives quantum computers their power they compute on not just one universe but an infinite number of parallel universes at the fundamental level quantum mechanics can be reduced down to a cat choate injuries cat let's take a box in the box you put a cat and the question is is the cat dead or alive well until you open the box you don't know it is alive and dead simultaneously is in a superposition of to states in other words the universe has split in half in one have the cat is alive and the other universe they get is dead that's the basis of the quantum theory that until you make a measurement the cat can exists in both states simultaneously in fact in any number of states simultaneously the cat can be dead or alive play ing jumping sideways sick any number of states now why am i mentioning this is this summarizes the power of quantum computers weren't to computers compute on parallel universes that's why they are so powerful so how much faster is a quantum computer over a digital computer in principle infinitely faster when we talk about digital computers we can measure their power in terms of bits for example spin up spin down zeros and one would constitute one bit for a large is your computer we're not talking about billions of bits that are modeled by train sisters except now quantum computers talk not just about spin up or a spin down but everything in between that's called a cuban one cupid represents all the possibilities have an object spinning between up and down thousands of cuba's can now be modeled with the latest generation of quantum computers eventually we hope to hit a million and so we're talking about exceeding the power of ordinary digital computers that's called quantum supremacy it is the point at which a quantum computer can out race and are perform a digital computer on a certain task we pass that several years ago but we want a machine that could exceed the power of any digital computer we're not there yet or very close to it the number one problem facing quantum computers is the question of d coherence everything is based on particles like electrons and electrons have waves associate with them when these waves are vibrating in unison as call coherence and then you can do calculations of a quantum mechanical nature but if you fall out of coherence that everyday vibrates at a different frequency and what is that called noise you have to reduce the temperature down to near absolute zero so everything is pretty much vibrating slowly in unison that's difficult now nature solves this problem it is the basis of all life on the earth photosynthesis for example is a quantum mechanical process mother nature can create coherence at room temperature amazing a flower can do calculations that are most advanced quantum computer cannot mother nature is still smarter than us when it comes to the quantum theory so let's face it there are hurdles affecting the growth of quantum computers but they pale in comparison to the benefits that may be unleashed by quantum computers were talking about opening the floodgates take a look for example of food supply the green revolution then allows us to feed the population of the world is slowly coming to an end we're trying to use quantum computers to unlock the secrets of how to make fertilizer from nitrogen take a look at energy quantum computers may be able to create fusion power by stabilizing the super hot hydrogen inside a fusion reactor and take a look at medicine you realize that life is based on molecules molecules they can create alzheimer's disease parkinson's disease cancer diseases are beyond the reach of digital computers but hey this is what decline to computers do will be able to model diseases at the molecular level and that's why we hope to cure the incurable using quantum computers were talking about turning medicine up i down my personal hope for quantum computers is that will be able to create a theory of the entire universe the theory that eluded einstein the theory that would explain black holes and supernovas and galactic evolution but the equations are so complex that know one no one has been able to solve them perhaps they'll be solved in the memory of a quantum computer   to learn even more from the world's biggest thinkers get big think plus for your business \n",
      "Transcription saved to 'transcription.txt'.\n"
     ]
    }
   ],
   "source": [
    "from vosk import Model, KaldiRecognizer\n",
    "from tabulate import tabulate\n",
    "from IPython.display import Image, display\n",
    "\n",
    "# Ensure ffmpeg is in PATH\n",
    "os.environ['PATH'] += os.pathsep + '/usr/local/bin'\n",
    "\n",
    "def is_valid_youtube_url(url):\n",
    "    \"\"\"Validate if the given URL is a YouTube URL.\"\"\"\n",
    "    pattern = r'^(https?://)?(www\\.)?(youtube\\.com|youtu\\.?be)/.+$'\n",
    "    return re.match(pattern, url) is not None\n",
    "\n",
    "def download_video(url):\n",
    "    \"\"\"Download the audio of the YouTube video as a .wav file.\"\"\"\n",
    "    ydl_opts = {\n",
    "        'format': 'bestaudio/best',\n",
    "        'postprocessors': [{\n",
    "            'key': 'FFmpegExtractAudio',\n",
    "            'preferredcodec': 'wav',\n",
    "            'preferredquality': '192',\n",
    "        }],\n",
    "        'outtmpl': 'audio.%(ext)s',\n",
    "        'ffmpeg_location': '/usr/local/bin'\n",
    "    }\n",
    "    try:\n",
    "        with yt_dlp.YoutubeDL(ydl_opts) as ydl:\n",
    "            ydl.download([url])\n",
    "        return 'audio.wav'\n",
    "    except Exception as e:\n",
    "        print(f\"An error occurred during download: {e}\")\n",
    "        return None\n",
    "\n",
    "def convert_audio(input_file, output_file):\n",
    "    \"\"\"Convert audio to the required format for transcription.\"\"\"\n",
    "    command = [\n",
    "        '/usr/local/bin/ffmpeg',\n",
    "        '-i', input_file,\n",
    "        '-acodec', 'pcm_s16le',\n",
    "        '-ac', '1',\n",
    "        '-ar', '16000',\n",
    "        '-y', output_file\n",
    "    ]\n",
    "    try:\n",
    "        subprocess.run(command, check=True, stdout=subprocess.PIPE, stderr=subprocess.PIPE)\n",
    "        return True\n",
    "    except subprocess.CalledProcessError as e:\n",
    "        print(f\"Error converting audio: {e}\")\n",
    "        return False\n",
    "\n",
    "def transcribe_audio(audio_file):\n",
    "    \"\"\"Transcribe audio using the Vosk model.\"\"\"\n",
    "    model_path = \"model\"\n",
    "    if not os.path.exists(model_path):\n",
    "        print(\"Speech recognition model not found. Please make sure you've downloaded it.\")\n",
    "        return None\n",
    "\n",
    "    model = Model(model_path)\n",
    "    recognizer = KaldiRecognizer(model, 16000)\n",
    "\n",
    "    def is_valid_wave_file(wave_file):\n",
    "        \"\"\"Check if the wave file has the correct properties.\"\"\"\n",
    "        return (wave_file.getnchannels() == 1 and\n",
    "                wave_file.getsampwidth() == 2 and\n",
    "                wave_file.getcomptype() == \"NONE\")\n",
    "    \n",
    "    try:\n",
    "        # Open the original file to check format\n",
    "        with wave.open(audio_file, \"rb\") as wf:\n",
    "            if not is_valid_wave_file(wf):\n",
    "                print(\"Converting audio to the correct format...\")\n",
    "                converted_file = \"converted_audio.wav\"\n",
    "                if not convert_audio(audio_file, converted_file):\n",
    "                    return None\n",
    "                audio_file = converted_file\n",
    "\n",
    "        # Reopen the audio file (either original or converted)\n",
    "        with wave.open(audio_file, \"rb\") as wf:\n",
    "            results = []\n",
    "            total_frames = wf.getnframes()\n",
    "            with tqdm(total=total_frames, desc=\"Transcribing\") as pbar:\n",
    "                while True:\n",
    "                    data = wf.readframes(4000)\n",
    "                    if not data:\n",
    "                        break\n",
    "                    if recognizer.AcceptWaveform(data):\n",
    "                        part_result = json.loads(recognizer.Result())\n",
    "                        results.append(part_result['text'])\n",
    "                    pbar.update(4000)\n",
    "\n",
    "                # Final result\n",
    "                part_result = json.loads(recognizer.FinalResult())\n",
    "                results.append(part_result['text'])\n",
    "\n",
    "            return \" \".join(results)\n",
    "    except Exception as e:\n",
    "        print(f\"An error occurred during transcription: {e}\")\n",
    "        return None\n",
    "\n",
    "def get_youtube_video_info(url):\n",
    "    \"\"\"Extract YouTube video info and M3U8 URLs without downloading the video.\"\"\"\n",
    "    ydl_opts = {\n",
    "        'quiet': True,\n",
    "        'skip_download': True,\n",
    "        'extract_flat': False,\n",
    "        'force_generic_extractor': True,\n",
    "        'no_warnings': True\n",
    "    }\n",
    "    try:\n",
    "        with yt_dlp.YoutubeDL(ydl_opts) as ydl:\n",
    "            info = ydl.extract_info(url, download=False)\n",
    "            info.pop('description', None)\n",
    "\n",
    "            # Extract M3U8 URLs from formats\n",
    "            formats = info.get('formats', [])\n",
    "            m3u8_urls = [fmt['url'] for fmt in formats if 'm3u8' in fmt.get('url', '')]\n",
    "            info['m3u8_urls'] = m3u8_urls\n",
    "\n",
    "        return info\n",
    "    except Exception as e:\n",
    "        print(f\"An error occurred while extracting YouTube video info: {e}\")\n",
    "        return None\n",
    "\n",
    "def display_youtube_info(info):\n",
    "    \"\"\"Display YouTube video metadata in a pretty table format using tabulate.\"\"\"\n",
    "    if not info:\n",
    "        print(\"No YouTube video info to display.\")\n",
    "        return\n",
    "\n",
    "    youtube_info = [\n",
    "        [\"Title\", info.get(\"title\", \"N/A\")],\n",
    "        [\"Thumbnail URL\", info.get(\"thumbnail\", \"N/A\")],\n",
    "        [\"Uploader\", info.get(\"uploader\", \"N/A\")],\n",
    "        [\"Uploader ID\", info.get(\"uploader_id\", \"N/A\")],\n",
    "        [\"Upload Date\", info.get(\"upload_date\", \"N/A\")],\n",
    "        [\"Duration\", info.get(\"duration\", \"N/A\")],\n",
    "        [\"View Count\", info.get(\"view_count\", \"N/A\")],\n",
    "        [\"Like Count\", info.get(\"like_count\", \"N/A\")]\n",
    "    ]\n",
    "\n",
    "    thumbnail_url = info.get(\"thumbnail\")\n",
    "    if thumbnail_url:\n",
    "        display(Image(url=thumbnail_url, width=580))\n",
    "    \n",
    "    print(\"\\nYouTube Video Info:\")\n",
    "    print(tabulate(youtube_info, headers=[\"Field\", \"Value\"], tablefmt=\"grid\", stralign=\"left\"))\n",
    "\n",
    "def main():\n",
    "    \"\"\"Main function to handle the workflow.\"\"\"\n",
    "    while True:\n",
    "        video_url = input(\"Enter the YouTube video URL: \")\n",
    "        if is_valid_youtube_url(video_url):\n",
    "            break\n",
    "        else:\n",
    "            print(\"Invalid YouTube URL. Please enter a valid URL.\")\n",
    "\n",
    "    print(\"Extracting YouTube video info...\")\n",
    "    youtube_info = get_youtube_video_info(video_url)\n",
    "    if youtube_info:\n",
    "        display_youtube_info(youtube_info)\n",
    "\n",
    "    print(\"Downloading video...\")\n",
    "    audio_file = download_video(video_url)\n",
    "\n",
    "    if audio_file and os.path.exists(audio_file):\n",
    "        print(\"Transcribing audio...\")\n",
    "        transcription = transcribe_audio(audio_file)\n",
    "\n",
    "        if transcription:\n",
    "            print(\"\\nTranscription:\")\n",
    "            print(transcription)\n",
    "\n",
    "            # Save transcription to a file\n",
    "            with open('transcription.txt', 'w') as f:\n",
    "                f.write(transcription)\n",
    "\n",
    "            print(\"Transcription saved to 'transcription.txt'.\")\n",
    "        else:\n",
    "            print(\"Transcription failed. Please check the error messages above.\")\n",
    "    else:\n",
    "        print(\"Failed to download the video. Please check the URL and try again.\")\n",
    "\n",
    "if __name__ == \"__main__\":\n",
    "    main()"
   ]
  },
  {
   "cell_type": "markdown",
   "metadata": {
    "id": "osFvF9CsVzMr"
   },
   "source": [
    "# Load data into database"
   ]
  },
  {
   "cell_type": "code",
   "execution_count": 5,
   "metadata": {
    "colab": {
     "base_uri": "https://localhost:8080/"
    },
    "id": "BAp-2Uc-l9dl",
    "outputId": "4e5def9d-7498-457d-f7bc-499181d14042"
   },
   "outputs": [
    {
     "name": "stdout",
     "output_type": "stream",
     "text": [
      "Data has been successfully loaded into the database.\n"
     ]
    }
   ],
   "source": [
    "# Define the path to the transcription file\n",
    "transcription_file = 'transcription.txt'\n",
    "\n",
    "# Read the transcription text\n",
    "with open(transcription_file, 'r') as file:\n",
    "    transcription_text = file.read()\n",
    "\n",
    "# Connect to SQLite database (or create it if it doesn't exist)\n",
    "conn = sqlite3.connect('transcriptions.db')\n",
    "cursor = conn.cursor()\n",
    "\n",
    "# Create the transcriptions table\n",
    "cursor.execute('''\n",
    "    CREATE TABLE IF NOT EXISTS transcriptions (\n",
    "        id INTEGER PRIMARY KEY AUTOINCREMENT,\n",
    "        speaker TEXT,\n",
    "        text TEXT,\n",
    "        timestamp TEXT\n",
    "    )\n",
    "''')\n",
    "\n",
    "# Insert the transcription text into the table\n",
    "cursor.execute('''\n",
    "    INSERT INTO transcriptions (speaker, text, timestamp)\n",
    "    VALUES (?, ?, ?)\n",
    "''', ('Transcript', transcription_text, '2024-07-15 10:00:00'))\n",
    "\n",
    "# Commit the transaction and close the connection\n",
    "conn.commit()\n",
    "conn.close()\n",
    "\n",
    "print(\"Data has been successfully loaded into the database.\")\n"
   ]
  },
  {
   "cell_type": "code",
   "execution_count": 6,
   "metadata": {
    "id": "X12ycULUm1DE",
    "outputId": "fd0333bb-2733-4a2c-9673-5572d8a224b4"
   },
   "outputs": [
    {
     "name": "stdout",
     "output_type": "stream",
     "text": [
      "(1, 'Transcript', \"we all know the digital computers changed virtually every aspect of our life well the arrival of quantum computers could be even more historic than that we're now and the initial stages of the next revolution we're talking about a new generation of computers the ultimate computer a computer that computer on adam the ultimate constituents of batter itself the question is who's involved in this race to perfect quantum computers and the answer is everyone all the big players are part of this race because if they're not silicon valley could become the next rust belt also anyone who's interested in security is interested in the quantum computers they can crack almost any code that is based on digital technology that's why the f b i the cia and all national governments are following this is very closely what their computers will change everything the economy how he saw problems the way we interact with the universe you name it won't to computers will be there i'm doctor or michio kaku professor of theoretical physics at the city university of new york and author of quantum supremacy about the rise of quantum computers if he computers have gone through three basic stages stage one was the analog computer so two thousand years ago there was a shipwreck and in the boat that sank was a device and when you brushed away a the dirt and debris you began to realize that it was a machine a machine of incredible complexity he was in fact the world's first analog computer and it was designed to map the motion of the moon the sun and the planet's to simulate the universe but as we primitive people's became more prosperous we had to count things count how many cows you had count how much profit you may analog computers could be based on sticks bones whatever it took the count so this went on for thousands of years until finally we reach the work of charles babbage he creates the ultimate analog computer with hundreds of years and lovers and bullies and by turning the crank you can then calculate longitude latitude you can calculate interest rates it was very valuable to have it is made like that where the banking industry for commerce then world war two comes along babbage's machine is simply too primitive rated the german code so the job was given to mathematicians like alan turing alan turing was the one who codified lot of the laws of computation into what it's called a turing machine and of course is digital know the digital revolution is based on transistors it operates on zeros and ones zeros and ones at the speed of electricity every digital computer is a turing machine the next step beyond digital computers is the quantum era where to find it was one of the founders of quantum electrodynamics but also a visionary and he asked himself a simple question how small can you make a transistor and he realize that the old transistor is an atom one atom that could control the flow of electricity not just on or off but everything in between we have to go to quantum computers computers their computer on adams rather than on transistors transistors are based on zeros zero one zero zero one reality is not reality is based on electrons and particles and these particles in turn act like waves so you have to have a new set of mathematics to discuss the way leaves that make up a molecule and that's where quantum computers come in they're based on electrons and these electrons how can they have so much computational power because they could be in two places at the same time that's what gives quantum computers their power they compute on not just one universe but an infinite number of parallel universes at the fundamental level quantum mechanics can be reduced down to a cat choate injuries cat let's take a box in the box you put a cat and the question is is the cat dead or alive well until you open the box you don't know it is alive and dead simultaneously is in a superposition of to states in other words the universe has split in half in one have the cat is alive and the other universe they get is dead that's the basis of the quantum theory that until you make a measurement the cat can exists in both states simultaneously in fact in any number of states simultaneously the cat can be dead or alive play ing jumping sideways sick any number of states now why am i mentioning this is this summarizes the power of quantum computers weren't to computers compute on parallel universes that's why they are so powerful so how much faster is a quantum computer over a digital computer in principle infinitely faster when we talk about digital computers we can measure their power in terms of bits for example spin up spin down zeros and one would constitute one bit for a large is your computer we're not talking about billions of bits that are modeled by train sisters except now quantum computers talk not just about spin up or a spin down but everything in between that's called a cuban one cupid represents all the possibilities have an object spinning between up and down thousands of cuba's can now be modeled with the latest generation of quantum computers eventually we hope to hit a million and so we're talking about exceeding the power of ordinary digital computers that's called quantum supremacy it is the point at which a quantum computer can out race and are perform a digital computer on a certain task we pass that several years ago but we want a machine that could exceed the power of any digital computer we're not there yet or very close to it the number one problem facing quantum computers is the question of d coherence everything is based on particles like electrons and electrons have waves associate with them when these waves are vibrating in unison as call coherence and then you can do calculations of a quantum mechanical nature but if you fall out of coherence that everyday vibrates at a different frequency and what is that called noise you have to reduce the temperature down to near absolute zero so everything is pretty much vibrating slowly in unison that's difficult now nature solves this problem it is the basis of all life on the earth photosynthesis for example is a quantum mechanical process mother nature can create coherence at room temperature amazing a flower can do calculations that are most advanced quantum computer cannot mother nature is still smarter than us when it comes to the quantum theory so let's face it there are hurdles affecting the growth of quantum computers but they pale in comparison to the benefits that may be unleashed by quantum computers were talking about opening the floodgates take a look for example of food supply the green revolution then allows us to feed the population of the world is slowly coming to an end we're trying to use quantum computers to unlock the secrets of how to make fertilizer from nitrogen take a look at energy quantum computers may be able to create fusion power by stabilizing the super hot hydrogen inside a fusion reactor and take a look at medicine you realize that life is based on molecules molecules they can create alzheimer's disease parkinson's disease cancer diseases are beyond the reach of digital computers but hey this is what decline to computers do will be able to model diseases at the molecular level and that's why we hope to cure the incurable using quantum computers were talking about turning medicine up i down my personal hope for quantum computers is that will be able to create a theory of the entire universe the theory that eluded einstein the theory that would explain black holes and supernovas and galactic evolution but the equations are so complex that know one no one has been able to solve them perhaps they'll be solved in the memory of a quantum computer   to learn even more from the world's biggest thinkers get big think plus for your business \", '2024-07-19 00:00:01')\n",
      "(2, 'Transcript', \"we all know the digital computers changed virtually every aspect of our life well the arrival of quantum computers could be even more historic than that we're now and the initial stages of the next revolution we're talking about a new generation of computers the ultimate computer a computer that computer on adam the ultimate constituents of batter itself the question is who's involved in this race to perfect quantum computers and the answer is everyone all the big players are part of this race because if they're not silicon valley could become the next rust belt also anyone who's interested in security is interested in the quantum computers they can crack almost any code that is based on digital technology that's why the f b i the cia and all national governments are following this is very closely what their computers will change everything the economy how he saw problems the way we interact with the universe you name it won't to computers will be there i'm doctor or michio kaku professor of theoretical physics at the city university of new york and author of quantum supremacy about the rise of quantum computers if he computers have gone through three basic stages stage one was the analog computer so two thousand years ago there was a shipwreck and in the boat that sank was a device and when you brushed away a the dirt and debris you began to realize that it was a machine a machine of incredible complexity he was in fact the world's first analog computer and it was designed to map the motion of the moon the sun and the planet's to simulate the universe but as we primitive people's became more prosperous we had to count things count how many cows you had count how much profit you may analog computers could be based on sticks bones whatever it took the count so this went on for thousands of years until finally we reach the work of charles babbage he creates the ultimate analog computer with hundreds of years and lovers and bullies and by turning the crank you can then calculate longitude latitude you can calculate interest rates it was very valuable to have it is made like that where the banking industry for commerce then world war two comes along babbage's machine is simply too primitive rated the german code so the job was given to mathematicians like alan turing alan turing was the one who codified lot of the laws of computation into what it's called a turing machine and of course is digital know the digital revolution is based on transistors it operates on zeros and ones zeros and ones at the speed of electricity every digital computer is a turing machine the next step beyond digital computers is the quantum era where to find it was one of the founders of quantum electrodynamics but also a visionary and he asked himself a simple question how small can you make a transistor and he realize that the old transistor is an atom one atom that could control the flow of electricity not just on or off but everything in between we have to go to quantum computers computers their computer on adams rather than on transistors transistors are based on zeros zero one zero zero one reality is not reality is based on electrons and particles and these particles in turn act like waves so you have to have a new set of mathematics to discuss the way leaves that make up a molecule and that's where quantum computers come in they're based on electrons and these electrons how can they have so much computational power because they could be in two places at the same time that's what gives quantum computers their power they compute on not just one universe but an infinite number of parallel universes at the fundamental level quantum mechanics can be reduced down to a cat choate injuries cat let's take a box in the box you put a cat and the question is is the cat dead or alive well until you open the box you don't know it is alive and dead simultaneously is in a superposition of to states in other words the universe has split in half in one have the cat is alive and the other universe they get is dead that's the basis of the quantum theory that until you make a measurement the cat can exists in both states simultaneously in fact in any number of states simultaneously the cat can be dead or alive play ing jumping sideways sick any number of states now why am i mentioning this is this summarizes the power of quantum computers weren't to computers compute on parallel universes that's why they are so powerful so how much faster is a quantum computer over a digital computer in principle infinitely faster when we talk about digital computers we can measure their power in terms of bits for example spin up spin down zeros and one would constitute one bit for a large is your computer we're not talking about billions of bits that are modeled by train sisters except now quantum computers talk not just about spin up or a spin down but everything in between that's called a cuban one cupid represents all the possibilities have an object spinning between up and down thousands of cuba's can now be modeled with the latest generation of quantum computers eventually we hope to hit a million and so we're talking about exceeding the power of ordinary digital computers that's called quantum supremacy it is the point at which a quantum computer can out race and are perform a digital computer on a certain task we pass that several years ago but we want a machine that could exceed the power of any digital computer we're not there yet or very close to it the number one problem facing quantum computers is the question of d coherence everything is based on particles like electrons and electrons have waves associate with them when these waves are vibrating in unison as call coherence and then you can do calculations of a quantum mechanical nature but if you fall out of coherence that everyday vibrates at a different frequency and what is that called noise you have to reduce the temperature down to near absolute zero so everything is pretty much vibrating slowly in unison that's difficult now nature solves this problem it is the basis of all life on the earth photosynthesis for example is a quantum mechanical process mother nature can create coherence at room temperature amazing a flower can do calculations that are most advanced quantum computer cannot mother nature is still smarter than us when it comes to the quantum theory so let's face it there are hurdles affecting the growth of quantum computers but they pale in comparison to the benefits that may be unleashed by quantum computers were talking about opening the floodgates take a look for example of food supply the green revolution then allows us to feed the population of the world is slowly coming to an end we're trying to use quantum computers to unlock the secrets of how to make fertilizer from nitrogen take a look at energy quantum computers may be able to create fusion power by stabilizing the super hot hydrogen inside a fusion reactor and take a look at medicine you realize that life is based on molecules molecules they can create alzheimer's disease parkinson's disease cancer diseases are beyond the reach of digital computers but hey this is what decline to computers do will be able to model diseases at the molecular level and that's why we hope to cure the incurable using quantum computers were talking about turning medicine up i down my personal hope for quantum computers is that will be able to create a theory of the entire universe the theory that eluded einstein the theory that would explain black holes and supernovas and galactic evolution but the equations are so complex that know one no one has been able to solve them perhaps they'll be solved in the memory of a quantum computer   to learn even more from the world's biggest thinkers get big think plus for your business \", '2024-07-19 00:00:01')\n",
      "(3, 'Transcript', \"we all know the digital computers changed virtually every aspect of our life well the arrival of quantum computers could be even more historic than that we're now and the initial stages of the next revolution we're talking about a new generation of computers the ultimate computer a computer that computer on adam the ultimate constituents of batter itself the question is who's involved in this race to perfect quantum computers and the answer is everyone all the big players are part of this race because if they're not silicon valley could become the next rust belt also anyone who's interested in security is interested in the quantum computers they can crack almost any code that is based on digital technology that's why the f b i the cia and all national governments are following this is very closely what their computers will change everything the economy how he saw problems the way we interact with the universe you name it won't to computers will be there i'm doctor or michio kaku professor of theoretical physics at the city university of new york and author of quantum supremacy about the rise of quantum computers if he computers have gone through three basic stages stage one was the analog computer so two thousand years ago there was a shipwreck and in the boat that sank was a device and when you brushed away a the dirt and debris you began to realize that it was a machine a machine of incredible complexity he was in fact the world's first analog computer and it was designed to map the motion of the moon the sun and the planet's to simulate the universe but as we primitive people's became more prosperous we had to count things count how many cows you had count how much profit you may analog computers could be based on sticks bones whatever it took the count so this went on for thousands of years until finally we reach the work of charles babbage he creates the ultimate analog computer with hundreds of years and lovers and bullies and by turning the crank you can then calculate longitude latitude you can calculate interest rates it was very valuable to have it is made like that where the banking industry for commerce then world war two comes along babbage's machine is simply too primitive rated the german code so the job was given to mathematicians like alan turing alan turing was the one who codified lot of the laws of computation into what it's called a turing machine and of course is digital know the digital revolution is based on transistors it operates on zeros and ones zeros and ones at the speed of electricity every digital computer is a turing machine the next step beyond digital computers is the quantum era where to find it was one of the founders of quantum electrodynamics but also a visionary and he asked himself a simple question how small can you make a transistor and he realize that the old transistor is an atom one atom that could control the flow of electricity not just on or off but everything in between we have to go to quantum computers computers their computer on adams rather than on transistors transistors are based on zeros zero one zero zero one reality is not reality is based on electrons and particles and these particles in turn act like waves so you have to have a new set of mathematics to discuss the way leaves that make up a molecule and that's where quantum computers come in they're based on electrons and these electrons how can they have so much computational power because they could be in two places at the same time that's what gives quantum computers their power they compute on not just one universe but an infinite number of parallel universes at the fundamental level quantum mechanics can be reduced down to a cat choate injuries cat let's take a box in the box you put a cat and the question is is the cat dead or alive well until you open the box you don't know it is alive and dead simultaneously is in a superposition of to states in other words the universe has split in half in one have the cat is alive and the other universe they get is dead that's the basis of the quantum theory that until you make a measurement the cat can exists in both states simultaneously in fact in any number of states simultaneously the cat can be dead or alive play ing jumping sideways sick any number of states now why am i mentioning this is this summarizes the power of quantum computers weren't to computers compute on parallel universes that's why they are so powerful so how much faster is a quantum computer over a digital computer in principle infinitely faster when we talk about digital computers we can measure their power in terms of bits for example spin up spin down zeros and one would constitute one bit for a large is your computer we're not talking about billions of bits that are modeled by train sisters except now quantum computers talk not just about spin up or a spin down but everything in between that's called a cuban one cupid represents all the possibilities have an object spinning between up and down thousands of cuba's can now be modeled with the latest generation of quantum computers eventually we hope to hit a million and so we're talking about exceeding the power of ordinary digital computers that's called quantum supremacy it is the point at which a quantum computer can out race and are perform a digital computer on a certain task we pass that several years ago but we want a machine that could exceed the power of any digital computer we're not there yet or very close to it the number one problem facing quantum computers is the question of d coherence everything is based on particles like electrons and electrons have waves associate with them when these waves are vibrating in unison as call coherence and then you can do calculations of a quantum mechanical nature but if you fall out of coherence that everyday vibrates at a different frequency and what is that called noise you have to reduce the temperature down to near absolute zero so everything is pretty much vibrating slowly in unison that's difficult now nature solves this problem it is the basis of all life on the earth photosynthesis for example is a quantum mechanical process mother nature can create coherence at room temperature amazing a flower can do calculations that are most advanced quantum computer cannot mother nature is still smarter than us when it comes through the quantum theory so let's face it there are hurdles affecting the growth of quantum computers but they pale in comparison to the benefits that may be unleashed by quantum computers were talking about opening the floodgates take a look for example of food supply the green revolution then allows us to feed the population of the world is slowly coming to an end we're trying to use quantum computers to unlock the secrets of how to make fertilizer from nitrogen take a look at energy quantum computers may be able to create fusion power by stabilizing the super hot hydrogen inside a fusion reactor and take a look at medicine you realize that life is based on molecules molecules they can create alzheimer's disease parkinson's disease cancer diseases are beyond the reach of digital computers but hey this is what decline to computers do will be able to model diseases at the molecular level and that's why we hope to cure the incurable using quantum computers were talking about turning medicine up i down my personal hope for quantum computers is that will be able to create a theory of the entire universe the theory that eluded einstein the theory that would explain black holes and supernovas and galactic evolution but the equations are so complex that know one no one has been able to solve them perhaps they'll be solved in the memory of a quantum computer   to learn even more from the world's biggest thinkers get big think plus for your business \", '2024-07-19 00:00:01')\n",
      "(4, 'Transcript', \"we all know the digital computers changed virtually every aspect of our life well the arrival of quantum computers could be even more historic than that we're now and the initial stages of the next revolution we're talking about a new generation of computers the ultimate computer a computer that computer on adam the ultimate constituents of batter itself the question is who's involved in this race to perfect quantum computers and the answer is everyone all the big players are part of this race because if they're not silicon valley could become the next rust belt also anyone who's interested in security is interested in the quantum computers they can crack almost any code that is based on digital technology that's why the f b i the cia and all national governments are following this is very closely what their computers will change everything the economy how he saw problems the way we interact with the universe you name it won't to computers will be there i'm doctor or michio kaku professor of theoretical physics at the city university of new york and author of quantum supremacy about the rise of quantum computers if he computers have gone through three basic stages stage one was the analog computer so two thousand years ago there was a shipwreck and in the boat that sank was a device and when you brushed away a the dirt and debris you began to realize that it was a machine a machine of incredible complexity he was in fact the world's first analog computer and it was designed to map the motion of the moon the sun and the planet's to simulate the universe but as we primitive people's became more prosperous we had to count things count how many cows you had count how much profit you may analog computers could be based on sticks bones whatever it took the count so this went on for thousands of years until finally we reach the work of charles babbage he creates the ultimate analog computer with hundreds of years and lovers and bullies and by turning the crank you can then calculate longitude latitude you can calculate interest rates it was very valuable to have it is made like that where the banking industry for commerce then world war two comes along babbage's machine is simply too primitive rated the german code so the job was given to mathematicians like alan turing alan turing was the one who codified lot of the laws of computation into what it's called a turing machine and of course is digital know the digital revolution is based on transistors it operates on zeros and ones zeros and ones at the speed of electricity every digital computer is a turing machine the next step beyond digital computers is the quantum era where to find it was one of the founders of quantum electrodynamics but also a visionary and he asked himself a simple question how small can you make a transistor and he realize that the old transistor is an atom one atom that could control the flow of electricity not just on or off but everything in between we have to go to quantum computers computers their computer on adams rather than on transistors transistors are based on zeros zero one zero zero one reality is not reality is based on electrons and particles and these particles in turn act like waves so you have to have a new set of mathematics to discuss the way leaves that make up a molecule and that's where quantum computers come in they're based on electrons and these electrons how can they have so much computational power because they could be in two places at the same time that's what gives quantum computers their power they compute on not just one universe but an infinite number of parallel universes at the fundamental level quantum mechanics can be reduced down to a cat choate injuries cat let's take a box in the box you put a cat and the question is is the cat dead or alive well until you open the box you don't know it is alive and dead simultaneously is in a superposition of to states in other words the universe has split in half in one have the cat is alive and the other universe they get is dead that's the basis of the quantum theory that until you make a measurement the cat can exists in both states simultaneously in fact in any number of states simultaneously the cat can be dead or alive play ing jumping sideways sick any number of states now why am i mentioning this is this summarizes the power of quantum computers weren't to computers compute on parallel universes that's why they are so powerful so how much faster is a quantum computer over a digital computer in principle infinitely faster when we talk about digital computers we can measure their power in terms of bits for example spin up spin down zeros and one would constitute one bit for a large is your computer we're not talking about billions of bits that are modeled by train sisters except now quantum computers talk not just about spin up or a spin down but everything in between that's called a cuban one cupid represents all the possibilities have an object spinning between up and down thousands of cuba's can now be modeled with the latest generation of quantum computers eventually we hope to hit a million and so we're talking about exceeding the power of ordinary digital computers that's called quantum supremacy it is the point at which a quantum computer can out race and are perform a digital computer on a certain task we pass that several years ago but we want a machine that could exceed the power of any digital computer we're not there yet or very close to it the number one problem facing quantum computers is the question of d coherence everything is based on particles like electrons and electrons have waves associate with them when these waves are vibrating in unison as call coherence and then you can do calculations of a quantum mechanical nature but if you fall out of coherence that everyday vibrates at a different frequency and what is that called noise you have to reduce the temperature down to near absolute zero so everything is pretty much vibrating slowly in unison that's difficult now nature solves this problem it is the basis of all life on the earth photosynthesis for example is a quantum mechanical process mother nature can create coherence at room temperature amazing a flower can do calculations that are most advanced quantum computer cannot mother nature is still smarter than us when it comes to the quantum theory so let's face it there are hurdles affecting the growth of quantum computers but they pale in comparison to the benefits that may be unleashed by quantum computers were talking about opening the floodgates take a look for example of food supply the green revolution then allows us to feed the population of the world is slowly coming to an end we're trying to use quantum computers to unlock the secrets of how to make fertilizer from nitrogen take a look at energy quantum computers may be able to create fusion power by stabilizing the super hot hydrogen inside a fusion reactor and take a look at medicine you realize that life is based on molecules molecules they can create alzheimer's disease parkinson's disease cancer diseases are beyond the reach of digital computers but hey this is what decline to computers do will be able to model diseases at the molecular level and that's why we hope to cure the incurable using quantum computers were talking about turning medicine up i down my personal hope for quantum computers is that will be able to create a theory of the entire universe the theory that eluded einstein the theory that would explain black holes and supernovas and galactic evolution but the equations are so complex that know one no one has been able to solve them perhaps they'll be solved in the memory of a quantum computer   to learn even more from the world's biggest thinkers get big think plus for your business \", '2024-07-19 00:00:01')\n",
      "(5, 'Transcript', \"we all know the digital computers changed virtually every aspect of our life well the arrival of quantum computers could be even more historic than that we're now and the initial stages of the next revolution we're talking about a new generation of computers the ultimate computer a computer that computer on adam the ultimate constituents of batter itself the question is who's involved in this race to perfect quantum computers and the answer is everyone all the big players are part of this race because if they're not silicon valley could become the next rust belt also anyone who's interested in security is interested in the quantum computers they can crack almost any code that is based on digital technology that's why the f b i the cia and all national governments are following this is very closely what their computers will change everything the economy how he saw problems the way we interact with the universe you name it won't to computers will be there i'm doctor or michio kaku professor of theoretical physics at the city university of new york and author of quantum supremacy about the rise of quantum computers if he computers have gone through three basic stages stage one was the analog computer so two thousand years ago there was a shipwreck and in the boat that sank was a device and when you brushed away a the dirt and debris you began to realize that it was a machine a machine of incredible complexity he was in fact the world's first analog computer and it was designed to map the motion of the moon the sun and the planet's to simulate the universe but as we primitive people's became more prosperous we had to count things count how many cows you had count how much profit you may analog computers could be based on sticks bones whatever it took the count so this went on for thousands of years until finally we reach the work of charles babbage he creates the ultimate analog computer with hundreds of years and lovers and bullies and by turning the crank you can then calculate longitude latitude you can calculate interest rates it was very valuable to have it is made like that where the banking industry for commerce then world war two comes along babbage's machine is simply too primitive rated the german code so the job was given to mathematicians like alan turing alan turing was the one who codified lot of the laws of computation into what it's called a turing machine and of course is digital know the digital revolution is based on transistors it operates on zeros and ones zeros and ones at the speed of electricity every digital computer is a turing machine the next step beyond digital computers is the quantum era where to find it was one of the founders of quantum electrodynamics but also a visionary and he asked himself a simple question how small can you make a transistor and he realize that the old transistor is an atom one atom that could control the flow of electricity not just on or off but everything in between we have to go to quantum computers computers their computer on adams rather than on transistors transistors are based on zeros zero one zero zero one reality is not reality is based on electrons and particles and these particles in turn act like waves so you have to have a new set of mathematics to discuss the way leaves that make up a molecule and that's where quantum computers come in they're based on electrons and these electrons how can they have so much computational power because they could be in two places at the same time that's what gives quantum computers their power they compute on not just one universe but an infinite number of parallel universes at the fundamental level quantum mechanics can be reduced down to a cat choate injuries cat let's take a box in the box you put a cat and the question is is the cat dead or alive well until you open the box you don't know it is alive and dead simultaneously is in a superposition of to states in other words the universe has split in half in one have the cat is alive and the other universe they get is dead that's the basis of the quantum theory that until you make a measurement the cat can exists in both states simultaneously in fact in any number of states simultaneously the cat can be dead or alive play ing jumping sideways sick any number of states now why am i mentioning this is this summarizes the power of quantum computers weren't to computers compute on parallel universes that's why they are so powerful so how much faster is a quantum computer over a digital computer in principle infinitely faster when we talk about digital computers we can measure their power in terms of bits for example spin up spin down zeros and one would constitute one bit for a large is your computer we're not talking about billions of bits that are modeled by train sisters except now quantum computers talk not just about spin up or a spin down but everything in between that's called a cuban one cupid represents all the possibilities have an object spinning between up and down thousands of cuba's can now be modeled with the latest generation of quantum computers eventually we hope to hit a million and so we're talking about exceeding the power of ordinary digital computers that's called quantum supremacy it is the point at which a quantum computer can out race and are perform a digital computer on a certain task we pass that several years ago but we want a machine that could exceed the power of any digital computer we're not there yet or very close to it the number one problem facing quantum computers is the question of d coherence everything is based on particles like electrons and electrons have waves associate with them when these waves are vibrating in unison as call coherence and then you can do calculations of a quantum mechanical nature but if you fall out of coherence that everyday vibrates at a different frequency and what is that called noise you have to reduce the temperature down to near absolute zero so everything is pretty much vibrating slowly in unison that's difficult now nature solves this problem it is the basis of all life on the earth photosynthesis for example is a quantum mechanical process mother nature can create coherence at room temperature amazing a flower can do calculations that are most advanced quantum computer cannot mother nature is still smarter than us when it comes to the quantum theory so let's face it there are hurdles affecting the growth of quantum computers but they pale in comparison to the benefits that may be unleashed by quantum computers were talking about opening the floodgates take a look for example of food supply the green revolution then allows us to feed the population of the world is slowly coming to an end we're trying to use quantum computers to unlock the secrets of how to make fertilizer from nitrogen take a look at energy quantum computers may be able to create fusion power by stabilizing the super hot hydrogen inside a fusion reactor and take a look at medicine you realize that life is based on molecules molecules they can create alzheimer's disease parkinson's disease cancer diseases are beyond the reach of digital computers but hey this is what decline to computers do will be able to model diseases at the molecular level and that's why we hope to cure the incurable using quantum computers were talking about turning medicine up i down my personal hope for quantum computers is that will be able to create a theory of the entire universe the theory that eluded einstein the theory that would explain black holes and supernovas and galactic evolution but the equations are so complex that know one no one has been able to solve them perhaps they'll be solved in the memory of a quantum computer   to learn even more from the world's biggest thinkers get big think plus for your business \", '2024-07-19 00:00:01')\n",
      "(6, 'Transcript', \"we all know the digital computers changed virtually every aspect of our life well the arrival of quantum computers could be even more historic than that we're now and the initial stages of the next revolution we're talking about a new generation of computers the ultimate computer a computer that computer on adam the ultimate constituents of batter itself the question is who's involved in this race to perfect quantum computers and the answer is everyone all the big players are part of this race because if they're not silicon valley could become the next rust belt also anyone who's interested in security is interested in the quantum computers they can crack almost any code that is based on digital technology that's why the f b i the cia and all national governments are following this is very closely what their computers will change everything the economy how he saw problems the way we interact with the universe you name it won't to computers will be there i'm doctor or michio kaku professor of theoretical physics at the city university of new york and author of quantum supremacy about the rise of quantum computers if he computers have gone through three basic stages stage one was the analog computer so two thousand years ago there was a shipwreck and in the boat that sank was a device and when you brushed away a the dirt and debris you began to realize that it was a machine a machine of incredible complexity he was in fact the world's first analog computer and it was designed to map the motion of the moon the sun and the planet's to simulate the universe but as we primitive people's became more prosperous we had to count things count how many cows you had count how much profit you may analog computers could be based on sticks bones whatever it took the count so this went on for thousands of years until finally we reach the work of charles babbage he creates the ultimate analog computer with hundreds of years and lovers and bullies and by turning the crank you can then calculate longitude latitude you can calculate interest rates it was very valuable to have it is made like that where the banking industry for commerce then world war two comes along babbage's machine is simply too primitive rated the german code so the job was given to mathematicians like alan turing alan turing was the one who codified lot of the laws of computation into what it's called a turing machine and of course is digital know the digital revolution is based on transistors it operates on zeros and ones zeros and ones at the speed of electricity every digital computer is a turing machine the next step beyond digital computers is the quantum era where to find it was one of the founders of quantum electrodynamics but also a visionary and he asked himself a simple question how small can you make a transistor and he realize that the old transistor is an atom one atom that could control the flow of electricity not just on or off but everything in between we have to go to quantum computers computers their computer on adams rather than on transistors transistors are based on zeros zero one zero zero one reality is not reality is based on electrons and particles and these particles in turn act like waves so you have to have a new set of mathematics to discuss the way leaves that make up a molecule and that's where quantum computers come in they're based on electrons and these electrons how can they have so much computational power because they could be in two places at the same time that's what gives quantum computers their power they compute on not just one universe but an infinite number of parallel universes at the fundamental level quantum mechanics can be reduced down to a cat choate injuries cat let's take a box in the box you put a cat and the question is is the cat dead or alive well until you open the box you don't know it is alive and dead simultaneously is in a superposition of to states in other words the universe has split in half in one have the cat is alive and the other universe they get is dead that's the basis of the quantum theory that until you make a measurement the cat can exists in both states simultaneously in fact in any number of states simultaneously the cat can be dead or alive play ing jumping sideways sick any number of states now why am i mentioning this is this summarizes the power of quantum computers weren't to computers compute on parallel universes that's why they are so powerful so how much faster is a quantum computer over a digital computer in principle infinitely faster when we talk about digital computers we can measure their power in terms of bits for example spin up spin down zeros and one would constitute one bit for a large is your computer we're not talking about billions of bits that are modeled by train sisters except now quantum computers talk not just about spin up or a spin down but everything in between that's called a cuban one cupid represents all the possibilities have an object spinning between up and down thousands of cuba's can now be modeled with the latest generation of quantum computers eventually we hope to hit a million and so we're talking about exceeding the power of ordinary digital computers that's called quantum supremacy it is the point at which a quantum computer can out race and are perform a digital computer on a certain task we pass that several years ago but we want a machine that could exceed the power of any digital computer we're not there yet or very close to it the number one problem facing quantum computers is the question of d coherence everything is based on particles like electrons and electrons have waves associate with them when these waves are vibrating in unison as call coherence and then you can do calculations of a quantum mechanical nature but if you fall out of coherence that everyday vibrates at a different frequency and what is that called noise you have to reduce the temperature down to near absolute zero so everything is pretty much vibrating slowly in unison that's difficult now nature solves this problem it is the basis of all life on the earth photosynthesis for example is a quantum mechanical process mother nature can create coherence at room temperature amazing a flower can do calculations that are most advanced quantum computer cannot mother nature is still smarter than us when it comes to the quantum theory so let's face it there are hurdles affecting the growth of quantum computers but they pale in comparison to the benefits that may be unleashed by quantum computers were talking about opening the floodgates take a look for example of food supply the green revolution then allows us to feed the population of the world is slowly coming to an end we're trying to use quantum computers to unlock the secrets of how to make fertilizer from nitrogen take a look at energy quantum computers may be able to create fusion power by stabilizing the super hot hydrogen inside a fusion reactor and take a look at medicine you realize that life is based on molecules molecules they can create alzheimer's disease parkinson's disease cancer diseases are beyond the reach of digital computers but hey this is what decline to computers do will be able to model diseases at the molecular level and that's why we hope to cure the incurable using quantum computers were talking about turning medicine up i down my personal hope for quantum computers is that will be able to create a theory of the entire universe the theory that eluded einstein the theory that would explain black holes and supernovas and galactic evolution but the equations are so complex that know one no one has been able to solve them perhaps they'll be solved in the memory of a quantum computer   to learn even more from the world's biggest thinkers get big think plus for your business \", '2024-07-19 00:00:01')\n",
      "(7, 'Transcript', \"we all know the digital computers changed virtually every aspect of our life well the arrival of quantum computers could be even more historic than that we're now and the initial stages of the next revolution we're talking about a new generation of computers the ultimate computer a computer that computer on adam the ultimate constituents of batter itself the question is who's involved in this race to perfect quantum computers and the answer is everyone all the big players are part of this race because if they're not silicon valley could become the next rust belt also anyone who's interested in security is interested in the quantum computers they can crack almost any code that is based on digital technology that's why the f b i the cia and all national governments are following this is very closely what their computers will change everything the economy how he saw problems the way we interact with the universe you name it won't to computers will be there i'm doctor or michio kaku professor of theoretical physics at the city university of new york and author of quantum supremacy about the rise of quantum computers if he computers have gone through three basic stages stage one was the analog computer so two thousand years ago there was a shipwreck and in the boat that sank was a device and when you brushed away a the dirt and debris you began to realize that it was a machine a machine of incredible complexity he was in fact the world's first analog computer and it was designed to map the motion of the moon the sun and the planet's to simulate the universe but as we primitive people's became more prosperous we had to count things count how many cows you had count how much profit you may analog computers could be based on sticks bones whatever it took the count so this went on for thousands of years until finally we reach the work of charles babbage he creates the ultimate analog computer with hundreds of years and lovers and bullies and by turning the crank you can then calculate longitude latitude you can calculate interest rates it was very valuable to have it is made like that where the banking industry for commerce then world war two comes along babbage's machine is simply too primitive rated the german code so the job was given to mathematicians like alan turing alan turing was the one who codified lot of the laws of computation into what it's called a turing machine and of course is digital know the digital revolution is based on transistors it operates on zeros and ones zeros and ones at the speed of electricity every digital computer is a turing machine the next step beyond digital computers is the quantum era where to find it was one of the founders of quantum electrodynamics but also a visionary and he asked himself a simple question how small can you make a transistor and he realize that the old transistor is an atom one atom that could control the flow of electricity not just on or off but everything in between we have to go to quantum computers computers their computer on adams rather than on transistors transistors are based on zeros zero one zero zero one reality is not reality is based on electrons and particles and these particles in turn act like waves so you have to have a new set of mathematics to discuss the way leaves that make up a molecule and that's where quantum computers come in they're based on electrons and these electrons how can they have so much computational power because they could be in two places at the same time that's what gives quantum computers their power they compute on not just one universe but an infinite number of parallel universes at the fundamental level quantum mechanics can be reduced down to a cat choate injuries cat let's take a box in the box you put a cat and the question is is the cat dead or alive well until you open the box you don't know it is alive and dead simultaneously is in a superposition of to states in other words the universe has split in half in one have the cat is alive and the other universe they get is dead that's the basis of the quantum theory that until you make a measurement the cat can exists in both states simultaneously in fact in any number of states simultaneously the cat can be dead or alive play ing jumping sideways sick any number of states now why am i mentioning this is this summarizes the power of quantum computers weren't to computers compute on parallel universes that's why they are so powerful so how much faster is a quantum computer over a digital computer in principle infinitely faster when we talk about digital computers we can measure their power in terms of bits for example spin up spin down zeros and one would constitute one bit for a large is your computer we're not talking about billions of bits that are modeled by train sisters except now quantum computers talk not just about spin up or a spin down but everything in between that's called a cuban one cupid represents all the possibilities have an object spinning between up and down thousands of cuba's can now be modeled with the latest generation of quantum computers eventually we hope to hit a million and so we're talking about exceeding the power of ordinary digital computers that's called quantum supremacy it is the point at which a quantum computer can out race and are perform a digital computer on a certain task we pass that several years ago but we want a machine that could exceed the power of any digital computer we're not there yet or very close to it the number one problem facing quantum computers is the question of d coherence everything is based on particles like electrons and electrons have waves associate with them when these waves are vibrating in unison as call coherence and then you can do calculations of a quantum mechanical nature but if you fall out of coherence that everyday vibrates at a different frequency and what is that called noise you have to reduce the temperature down to near absolute zero so everything is pretty much vibrating slowly in unison that's difficult now nature solves this problem it is the basis of all life on the earth photosynthesis for example is a quantum mechanical process mother nature can create coherence at room temperature amazing a flower can do calculations that are most advanced quantum computer cannot mother nature is still smarter than us when it comes to the quantum theory so let's face it there are hurdles affecting the growth of quantum computers but they pale in comparison to the benefits that may be unleashed by quantum computers were talking about opening the floodgates take a look for example of food supply the green revolution then allows us to feed the population of the world is slowly coming to an end we're trying to use quantum computers to unlock the secrets of how to make fertilizer from nitrogen take a look at energy quantum computers may be able to create fusion power by stabilizing the super hot hydrogen inside a fusion reactor and take a look at medicine you realize that life is based on molecules molecules they can create alzheimer's disease parkinson's disease cancer diseases are beyond the reach of digital computers but hey this is what decline to computers do will be able to model diseases at the molecular level and that's why we hope to cure the incurable using quantum computers were talking about turning medicine up i down my personal hope for quantum computers is that will be able to create a theory of the entire universe the theory that eluded einstein the theory that would explain black holes and supernovas and galactic evolution but the equations are so complex that know one no one has been able to solve them perhaps they'll be solved in the memory of a quantum computer   to learn even more from the world's biggest thinkers get big think plus for your business \", '2024-07-19 00:00:01')\n",
      "(8, 'Transcript', \"we all know the digital computers changed virtually every aspect of our life well the arrival of quantum computers could be even more historic than that we're now and the initial stages of the next revolution we're talking about a new generation of computers the ultimate computer a computer that computer on adam the ultimate constituents of batter itself the question is who's involved in this race to perfect quantum computers and the answer is everyone all the big players are part of this race because if they're not silicon valley could become the next rust belt also anyone who's interested in security is interested in the quantum computers they can crack almost any code that is based on digital technology that's why the f b i the cia and all national governments are following this is very closely what their computers will change everything the economy how he saw problems the way we interact with the universe you name it won't to computers will be there i'm doctor or michio kaku professor of theoretical physics at the city university of new york and author of quantum supremacy about the rise of quantum computers if he computers have gone through three basic stages stage one was the analog computer so two thousand years ago there was a shipwreck and in the boat that sank was a device and when you brushed away a the dirt and debris you began to realize that it was a machine a machine of incredible complexity he was in fact the world's first analog computer and it was designed to map the motion of the moon the sun and the planet's to simulate the universe but as we primitive people's became more prosperous we had to count things count how many cows you had count how much profit you may analog computers could be based on sticks bones whatever it took the count so this went on for thousands of years until finally we reach the work of charles babbage he creates the ultimate analog computer with hundreds of years and lovers and bullies and by turning the crank you can then calculate longitude latitude you can calculate interest rates it was very valuable to have it is made like that where the banking industry for commerce then world war two comes along babbage's machine is simply too primitive rated the german code so the job was given to mathematicians like alan turing alan turing was the one who codified lot of the laws of computation into what it's called a turing machine and of course is digital know the digital revolution is based on transistors it operates on zeros and ones zeros and ones at the speed of electricity every digital computer is a turing machine the next step beyond digital computers is the quantum era where to find it was one of the founders of quantum electrodynamics but also a visionary and he asked himself a simple question how small can you make a transistor and he realize that the old transistor is an atom one atom that could control the flow of electricity not just on or off but everything in between we have to go to quantum computers computers their computer on adams rather than on transistors transistors are based on zeros zero one zero zero one reality is not reality is based on electrons and particles and these particles in turn act like waves so you have to have a new set of mathematics to discuss the way leaves that make up a molecule and that's where quantum computers come in they're based on electrons and these electrons how can they have so much computational power because they could be in two places at the same time that's what gives quantum computers their power they compute on not just one universe but an infinite number of parallel universes at the fundamental level quantum mechanics can be reduced down to a cat choate injuries cat let's take a box in the box you put a cat and the question is is the cat dead or alive well until you open the box you don't know it is alive and dead simultaneously is in a superposition of to states in other words the universe has split in half in one have the cat is alive and the other universe they get is dead that's the basis of the quantum theory that until you make a measurement the cat can exists in both states simultaneously in fact in any number of states simultaneously the cat can be dead or alive play ing jumping sideways sick any number of states now why am i mentioning this is this summarizes the power of quantum computers weren't to computers compute on parallel universes that's why they are so powerful so how much faster is a quantum computer over a digital computer in principle infinitely faster when we talk about digital computers we can measure their power in terms of bits for example spin up spin down zeros and one would constitute one bit for a large is your computer we're not talking about billions of bits that are modeled by train sisters except now quantum computers talk not just about spin up or a spin down but everything in between that's called a cuban one cupid represents all the possibilities have an object spinning between up and down thousands of cuba's can now be modeled with the latest generation of quantum computers eventually we hope to hit a million and so we're talking about exceeding the power of ordinary digital computers that's called quantum supremacy it is the point at which a quantum computer can out race and are perform a digital computer on a certain task we pass that several years ago but we want a machine that could exceed the power of any digital computer we're not there yet or very close to it the number one problem facing quantum computers is the question of d coherence everything is based on particles like electrons and electrons have waves associate with them when these waves are vibrating in unison as call coherence and then you can do calculations of a quantum mechanical nature but if you fall out of coherence that everyday vibrates at a different frequency and what is that called noise you have to reduce the temperature down to near absolute zero so everything is pretty much vibrating slowly in unison that's difficult now nature solves this problem it is the basis of all life on the earth photosynthesis for example is a quantum mechanical process mother nature can create coherence at room temperature amazing a flower can do calculations that are most advanced quantum computer cannot mother nature is still smarter than us when it comes to the quantum theory so let's face it there are hurdles affecting the growth of quantum computers but they pale in comparison to the benefits that may be unleashed by quantum computers were talking about opening the floodgates take a look for example of food supply the green revolution then allows us to feed the population of the world is slowly coming to an end we're trying to use quantum computers to unlock the secrets of how to make fertilizer from nitrogen take a look at energy quantum computers may be able to create fusion power by stabilizing the super hot hydrogen inside a fusion reactor and take a look at medicine you realize that life is based on molecules molecules they can create alzheimer's disease parkinson's disease cancer diseases are beyond the reach of digital computers but hey this is what decline to computers do will be able to model diseases at the molecular level and that's why we hope to cure the incurable using quantum computers were talking about turning medicine up i down my personal hope for quantum computers is that will be able to create a theory of the entire universe the theory that eluded einstein the theory that would explain black holes and supernovas and galactic evolution but the equations are so complex that know one no one has been able to solve them perhaps they'll be solved in the memory of a quantum computer   to learn even more from the world's biggest thinkers get big think plus for your business \", '2024-07-19 00:00:01')\n",
      "(9, 'Transcript', \"we all know the digital computers changed virtually every aspect of our life well the arrival of quantum computers could be even more historic than that we're now and the initial stages of the next revolution we're talking about a new generation of computers the ultimate computer a computer that computer on adam the ultimate constituents of batter itself the question is who's involved in this race to perfect quantum computers and the answer is everyone all the big players are part of this race because if they're not silicon valley could become the next rust belt also anyone who's interested in security is interested in the quantum computers they can crack almost any code that is based on digital technology that's why the f b i the cia and all national governments are following this is very closely what their computers will change everything the economy how he saw problems the way we interact with the universe you name it won't to computers will be there i'm doctor or michio kaku professor of theoretical physics at the city university of new york and author of quantum supremacy about the rise of quantum computers if he computers have gone through three basic stages stage one was the analog computer so two thousand years ago there was a shipwreck and in the boat that sank was a device and when you brushed away a the dirt and debris you began to realize that it was a machine a machine of incredible complexity he was in fact the world's first analog computer and it was designed to map the motion of the moon the sun and the planet's to simulate the universe but as we primitive people's became more prosperous we had to count things count how many cows you had count how much profit you may analog computers could be based on sticks bones whatever it took the count so this went on for thousands of years until finally we reach the work of charles babbage he creates the ultimate analog computer with hundreds of years and lovers and bullies and by turning the crank you can then calculate longitude latitude you can calculate interest rates it was very valuable to have it is made like that where the banking industry for commerce then world war two comes along babbage's machine is simply too primitive rated the german code so the job was given to mathematicians like alan turing alan turing was the one who codified lot of the laws of computation into what it's called a turing machine and of course is digital know the digital revolution is based on transistors it operates on zeros and ones zeros and ones at the speed of electricity every digital computer is a turing machine the next step beyond digital computers is the quantum era where to find it was one of the founders of quantum electrodynamics but also a visionary and he asked himself a simple question how small can you make a transistor and he realize that the old transistor is an atom one atom that could control the flow of electricity not just on or off but everything in between we have to go to quantum computers computers their computer on adams rather than on transistors transistors are based on zeros zero one zero zero one reality is not reality is based on electrons and particles and these particles in turn act like waves so you have to have a new set of mathematics to discuss the way leaves that make up a molecule and that's where quantum computers come in they're based on electrons and these electrons how can they have so much computational power because they could be in two places at the same time that's what gives quantum computers their power they compute on not just one universe but an infinite number of parallel universes at the fundamental level quantum mechanics can be reduced down to a cat choate injuries cat let's take a box in the box you put a cat and the question is is the cat dead or alive well until you open the box you don't know it is alive and dead simultaneously is in a superposition of to states in other words the universe has split in half in one have the cat is alive and the other universe they get is dead that's the basis of the quantum theory that until you make a measurement the cat can exists in both states simultaneously in fact in any number of states simultaneously the cat can be dead or alive play ing jumping sideways sick any number of states now why am i mentioning this is this summarizes the power of quantum computers weren't to computers compute on parallel universes that's why they are so powerful so how much faster is a quantum computer over a digital computer in principle infinitely faster when we talk about digital computers we can measure their power in terms of bits for example spin up spin down zeros and one would constitute one bit for a large is your computer we're not talking about billions of bits that are modeled by train sisters except now quantum computers talk not just about spin up or a spin down but everything in between that's called a cuban one cupid represents all the possibilities have an object spinning between up and down thousands of cuba's can now be modeled with the latest generation of quantum computers eventually we hope to hit a million and so we're talking about exceeding the power of ordinary digital computers that's called quantum supremacy it is the point at which a quantum computer can out race and are perform a digital computer on a certain task we pass that several years ago but we want a machine that could exceed the power of any digital computer we're not there yet or very close to it the number one problem facing quantum computers is the question of d coherence everything is based on particles like electrons and electrons have waves associate with them when these waves are vibrating in unison as call coherence and then you can do calculations of a quantum mechanical nature but if you fall out of coherence that everyday vibrates at a different frequency and what is that called noise you have to reduce the temperature down to near absolute zero so everything is pretty much vibrating slowly in unison that's difficult now nature solves this problem it is the basis of all life on the earth photosynthesis for example is a quantum mechanical process mother nature can create coherence at room temperature amazing a flower can do calculations that are most advanced quantum computer cannot mother nature is still smarter than us when it comes to the quantum theory so let's face it there are hurdles affecting the growth of quantum computers but they pale in comparison to the benefits that may be unleashed by quantum computers were talking about opening the floodgates take a look for example of food supply the green revolution then allows us to feed the population of the world is slowly coming to an end we're trying to use quantum computers to unlock the secrets of how to make fertilizer from nitrogen take a look at energy quantum computers may be able to create fusion power by stabilizing the super hot hydrogen inside a fusion reactor and take a look at medicine you realize that life is based on molecules molecules they can create alzheimer's disease parkinson's disease cancer diseases are beyond the reach of digital computers but hey this is what decline to computers do will be able to model diseases at the molecular level and that's why we hope to cure the incurable using quantum computers were talking about turning medicine up i down my personal hope for quantum computers is that will be able to create a theory of the entire universe the theory that eluded einstein the theory that would explain black holes and supernovas and galactic evolution but the equations are so complex that know one no one has been able to solve them perhaps they'll be solved in the memory of a quantum computer   to learn even more from the world's biggest thinkers get big think plus for your business \", '2024-07-19 00:00:01')\n",
      "(10, 'Transcript', \"we all know the digital computers changed virtually every aspect of our life well the arrival of quantum computers could be even more historic than that we're now and the initial stages of the next revolution we're talking about a new generation of computers the ultimate computer a computer that computer on adam the ultimate constituents of batter itself the question is who's involved in this race to perfect quantum computers and the answer is everyone all the big players are part of this race because if they're not silicon valley could become the next rust belt also anyone who's interested in security is interested in the quantum computers they can crack almost any code that is based on digital technology that's why the f b i the cia and all national governments are following this is very closely what their computers will change everything the economy how he saw problems the way we interact with the universe you name it won't to computers will be there i'm doctor or michio kaku professor of theoretical physics at the city university of new york and author of quantum supremacy about the rise of quantum computers if he computers have gone through three basic stages stage one was the analog computer so two thousand years ago there was a shipwreck and in the boat that sank was a device and when you brushed away a the dirt and debris you began to realize that it was a machine a machine of incredible complexity he was in fact the world's first analog computer and it was designed to map the motion of the moon the sun and the planet's to simulate the universe but as we primitive people's became more prosperous we had to count things count how many cows you had count how much profit you may analog computers could be based on sticks bones whatever it took the count so this went on for thousands of years until finally we reach the work of charles babbage he creates the ultimate analog computer with hundreds of years and lovers and bullies and by turning the crank you can then calculate longitude latitude you can calculate interest rates it was very valuable to have it is made like that where the banking industry for commerce then world war two comes along babbage's machine is simply too primitive rated the german code so the job was given to mathematicians like alan turing alan turing was the one who codified lot of the laws of computation into what it's called a turing machine and of course is digital know the digital revolution is based on transistors it operates on zeros and ones zeros and ones at the speed of electricity every digital computer is a turing machine the next step beyond digital computers is the quantum era where to find it was one of the founders of quantum electrodynamics but also a visionary and he asked himself a simple question how small can you make a transistor and he realize that the old transistor is an atom one atom that could control the flow of electricity not just on or off but everything in between we have to go to quantum computers computers their computer on adams rather than on transistors transistors are based on zeros zero one zero zero one reality is not reality is based on electrons and particles and these particles in turn act like waves so you have to have a new set of mathematics to discuss the way leaves that make up a molecule and that's where quantum computers come in they're based on electrons and these electrons how can they have so much computational power because they could be in two places at the same time that's what gives quantum computers their power they compute on not just one universe but an infinite number of parallel universes at the fundamental level quantum mechanics can be reduced down to a cat choate injuries cat let's take a box in the box you put a cat and the question is is the cat dead or alive well until you open the box you don't know it is alive and dead simultaneously is in a superposition of to states in other words the universe has split in half in one have the cat is alive and the other universe they get is dead that's the basis of the quantum theory that until you make a measurement the cat can exists in both states simultaneously in fact in any number of states simultaneously the cat can be dead or alive play ing jumping sideways sick any number of states now why am i mentioning this is this summarizes the power of quantum computers weren't to computers compute on parallel universes that's why they are so powerful so how much faster is a quantum computer over a digital computer in principle infinitely faster when we talk about digital computers we can measure their power in terms of bits for example spin up spin down zeros and one would constitute one bit for a large is your computer we're not talking about billions of bits that are modeled by train sisters except now quantum computers talk not just about spin up or a spin down but everything in between that's called a cuban one cupid represents all the possibilities have an object spinning between up and down thousands of cuba's can now be modeled with the latest generation of quantum computers eventually we hope to hit a million and so we're talking about exceeding the power of ordinary digital computers that's called quantum supremacy it is the point at which a quantum computer can out race and are perform a digital computer on a certain task we pass that several years ago but we want a machine that could exceed the power of any digital computer we're not there yet or very close to it the number one problem facing quantum computers is the question of d coherence everything is based on particles like electrons and electrons have waves associate with them when these waves are vibrating in unison as call coherence and then you can do calculations of a quantum mechanical nature but if you fall out of coherence that everyday vibrates at a different frequency and what is that called noise you have to reduce the temperature down to near absolute zero so everything is pretty much vibrating slowly in unison that's difficult now nature solves this problem it is the basis of all life on the earth photosynthesis for example is a quantum mechanical process mother nature can create coherence at room temperature amazing a flower can do calculations that are most advanced quantum computer cannot mother nature is still smarter than us when it comes to the quantum theory so let's face it there are hurdles affecting the growth of quantum computers but they pale in comparison to the benefits that may be unleashed by quantum computers were talking about opening the floodgates take a look for example of food supply the green revolution then allows us to feed the population of the world is slowly coming to an end we're trying to use quantum computers to unlock the secrets of how to make fertilizer from nitrogen take a look at energy quantum computers may be able to create fusion power by stabilizing the super hot hydrogen inside a fusion reactor and take a look at medicine you realize that life is based on molecules molecules they can create alzheimer's disease parkinson's disease cancer diseases are beyond the reach of digital computers but hey this is what decline to computers do will be able to model diseases at the molecular level and that's why we hope to cure the incurable using quantum computers were talking about turning medicine up i down my personal hope for quantum computers is that will be able to create a theory of the entire universe the theory that eluded einstein the theory that would explain black holes and supernovas and galactic evolution but the equations are so complex that know one no one has been able to solve them perhaps they'll be solved in the memory of a quantum computer   to learn even more from the world's biggest thinkers get big think plus for your business \", '2024-07-19 00:00:01')\n",
      "(11, 'Transcript', \"we all know the digital computers changed virtually every aspect of our life well the arrival of quantum computers could be even more historic than that we're now and the initial stages of the next revolution we're talking about a new generation of computers the ultimate computer a computer that computer on adam the ultimate constituents of batter itself the question is who's involved in this race to perfect quantum computers and the answer is everyone all the big players are part of this race because if they're not silicon valley could become the next rust belt also anyone who's interested in security is interested in the quantum computers they can crack almost any code that is based on digital technology that's why the f b i the cia and all national governments are following this is very closely what their computers will change everything the economy how he saw problems the way we interact with the universe you name it won't to computers will be there i'm doctor or michio kaku professor of theoretical physics at the city university of new york and author of quantum supremacy about the rise of quantum computers if he computers have gone through three basic stages stage one was the analog computer so two thousand years ago there was a shipwreck and in the boat that sank was a device and when you brushed away a the dirt and debris you began to realize that it was a machine a machine of incredible complexity he was in fact the world's first analog computer and it was designed to map the motion of the moon the sun and the planet's to simulate the universe but as we primitive people's became more prosperous we had to count things count how many cows you had count how much profit you may analog computers could be based on sticks bones whatever it took the count so this went on for thousands of years until finally we reach the work of charles babbage he creates the ultimate analog computer with hundreds of years and lovers and bullies and by turning the crank you can then calculate longitude latitude you can calculate interest rates it was very valuable to have it is made like that where the banking industry for commerce then world war two comes along babbage's machine is simply too primitive rated the german code so the job was given to mathematicians like alan turing alan turing was the one who codified lot of the laws of computation into what it's called a turing machine and of course is digital know the digital revolution is based on transistors it operates on zeros and ones zeros and ones at the speed of electricity every digital computer is a turing machine the next step beyond digital computers is the quantum era where to find it was one of the founders of quantum electrodynamics but also a visionary and he asked himself a simple question how small can you make a transistor and he realize that the old transistor is an atom one atom that could control the flow of electricity not just on or off but everything in between we have to go to quantum computers computers their computer on adams rather than on transistors transistors are based on zeros zero one zero zero one reality is not reality is based on electrons and particles and these particles in turn act like waves so you have to have a new set of mathematics to discuss the way leaves that make up a molecule and that's where quantum computers come in they're based on electrons and these electrons how can they have so much computational power because they could be in two places at the same time that's what gives quantum computers their power they compute on not just one universe but an infinite number of parallel universes at the fundamental level quantum mechanics can be reduced down to a cat choate injuries cat let's take a box in the box you put a cat and the question is is the cat dead or alive well until you open the box you don't know it is alive and dead simultaneously is in a superposition of to states in other words the universe has split in half in one have the cat is alive and the other universe they get is dead that's the basis of the quantum theory that until you make a measurement the cat can exists in both states simultaneously in fact in any number of states simultaneously the cat can be dead or alive play ing jumping sideways sick any number of states now why am i mentioning this is this summarizes the power of quantum computers weren't to computers compute on parallel universes that's why they are so powerful so how much faster is a quantum computer over a digital computer in principle infinitely faster when we talk about digital computers we can measure their power in terms of bits for example spin up spin down zeros and one would constitute one bit for a large is your computer we're not talking about billions of bits that are modeled by train sisters except now quantum computers talk not just about spin up or a spin down but everything in between that's called a cuban one cupid represents all the possibilities have an object spinning between up and down thousands of cuba's can now be modeled with the latest generation of quantum computers eventually we hope to hit a million and so we're talking about exceeding the power of ordinary digital computers that's called quantum supremacy it is the point at which a quantum computer can out race and are perform a digital computer on a certain task we pass that several years ago but we want a machine that could exceed the power of any digital computer we're not there yet or very close to it the number one problem facing quantum computers is the question of d coherence everything is based on particles like electrons and electrons have waves associate with them when these waves are vibrating in unison as call coherence and then you can do calculations of a quantum mechanical nature but if you fall out of coherence that everyday vibrates at a different frequency and what is that called noise you have to reduce the temperature down to near absolute zero so everything is pretty much vibrating slowly in unison that's difficult now nature solves this problem it is the basis of all life on the earth photosynthesis for example is a quantum mechanical process mother nature can create coherence at room temperature amazing a flower can do calculations that are most advanced quantum computer cannot mother nature is still smarter than us when it comes to the quantum theory so let's face it there are hurdles affecting the growth of quantum computers but they pale in comparison to the benefits that may be unleashed by quantum computers were talking about opening the floodgates take a look for example of food supply the green revolution then allows us to feed the population of the world is slowly coming to an end we're trying to use quantum computers to unlock the secrets of how to make fertilizer from nitrogen take a look at energy quantum computers may be able to create fusion power by stabilizing the super hot hydrogen inside a fusion reactor and take a look at medicine you realize that life is based on molecules molecules they can create alzheimer's disease parkinson's disease cancer diseases are beyond the reach of digital computers but hey this is what decline to computers do will be able to model diseases at the molecular level and that's why we hope to cure the incurable using quantum computers were talking about turning medicine up i down my personal hope for quantum computers is that will be able to create a theory of the entire universe the theory that eluded einstein the theory that would explain black holes and supernovas and galactic evolution but the equations are so complex that know one no one has been able to solve them perhaps they'll be solved in the memory of a quantum computer   to learn even more from the world's biggest thinkers get big think plus for your business \", '2025-07-19 00:00:01')\n",
      "(12, 'Transcript', \"we all know the digital computers changed virtually every aspect of our life well the arrival of quantum computers could be even more historic than that we're now and the initial stages of the next revolution we're talking about a new generation of computers the ultimate computer a computer that computer on adam the ultimate constituents of batter itself the question is who's involved in this race to perfect quantum computers and the answer is everyone all the big players are part of this race because if they're not silicon valley could become the next rust belt also anyone who's interested in security is interested in the quantum computers they can crack almost any code that is based on digital technology that's why the f b i the cia and all national governments are following this is very closely what their computers will change everything the economy how he saw problems the way we interact with the universe you name it won't to computers will be there i'm doctor or michio kaku professor of theoretical physics at the city university of new york and author of quantum supremacy about the rise of quantum computers if he computers have gone through three basic stages stage one was the analog computer so two thousand years ago there was a shipwreck and in the boat that sank was a device and when you brushed away a the dirt and debris you began to realize that it was a machine a machine of incredible complexity he was in fact the world's first analog computer and it was designed to map the motion of the moon the sun and the planet's to simulate the universe but as we primitive people's became more prosperous we had to count things count how many cows you had count how much profit you may analog computers could be based on sticks bones whatever it took the count so this went on for thousands of years until finally we reach the work of charles babbage he creates the ultimate analog computer with hundreds of years and lovers and bullies and by turning the crank you can then calculate longitude latitude you can calculate interest rates it was very valuable to have it is made like that where the banking industry for commerce then world war two comes along babbage's machine is simply too primitive rated the german code so the job was given to mathematicians like alan turing alan turing was the one who codified lot of the laws of computation into what it's called a turing machine and of course is digital know the digital revolution is based on transistors it operates on zeros and ones zeros and ones at the speed of electricity every digital computer is a turing machine the next step beyond digital computers is the quantum era where to find it was one of the founders of quantum electrodynamics but also a visionary and he asked himself a simple question how small can you make a transistor and he realize that the old transistor is an atom one atom that could control the flow of electricity not just on or off but everything in between we have to go to quantum computers computers their computer on adams rather than on transistors transistors are based on zeros zero one zero zero one reality is not reality is based on electrons and particles and these particles in turn act like waves so you have to have a new set of mathematics to discuss the way leaves that make up a molecule and that's where quantum computers come in they're based on electrons and these electrons how can they have so much computational power because they could be in two places at the same time that's what gives quantum computers their power they compute on not just one universe but an infinite number of parallel universes at the fundamental level quantum mechanics can be reduced down to a cat choate injuries cat let's take a box in the box you put a cat and the question is is the cat dead or alive well until you open the box you don't know it is alive and dead simultaneously is in a superposition of to states in other words the universe has split in half in one have the cat is alive and the other universe they get is dead that's the basis of the quantum theory that until you make a measurement the cat can exists in both states simultaneously in fact in any number of states simultaneously the cat can be dead or alive play ing jumping sideways sick any number of states now why am i mentioning this is this summarizes the power of quantum computers weren't to computers compute on parallel universes that's why they are so powerful so how much faster is a quantum computer over a digital computer in principle infinitely faster when we talk about digital computers we can measure their power in terms of bits for example spin up spin down zeros and one would constitute one bit for a large is your computer we're not talking about billions of bits that are modeled by train sisters except now quantum computers talk not just about spin up or a spin down but everything in between that's called a cuban one cupid represents all the possibilities have an object spinning between up and down thousands of cuba's can now be modeled with the latest generation of quantum computers eventually we hope to hit a million and so we're talking about exceeding the power of ordinary digital computers that's called quantum supremacy it is the point at which a quantum computer can out race and are perform a digital computer on a certain task we pass that several years ago but we want a machine that could exceed the power of any digital computer we're not there yet or very close to it the number one problem facing quantum computers is the question of d coherence everything is based on particles like electrons and electrons have waves associate with them when these waves are vibrating in unison as call coherence and then you can do calculations of a quantum mechanical nature but if you fall out of coherence that everyday vibrates at a different frequency and what is that called noise you have to reduce the temperature down to near absolute zero so everything is pretty much vibrating slowly in unison that's difficult now nature solves this problem it is the basis of all life on the earth photosynthesis for example is a quantum mechanical process mother nature can create coherence at room temperature amazing a flower can do calculations that are most advanced quantum computer cannot mother nature is still smarter than us when it comes through the quantum theory so let's face it there are hurdles affecting the growth of quantum computers but they pale in comparison to the benefits that may be unleashed by quantum computers were talking about opening the floodgates take a look for example of food supply the green revolution then allows us to feed the population of the world is slowly coming to an end we're trying to use quantum computers to unlock the secrets of how to make fertilizer from nitrogen take a look at energy quantum computers may be able to create fusion power by stabilizing the super hot hydrogen inside a fusion reactor and take a look at medicine you realize that life is based on molecules molecules they can create alzheimer's disease parkinson's disease cancer diseases are beyond the reach of digital computers but hey this is what decline to computers do will be able to model diseases at the molecular level and that's why we hope to cure the incurable using quantum computers were talking about turning medicine up i down my personal hope for quantum computers is that will be able to create a theory of the entire universe the theory that eluded einstein the theory that would explain black holes and supernovas and galactic evolution but the equations are so complex that know one no one has been able to solve them perhaps they'll be solved in the memory of a quantum computer   to learn even more from the world's biggest thinkers get big think plus for your business \", '2025-07-19 00:00:01')\n",
      "(13, 'Transcript', \"we all know the digital computers changed virtually every aspect of our life well the arrival of quantum computers could be even more historic than that we're now and the initial stages of the next revolution we're talking about a new generation of computers the ultimate computer a computer that computer on adam the ultimate constituents of batter itself the question is who's involved in this race to perfect quantum computers and the answer is everyone all the big players are part of this race because if they're not silicon valley could become the next rust belt also anyone who's interested in security is interested in the quantum computers they can crack almost any code that is based on digital technology that's why the f b i the cia and all national governments are following this is very closely what their computers will change everything the economy how he saw problems the way we interact with the universe you name it won't to computers will be there i'm doctor or michio kaku professor of theoretical physics at the city university of new york and author of quantum supremacy about the rise of quantum computers if he computers have gone through three basic stages stage one was the analog computer so two thousand years ago there was a shipwreck and in the boat that sank was a device and when you brushed away a the dirt and debris you began to realize that it was a machine a machine of incredible complexity he was in fact the world's first analog computer and it was designed to map the motion of the moon the sun and the planet's to simulate the universe but as we primitive people's became more prosperous we had to count things count how many cows you had count how much profit you may analog computers could be based on sticks bones whatever it took the count so this went on for thousands of years until finally we reach the work of charles babbage he creates the ultimate analog computer with hundreds of years and lovers and bullies and by turning the crank you can then calculate longitude latitude you can calculate interest rates it was very valuable to have it is made like that where the banking industry for commerce then world war two comes along babbage's machine is simply too primitive rated the german code so the job was given to mathematicians like alan turing alan turing was the one who codified lot of the laws of computation into what it's called a turing machine and of course is digital know the digital revolution is based on transistors it operates on zeros and ones zeros and ones at the speed of electricity every digital computer is a turing machine the next step beyond digital computers is the quantum era where to find it was one of the founders of quantum electrodynamics but also a visionary and he asked himself a simple question how small can you make a transistor and he realize that the old transistor is an atom one atom that could control the flow of electricity not just on or off but everything in between we have to go to quantum computers computers their computer on adams rather than on transistors transistors are based on zero and one zero zero one reality is not reality is based on electrons and particles and these particles in turn act like waves so you have to have a new set of mathematics to discuss the way leaves that make up a molecule and that's where quantum computers come in they're based on electrons and these electrons how can they have so much computational power because they could be in two places at the same time that's what gives quantum computers their power they compute on not just one universe but an infinite number of parallel universes at the fundamental level quantum mechanics can be reduced down to a cat should injuries cat let's take a box in the box you put a cat and the question is is the cat dead or alive well until you open the box you don't know it is alive and dead simultaneously is in a superposition of to states in other words the universe has split in half in one have the cat is alive and the other universe they get is dead that's the basis of the quantum theory that until you make a measurement the cat can exists in both states simultaneously in fact in any number of states simultaneously the cat can be dead or alive play ing jumping sideways sick any number of states now why am i mentioning this is this summarizes the power of quantum computers weren't to computers compute on parallel universes that's why they are so powerful so how much faster is a quantum computer over a digital computer in principle infinitely faster when we talk about digital computers we can measure their power in terms of bits for example spin up spin down zeros and one would constitute one bit for a large is your computer we're not talking about billions of bits that are modeled by train sisters except now quantum computers talk not just about spin up or a spin down but everything in between that's called a cuban one cupid represents all the possibilities have an object spinning between up and down thousands of cuba's can now be modeled with the latest generation of quantum computers eventually we hope to hit a million and so we're talking about exceeding the power of ordinary digital computers that's called quantum supremacy it is the point at which a quantum computer can out race and are perform a digital computer on a certain task we pass that several years ago but we want a machine that could exceed the power of any digital computer we're not there yet or very close to it the number one problem facing quantum computers is the question of d coherence everything is based on particles like electrons and electrons have waves associate with them when these waves are vibrating in unison as call coherence and then you can do calculations of a quantum mechanical nature but if you fall out of coherence that everyday vibrates at a different frequency and what is that called noise you have to reduce the temperature down to near absolute zero so everything is pretty much vibrating slowly in unison that's difficult now nature solves this problem it is the basis of all life on the earth photosynthesis for example is a quantum mechanical process mother nature can create coherence at room temperature amazing a flower can do calculations that are most advanced quantum computer cannot mother nature is still smarter than us when it comes to the quantum theory so let's face it there are hurdles affecting the growth of quantum computers but they pale in comparison to the benefits that may be unleashed by quantum computers were talking about opening the floodgates take a look for example of food supply the green revolution then allows us to feed the population of the world is slowly coming to an end we're trying to use quantum computers to unlock the secrets of how to make fertilizer from nitrogen take a look at energy quantum computers may be able to create fusion power by stabilizing the super hot hydrogen inside a fusion reactor and take a look at medicine you realize that life is based on molecules molecules they can create alzheimer's disease parkinson's disease cancer diseases are beyond the reach of digital computers but hey this is what a to computers do will be able to model diseases at the molecular level and that's why we hope to cure the incurable using quantum computers were talking about turning medicine up i down my personal hope for quantum computers is that will be able to create a theory of the entire universe the theory that eluded einstein the theory that would explain black holes and supernovas and galactic evolution but the equations are so complex that know one no one has been able to solve them perhaps they'll be solved in the memory of a quantum computer   to learn even more from the world's biggest thinkers get big think plus for your business \", '2025-07-19 00:00:01')\n",
      "(14, 'Transcript', \"we all know the digital computers changed virtually every aspect of our life well the arrival of quantum computers could be even more historic than that we're now and the initial stages of the next revolution we're talking about a new generation of computers the ultimate computer a computer that computer on adam the ultimate constituents of batter itself the question is who's involved in this race to perfect quantum computers and the answer is everyone all the big players are part of this race because if they're not silicon valley could become the next rust belt also anyone who's interested in security is interested in the quantum computers they can crack almost any code that is based on digital technology that's why the f b i the cia and all national governments are following this is very closely what their computers will change everything the economy how he saw problems the way we interact with the universe you name it won't to computers will be there i'm doctor or michio kaku professor of theoretical physics at the city university of new york and author of quantum supremacy about the rise of quantum computers if he computers have gone through three basic stages stage one was the analog computer so two thousand years ago there was a shipwreck and in the boat that sank was a device and when you brushed away a the dirt and debris you began to realize that it was a machine a machine of incredible complexity he was in fact the world's first analog computer and it was designed to map the motion of the moon the sun and the planet's to simulate the universe but as we primitive people's became more prosperous we had to count things count how many cows you had count how much profit you may analog computers could be based on sticks bones whatever it took the count so this went on for thousands of years until finally we reach the work of charles babbage he creates the ultimate analog computer with hundreds of years and lovers and bullies and by turning the crank you can then calculate longitude latitude you can calculate interest rates it was very valuable to have it is made like that where the banking industry for commerce then world war two comes along babbage's machine is simply too primitive rated the german code so the job was given to mathematicians like alan turing alan turing was the one who codified lot of the laws of computation into what it's called a turing machine and of course is digital know the digital revolution is based on transistors it operates on zeros and ones zeros and ones at the speed of electricity every digital computer is a turing machine the next step beyond digital computers is the quantum era where to find it was one of the founders of quantum electrodynamics but also a visionary and he asked himself a simple question how small can you make a transistor and he realize that the old transistor is an atom one atom that could control the flow of electricity not just on or off but everything in between we have to go to quantum computers computers their computer on adams rather than on transistors transistors are based on zero and one zero zero one reality is not reality is based on electrons and particles and these particles in turn act like waves so you have to have a new set of mathematics to discuss the way leaves that make up a molecule and that's where quantum computers come in they're based on electrons and these electrons how can they have so much computational power because they could be in two places at the same time that's what gives quantum computers their power they compute on not just one universe but an infinite number of parallel universes at the fundamental level quantum mechanics can be reduced down to a cat should injuries cat let's take a box in the box you put a cat and the question is is the cat dead or alive well until you open the box you don't know it is alive and dead simultaneously is in a superposition of to states in other words the universe has split in half in one have the cat is alive and the other universe they get is dead that's the basis of the quantum theory that until you make a measurement the cat can exists in both states simultaneously in fact in any number of states simultaneously the cat can be dead or alive play ing jumping sideways sick any number of states now why am i mentioning this is this summarizes the power of quantum computers weren't to computers compute on parallel universes that's why they are so powerful so how much faster is a quantum computer over a digital computer in principle infinitely faster when we talk about digital computers we can measure their power in terms of bits for example spin up spin down zeros and one would constitute one bit for a large is your computer we're not talking about billions of bits that are modeled by train sisters except now quantum computers talk not just about spin up or a spin down but everything in between that's called a cuban one cupid represents all the possibilities have an object spinning between up and down thousands of cuba's can now be modeled with the latest generation of quantum computers eventually we hope to hit a million and so we're talking about exceeding the power of ordinary digital computers that's called quantum supremacy it is the point at which a quantum computer can out race and are perform a digital computer on a certain task we pass that several years ago but we want a machine that could exceed the power of any digital computer we're not there yet or very close to it the number one problem facing quantum computers is the question of d coherence everything is based on particles like electrons and electrons have waves associate with them when these waves are vibrating in unison as call coherence and then you can do calculations of a quantum mechanical nature but if you fall out of coherence that everyday vibrates at a different frequency and what is that called noise you have to reduce the temperature down to near absolute zero so everything is pretty much vibrating slowly in unison that's difficult now nature solves this problem it is the basis of all life on the earth photosynthesis for example is a quantum mechanical process mother nature can create coherence at room temperature amazing a flower can do calculations that are most advanced quantum computer cannot mother nature is still smarter than us when it comes through the quantum theory so let's face it there are hurdles affecting the growth of quantum computers but they pale in comparison to the benefits that may be unleashed by quantum computers were talking about opening the floodgates take a look for example of food supply the green revolution then allows us to feed the population of the world is slowly coming to an end we're trying to use quantum computers to unlock the secrets of how to make fertilizer from nitrogen take a look at energy quantum computers may be able to create fusion power by stabilizing the super hot hydrogen inside a fusion reactor and take a look at medicine you realize that life is based on molecules molecules they can create alzheimer's disease parkinson's disease cancer diseases are beyond the reach of digital computers but hey this is what a to computers do will be able to model diseases at the molecular level and that's why we hope to cure the incurable using quantum computers were talking about turning medicine up i down my personal hope for quantum computers is that will be able to create a theory of the entire universe the theory that eluded einstein the theory that would explain black holes and supernovas and galactic evolution but the equations are so complex that know one no one has been able to solve them perhaps they'll be solved in the memory of a quantum computer   to learn even more from the world's biggest thinkers get big think plus for your business \", '2025-07-19 00:00:01')\n",
      "(15, 'Transcript', \"we all know the digital computers changed virtually every aspect of our life well the arrival of quantum computers could be even more historic than that we're now and the initial stages of the next revolution we're talking about a new generation of computers the ultimate computer a computer that computer on adam the ultimate constituents of batter itself the question is who's involved in this race to perfect quantum computers and the answer is everyone all the big players are part of this race because if they're not silicon valley could become the next rust belt also anyone who's interested in security is interested in the quantum computers they can crack almost any code that is based on digital technology that's why the f b i the cia and all national governments are following this is very closely what their computers will change everything the economy how he saw problems the way we interact with the universe you name it won't to computers will be there i'm doctor or michio kaku professor of theoretical physics at the city university of new york and author of quantum supremacy about the rise of quantum computers if he computers have gone through three basic stages stage one was the analog computer so two thousand years ago there was a shipwreck and in the boat that sank was a device and when you brushed away a the dirt and debris you began to realize that it was a machine a machine of incredible complexity he was in fact the world's first analog computer and it was designed to map the motion of the moon the sun and the planet's to simulate the universe but as we primitive people's became more prosperous we had to count things count how many cows you had count how much profit you may analog computers could be based on sticks bones whatever it took the count so this went on for thousands of years until finally we reach the work of charles babbage he creates the ultimate analog computer with hundreds of years and lovers and bullies and by turning the crank you can then calculate longitude latitude you can calculate interest rates it was very valuable to have it is made like that where the banking industry for commerce then world war two comes along babbage's machine is simply too primitive rated the german code so the job was given to mathematicians like alan turing alan turing was the one who codified lot of the laws of computation into what it's called a turing machine and of course is digital know the digital revolution is based on transistors it operates on zeros and ones zeros and ones at the speed of electricity every digital computer is a turing machine the next step beyond digital computers is the quantum era where to find it was one of the founders of quantum electrodynamics but also a visionary and he asked himself a simple question how small can you make a transistor and he realize that the old transistor is an atom one atom that could control the flow of electricity not just on or off but everything in between we have to go to quantum computers computers their computer on adams rather than on transistors transistors are based on zero and one zero zero one reality is not reality is based on electrons and particles and these particles in turn act like waves so you have to have a new set of mathematics to discuss the way leaves that make up a molecule and that's where quantum computers come in they're based on electrons and these electrons how can they have so much computational power because they could be in two places at the same time that's what gives quantum computers their power they compute on not just one universe but an infinite number of parallel universes at the fundamental level quantum mechanics can be reduced down to a cat should injuries cat let's take a box in the box you put a cat and the question is is the cat dead or alive well until you open the box you don't know it is alive and dead simultaneously is in a superposition of to states in other words the universe has split in half in one have the cat is alive and the other universe they get is dead that's the basis of the quantum theory that until you make a measurement the cat can exists in both states simultaneously in fact in any number of states simultaneously the cat can be dead or alive play ing jumping sideways sick any number of states now why am i mentioning this is this summarizes the power of quantum computers weren't to computers compute on parallel universes that's why they are so powerful so how much faster is a quantum computer over a digital computer in principle infinitely faster when we talk about digital computers we can measure their power in terms of bits for example spin up spin down zeros and one would constitute one bit for a large is your computer we're not talking about billions of bits that are modeled by train sisters except now quantum computers talk not just about spin up or a spin down but everything in between that's called a cuban one cupid represents all the possibilities have an object spinning between up and down thousands of cuba's can now be modeled with the latest generation of quantum computers eventually we hope to hit a million and so we're talking about exceeding the power of ordinary digital computers that's called quantum supremacy it is the point at which a quantum computer can out race and are perform a digital computer on a certain task we pass that several years ago but we want a machine that could exceed the power of any digital computer we're not there yet or very close to it the number one problem facing quantum computers is the question of d coherence everything is based on particles like electrons and electrons have waves associate with them when these waves are vibrating in unison as call coherence and then you can do calculations of a quantum mechanical nature but if you fall out of coherence that everyday vibrates at a different frequency and what is that called noise you have to reduce the temperature down to near absolute zero so everything is pretty much vibrating slowly in unison that's difficult now nature solves this problem it is the basis of all life on the earth photosynthesis for example is a quantum mechanical process mother nature can create coherence at room temperature amazing a flower can do calculations that are most advanced quantum computer cannot mother nature is still smarter than us when it comes to the quantum theory so let's face it there are hurdles affecting the growth of quantum computers but they pale in comparison to the benefits that may be unleashed by quantum computers were talking about opening the floodgates take a look for example of food supply the green revolution then allows us to feed the population of the world is slowly coming to an end we're trying to use quantum computers to unlock the secrets of how to make fertilizer from nitrogen take a look at energy quantum computers may be able to create fusion power by stabilizing the super hot hydrogen inside a fusion reactor and take a look at medicine you realize that life is based on molecules molecules they can create alzheimer's disease parkinson's disease cancer diseases are beyond the reach of digital computers but hey this is what decline to computers do will be able to model diseases at the molecular level and that's why we hope to cure the incurable using quantum computers were talking about turning medicine up i down my personal hope for quantum computers is that will be able to create a theory of the entire universe the theory that eluded einstein the theory that would explain black holes and supernovas and galactic evolution but the equations are so complex that know one no one has been able to solve them perhaps they'll be solved in the memory of a quantum computer   to learn even more from the world's biggest thinkers get big think plus for your business \", '2025-07-19 00:00:01')\n",
      "(16, 'unknown', \"we all know the digital computers changed virtually every aspect of our life well the arrival of quantum computers could be even more historic than that we're now and the initial stages of the next revolution we're talking about a new generation of computers the ultimate computer computer that computer on adam the ultimate constituents of batter itself the question is who's involved in this race to perfect quantum computers and the answer is everyone all the big players are part of this race because if they're not silicon valley could become the next rust belt also anyone who's interested in security is interested in the quantum computers they can crack almost any code that is based on digital technology that's why the f b i the cia and all national governments are following this is very closely what their computers will change everything the economy how he saw problems the way we interact with the universe you name it won't to computers will be there i'm doctor or michio kaku professor of theoretical physics at the city university of new york and author of quantum supremacy about the rise of quantum computers if he computers have gone through three basic stages stage one was the analog computer so two thousand years ago there was a shipwreck and in the boat that sank was a device and when you brushed away a the dirt and debris you began to realize that it was a machine a machine of incredible complexity he was in fact the world's first analog computer and it was designed to map the motion of the moon the sun and the planet's to simulate the universe but as we primitive people's became more prosperous we had to count things count how many cows you had count how much profit you may analog computers could be based on sticks bones whatever it took the count so this went on for thousands of years until finally we reach the work of charles babbage he creates the ultimate analog computer with hundreds of years and lovers and bullies and by turning the crank you can then calculate longitude latitude you can calculate interest rates it was very valuable to have it is made like that where the banking industry for commerce then world war two comes along babbage's machine is simply too primitive rated the german code so the job was given to mathematicians like alan turing alan turing was the one who codified lot of the laws of computation into what it's called a turing machine and of course is digital know the digital revolution is based on transistors it operates on zeros and ones zeros and ones at the speed of electricity every digital computer is a turing machine the next step beyond digital computers is the quantum era where to find it was one of the founders of quantum electrodynamics but also a visionary and he asked himself a simple question how small can you make a transistor and he realize that the old transistor is an atom one atom that could control the flow of electricity not just on or off but everything in between we have to go to quantum computers computers their computer on adams rather than on transistors transistors are based on zeros zero one zero zero one reality is not reality is based on electrons and particles and these particles in turn act like waves so you have to have a new set of mathematics to discuss the way leaves that make up a molecule and that's where quantum computers come in they're based on electrons and these electrons how can they have so much computational power because they could be in two places at the same time that's what gives quantum computers their power they compute on not just one universe but an infinite number of parallel universes at the fundamental level quantum mechanics can be reduced down to a cat should injuries cat let's take a box in the box you put a cat and the question is is the cat dead or alive well until you open the box you don't know it is alive and dead simultaneously is in a superposition of to states in other words the universe has split in half in one have the cat is alive and the other universe they get is dead that's the basis of the quantum theory that until you make a measurement the cat can exists in both states simultaneously in fact in any number of states simultaneously the cat can be dead or alive play ing jumping sideways sick any number of states now why am i mentioning this is this summarizes the power of quantum computers weren't to computers compute on parallel universes that's why they are so powerful so how much faster is a quantum computer over a digital computer in principle infinitely faster when we talk about digital computers we can measure their power in terms of bits for example spin up spin down zeros and one would constitute one bit for a large is your computer we're not talking about billions of bits that are modeled by train sisters except now quantum computers talk not just about spin up or a spin down but everything in between that's called a cuban one cupid represents all the possibilities have an object spinning between up and down thousands of cuba's can now be modeled with the latest generation of quantum computers eventually we hope to hit a million and so we're talking about exceeding the power of ordinary digital computers that's called quantum supremacy it is the point at which a quantum computer can out race and are perform a digital computer on a certain task we pass that several years ago but we want a machine that could exceed the power of any digital computer we're not there yet or very close to it the number one problem facing quantum computers is the question of d coherence everything is based on particles like electrons and electrons have waves associate with them when these waves are vibrating in unison as call coherence and then you can do calculations of a quantum mechanical nature but if you fall out of coherence that everyday vibrates at a different frequency and what is that called noise you have to reduce the temperature down to near absolute zero so everything is pretty much vibrating slowly in unison that's difficult now nature solves this problem it is the basis of all life on the earth photosynthesis for example is a quantum mechanical process mother nature can create coherence at room temperature amazing a flower can do calculations that are most advanced quantum computer cannot mother nature is still smarter than us when it comes to the quantum theory so let's face it there are hurdles affecting the growth of quantum computers but they pale in comparison to the benefits that may be unleashed by quantum computers were talking about opening the floodgates take a look for example of food supply the green revolution then allows us to feed the population of the world is slowly coming to an end we're trying to use quantum computers to unlock the secrets of how to make fertilizer from nitrogen take a look at energy quantum computers may be able to create fusion power by stabilizing the super hot hydrogen inside a fusion reactor and take a look at medicine you realize that life is based on molecules molecules they can create alzheimer's disease parkinson's disease cancer diseases are beyond the reach of digital computers but hey this is what decline to computers do will be able to model diseases at the molecular level and that's why we hope to cure the incurable using quantum computers were talking about turning medicine up i down my personal hope for quantum computers is that will be able to create a theory of the entire universe the theory that eluded einstein the theory that would explain black holes and supernovas and galactic evolution but the equations are so complex that know one no one has been able to solve them perhaps they'll be solved in the memory of a quantum computer   to learn even more from the world's biggest thinkers get big think plus for your business \", '2024-07-19 18:52:24')\n",
      "(17, 'unknown', \"we all know the digital computers changed virtually every aspect of our life well the arrival of quantum computers could be even more historic than that we're now and the initial stages of the next revolution we're talking about a new generation of computers the ultimate computer a computer that computer on adam the ultimate constituents of batter itself the question is who's involved in this race to perfect quantum computers and the answer is everyone all the big players are part of this race because if they're not silicon valley could become the next rust belt also anyone who's interested in security is interested in the quantum computers they can crack almost any code that is based on digital technology that's why the f b i the cia and all national governments are following this is very closely what their computers will change everything the economy how he saw problems the way we interact with the universe you name it won't to computers will be there i'm doctor or michio kaku professor of theoretical physics at the city university of new york and author of quantum supremacy about the rise of quantum computers if he computers have gone through three basic stages stage one was the analog computer so two thousand years ago there was a shipwreck and in the boat that sank was a device and when you brushed away a the dirt and debris you began to realize that it was a machine a machine of incredible complexity he was in fact the world's first analog computer and it was designed to map the motion of the moon the sun and the planet's to simulate the universe but as we primitive people's became more prosperous we had to count things count how many cows you had count how much profit you may analog computers could be based on sticks bones whatever it took the count so this went on for thousands of years until finally we reach the work of charles babbage he creates the ultimate analog computer with hundreds of years and lovers and bullies and by turning the crank you can then calculate longitude latitude you can calculate interest rates it was very valuable to have it is made like that where the banking industry for commerce then world war two comes along babbage's machine is simply too primitive rated the german code so the job was given to mathematicians like alan turing alan turing was the one who codified lot of the laws of computation into what it's called a turing machine and of course is digital know the digital revolution is based on transistors it operates on zeros and ones zeros and ones at the speed of electricity every digital computer is a turing machine the next step beyond digital computers is the quantum era richard find it was one of the founders of quantum electrodynamics but also a visionary and he asked himself a simple question how small can you make a transistor and he realize that the ultimate transistor is an atom one atom that could control the flow of and atrocity not just on or off but everything in between we have to go to quantum computers computers their computer on adams rather than on transistors transistors are based on zeros zero one zero zero one reality is not reality is based on electrons and particles and these particles in turn act like waves so you have to have a new set of mathematics to discuss the way leaves that make up a molecule and that's where quantum computers come in they're based on electrons and these electrons how can they have so much computational power because they could be in two places at the same time that's what gives quantum computers their power they compute on not just one universe but an infinite number of parallel universes at the fundamental level quantum mechanics can be reduced down to a cat choate injuries cat let's take a box in the box you put a cat and the question is is the cat dead or alive well until you open the box you don't know it is alive and dead simultaneously is in a superposition of to states in other words the universe has split in half in one have the cat is alive and the other universe they get is dead that's the basis of the quantum theory that until you make a measurement the cat can exists in both states simultaneously in fact in any number of states simultaneously the cat can be dead or alive play ing jumping sideways sick any number of states now why am i mentioning this is this summarizes the power of quantum computers weren't to computers compute on parallel universes that's why they are so powerful so how much faster is a quantum computer over a digital computer in principle infinitely faster when we talk about digital computers we can measure their power in terms of bits for example spin up spin down zeros and one would constitute one bit for a large is your computer we're not talking about billions of bits that are modeled by train sisters except now quantum computers talk not just about spin up or a spin down but everything in between that's called a cuban one cupid represents all the possibilities have an object spinning between up and down thousands of cuba's can now be modeled with the latest generation of quantum computers eventually we hope to hit a million and so we're talking about exceeding the power of ordinary digital computers that's called quantum supremacy it is the point at which a quantum computer can out race and are perform a digital computer on a certain task we pass that several years ago but we want a machine that could exceed the power of any digital computer we're not there yet or very close to it the number one problem facing quantum computers is the question of d coherence everything is based on particles like electrons and electrons have waves associate with them when these waves are vibrating in unison as call coherence and then you can do calculations of a quantum mechanical nature but if you fall out of coherence that everyday vibrates at a different frequency and what is that called noise you have to reduce the temperature down to near absolute zero so everything is pretty much vibrating slowly in unison that's difficult now nature solves this problem it is the basis of all life on the earth photosynthesis for example is a quantum mechanical process mother nature can create coherence at room temperature amazing a flower can do calculations that are most advanced quantum computer cannot mother nature is still smarter than us when it comes to the quantum theory so let's face it there are hurdles affecting the growth of quantum computers but they pale in comparison to the benefits that may be unleashed by quantum computers were talking about opening the floodgates take a look for example of food supply the green revolution then allows us to feed the population of the world is slowly coming to an end we're trying to use quantum computers to unlock the secrets of how to make fertilizer from nitrogen take a look at energy quantum computers may be able to create fusion power by stabilizing the super hot hydrogen inside a fusion reactor and take a look at medicine you realize that life is based on molecules molecules they can create alzheimer's disease parkinson's disease cancer diseases are beyond the reach of digital computers but hey this is what decline to computers do will be able to model diseases at the molecular level and that's why we hope to cure the incurable using quantum computers were talking about turning medicine up i down my personal hope for quantum computers is that will be able to create a theory of the entire universe the theory that eluded einstein the theory that would explain black holes and supernovas and galactic evolution but the equations are so complex that know one no one has been able to solve them perhaps they'll be solved in the memory of a quantum computer   to learn even more from the world's biggest thinkers get big think plus for your business\", '2024-07-19 18:58:33')\n",
      "(18, 'unknown', \"we all know the digital computers changed virtually every aspect of our life well the arrival of quantum computers could be even more historic than that we're now and the initial stages of the next revolution we're talking about a new generation of computers the ultimate computer a computer that computer on adam the ultimate constituents of batter itself the question is who's involved in this race to perfect quantum computers and the answer is everyone all the big players are part of this race because if they're not silicon valley could become the next rust belt also anyone who's interested in security is interested in the quantum computers they can crack almost any code that is based on digital technology that's why the f b i the cia and all national governments are following this is very closely what their computers will change everything the economy how he saw problems the way we interact with the universe you name it won't to computers will be there i'm doctor or michio kaku professor of theoretical physics at the city university of new york and author of quantum supremacy about the rise of quantum computers if he computers have gone through three basic stages stage one was the analog computer so two thousand years ago there was a shipwreck and in the boat that sank was a device and when you brushed away a the dirt and debris you began to realize that it was a machine a machine of incredible complexity he was in fact the world's first analog computer and it was designed to map the motion of the moon the sun and the planet's to simulate the universe but as we primitive people's became more prosperous we had to count things count how many cows you had count how much profit you may analog computers could be based on sticks bones whatever it took the count so this went on for thousands of years until finally we reach the work of charles babbage he creates the ultimate analog computer with hundreds of years and lovers and bullies and by turning the crank you can then calculate longitude latitude you can calculate interest rates it was very valuable to have it is made like that where the banking industry for commerce then world war two comes along babbage's machine is simply too primitive rated the german code so the job was given to mathematicians like alan turing alan turing was the one who codified lot of the laws of computation into what it's called a turing machine and of course is digital know the digital revolution is based on transistors it operates on zeros and ones zeros and ones at the speed of electricity every digital computer is a turing machine the next step beyond digital computers is the quantum era richard find it was one of the founders of quantum electrodynamics but also a visionary and he asked himself a simple question how small can you make a transistor and he realize that the ultimate transistor is an atom one atom that could control the flow of and atrocity not just on or off but everything in between we have to go to quantum computers computers their computer on adams rather than on transistors transistors are based on zeros zero one zero zero one reality is not reality is based on electrons and particles and these particles in turn act like waves so you have to have a new set of mathematics to discuss the way leaves that make up a molecule and that's where quantum computers come in they're based on electrons and these electrons how can they have so much computational power because they could be in two places at the same time that's what gives quantum computers their power they compute on not just one universe but an infinite number of parallel universes at the fundamental level quantum mechanics can be reduced down to a cat should injuries cat let's take a box in the box you put a cat and the question is is the cat dead or alive well until you open the box you don't know it is alive and dead simultaneously is in a superposition of to states in other words the universe has split in half in one have the cat is alive and the other universe they get is dead that's the basis of the quantum theory that until you make a measurement the cat can exists in both states simultaneously in fact in any number of states simultaneously the cat can be dead or alive play ing jumping sideways sick any number of states now why am i mentioning this is this summarizes the power of quantum computers weren't to computers compute on parallel universes that's why they are so powerful so how much faster is a quantum computer over a digital computer in principle infinitely faster when we talk about digital computers we can measure their power in terms of bits for example spin up spin down zeros and one would constitute one bit for a large is your computer we're not talking about billions of bits that are modeled by train sisters except now quantum computers talk not just about spin up or a spin down but everything in between that's called a cuban one cupid represents all the possibilities have an object spinning between up and down thousands of cuba's can now be modeled with the latest generation of quantum computers eventually we hope to hit a million and so we're talking about exceeding the power of ordinary digital computers that's called quantum supremacy it is the point at which a quantum computer can out race and are perform a digital computer on a certain task we pass that several years ago but we want a machine that could exceed the power of any digital computer we're not there yet or very close to it the number one problem facing quantum computers is the question of d coherence everything is based on particles like electrons and electrons have waves associate with them when these waves are vibrating in unison as call coherence and then you can do calculations of a quantum mechanical nature but if you fall out of coherence that everyday vibrates at a different frequency and what is that called noise you have to reduce the temperature down to near absolute zero so everything is pretty much vibrating slowly in unison that's difficult now nature solves this problem it is the basis of all life on the earth photosynthesis for example is a quantum mechanical process mother nature can create coherence at room temperature amazing a flower can do calculations that are most advanced quantum computer cannot mother nature is still smarter than us when it comes to the quantum theory so let's face it there are hurdles affecting the growth of quantum computers but they pale in comparison to the benefits that may be unleashed by quantum computers were talking about opening the floodgates take a look for example of food supply the green revolution then allows us to feed the population of the world is slowly coming to an end we're trying to use quantum computers to unlock the secrets of how to make fertilizer from nitrogen take a look at energy quantum computers may be able to create fusion power by stabilizing the super hot hydrogen inside a fusion reactor and take a look at medicine you realize that life is based on molecules molecules they can create alzheimer's disease parkinson's disease cancer diseases are beyond the reach of digital computers but hey this is what a to computers do will be able to model diseases at the molecular level and that's why we hope to cure the incurable using quantum computers were talking about turning medicine up i down my personal hope for quantum computers is that will be able to create a theory of the entire universe the theory that eluded einstein the theory that would explain black holes and supernovas and galactic evolution but the equations are so complex that know one no one has been able to solve them perhaps they'll be solved in the memory of a quantum computer   to learn even more from the world's biggest thinkers get big think plus for your business \", '2024-07-19 19:04:29')\n",
      "(19, 'unknown', \"we all know the digital computers changed virtually every aspect of our life well the arrival of quantum computers could be even more historic than that we're now and the initial stages of the next revolution we're talking about a new generation of computers the ultimate computer a computer that computer on adam the ultimate constituents of batter itself the question is who's involved in this race to perfect quantum computers and the answer is everyone all the big players are part of this race because if they're not silicon valley could become the next rust belt also anyone who's interested in security is interested in the quantum computers they can crack almost any code that is based on digital technology that's why the f b i the cia and all national governments are following this is very closely what their computers will change everything the economy how he saw problems the way we interact with the universe you name it won't to computers will be there i'm doctor or michio kaku professor of theoretical physics at the city university of new york and author of quantum supremacy about the rise of quantum computers if he computers have gone through three basic stages stage one was the analog computer so two thousand years ago there was a shipwreck and in the boat that sank was a device and when you brushed away a the dirt and debris you began to realize that it was a machine a machine of incredible complexity he was in fact the world's first analog computer and it was designed to map the motion of the moon the sun and the planet's to simulate the universe but as we primitive people's became more prosperous we had to count things count how many cows you had count how much profit you may analog computers could be based on sticks bones whatever it took the count so this went on for thousands of years until finally we reach the work of charles babbage he creates the ultimate analog computer with hundreds of years and lovers and bullies and by turning the crank you can then calculate longitude latitude you can calculate interest rates it was very valuable to have it is made like that where the banking industry for commerce then world war two comes along babbage's machine is simply too primitive rated the german code so the job was given to mathematicians like alan turing alan turing was the one who codified lot of the laws of computation into what it's called a turing machine and of course is digital know the digital revolution is based on transistors it operates on zeros and ones zeros and ones at the speed of electricity every digital computer is a turing machine the next step beyond digital computers is the quantum era where to find it was one of the founders of quantum electrodynamics but also a visionary and he asked himself a simple question how small can you make a transistor and he realize that the old transistor is an atom one atom that could control the flow of electricity not just on or off but everything in between we have to go to quantum computers computers their computer on adams rather than on transistors transistors are based on zero and one zero zero one reality is not reality is based on electrons and particles and these particles in turn act like waves so you have to have a new set of mathematics to discuss the way leaves that make up a molecule and that's where quantum computers come in they're based on electrons and these electrons how can they have so much computational power because they could be in two places at the same time that's what gives quantum computers their power they compute on not just one universe but an infinite number of parallel universes at the fundamental level quantum mechanics can be reduced down to a cat choate injuries cat let's take a box in the box you put a cat and the question is is the cat dead or alive well until you open the box you don't know it is alive and dead simultaneously is in a superposition of to states in other words the universe has split in half in one have the cat is alive and the other universe they get is dead that's the basis of the quantum theory that until you make a measurement the cat can exists in both states simultaneously in fact in any number of states simultaneously the cat can be dead or alive play ing jumping sideways sick any number of states now why am i mentioning this is this summarizes the power of quantum computers weren't to computers compute on parallel universes that's why they are so powerful so how much faster is a quantum computer over a digital computer in principle infinitely faster when we talk about digital computers we can measure their power in terms of bits for example spin up spin down zeros and one would constitute one bit for a large is your computer we're not talking about billions of bits that are modeled by train sisters except now quantum computers talk not just about spin up or a spin down but everything in between that's called a cuban one cupid represents all the possibilities have an object spinning between up and down thousands of cuba's can now be modeled with the latest generation of quantum computers eventually we hope to hit a million and so we're talking about exceeding the power of ordinary digital computers that's called quantum supremacy it is the point at which a quantum computer can out race and are perform a digital computer on a certain task we pass that several years ago but we want a machine that could exceed the power of any digital computer we're not there yet or very close to it the number one problem facing quantum computers is the question of d coherence everything is based on particles like electrons and electrons have waves associate with them when these waves are vibrating in unison as call coherence and then you can do calculations of a quantum mechanical nature but if you fall out of coherence that everyday vibrates at a different frequency and what is that called noise you have to reduce the temperature down to near absolute zero so everything is pretty much vibrating slowly in unison that's difficult now nature solves this problem it is the basis of all life on the earth photosynthesis for example is a quantum mechanical process mother nature can create coherence at room temperature amazing a flower can do calculations that are most advanced quantum computer cannot mother nature is still smarter than us when it comes through the quantum theory so let's face it there are hurdles affecting the growth of quantum computers but they pale in comparison to the benefits that may be unleashed by quantum computers were talking about opening the floodgates take a look for example of food supply the green revolution then allows us to feed the population of the world is slowly coming to an end we're trying to use quantum computers to unlock the secrets of how to make fertilizer from nitrogen take a look at energy quantum computers may be able to create fusion power by stabilizing the super hot hydrogen inside a fusion reactor and take a look at medicine you realize that life is based on molecules molecules they can create alzheimer's disease parkinson's disease cancer diseases are beyond the reach of digital computers but hey this is what a to computers do will be able to model diseases at the molecular level and that's why we hope to cure the incurable using quantum computers were talking about turning medicine up i down my personal hope for quantum computers is that will be able to create a theory of the entire universe the theory that eluded einstein the theory that would explain black holes and supernovas and galactic evolution but the equations are so complex that know one no one has been able to solve them perhaps they'll be solved in the memory of a quantum computer   to learn even more from the world's biggest thinkers get big think plus for your business \", '2024-07-19 19:10:29')\n",
      "(20, 'Transcript', \"we all know the digital computers changed virtually every aspect of our life well the arrival of quantum computers could be even more historic than that we're now and the initial stages of the next revolution we're talking about a new generation of computers the ultimate computer a computer that computer on adam the ultimate constituents of batter itself the question is who's involved in this race to perfect quantum computers and the answer is everyone all the big players are part of this race because if they're not silicon valley could become the next rust belt also anyone who's interested in security is interested in the quantum computers they can crack almost any code that is based on digital technology that's why the f b i the cia and all national governments are following this is very closely what their computers will change everything the economy how he saw problems the way we interact with the universe you name it won't to computers will be there i'm doctor or michio kaku professor of theoretical physics at the city university of new york and author of quantum supremacy about the rise of quantum computers if he computers have gone through three basic stages stage one was the analog computer so two thousand years ago there was a shipwreck and in the boat that sank was a device and when you brushed away a the dirt and debris you began to realize that it was a machine a machine of incredible complexity he was in fact the world's first analog computer and it was designed to map the motion of the moon the sun and the planet's to simulate the universe but as we primitive people's became more prosperous we had to count things count how many cows you had count how much profit you may analog computers could be based on sticks bones whatever it took the count so this went on for thousands of years until finally we reach the work of charles babbage he creates the ultimate analog computer with hundreds of years and lovers and bullies and by turning the crank you can then calculate longitude latitude you can calculate interest rates it was very valuable to have it is made like that where the banking industry for commerce then world war two comes along babbage's machine is simply too primitive rated the german code so the job was given to mathematicians like alan turing alan turing was the one who codified lot of the laws of computation into what it's called a turing machine and of course is digital know the digital revolution is based on transistors it operates on zeros and ones zeros and ones at the speed of electricity every digital computer is a turing machine the next step beyond digital computers is the quantum era where to find it was one of the founders of quantum electrodynamics but also a visionary and he asked himself a simple question how small can you make a transistor and he realize that the old transistor is an atom one atom that could control the flow of electricity not just on or off but everything in between we have to go to quantum computers computers their computer on adams rather than on transistors transistors are based on zero and one zero zero one reality is not reality is based on electrons and particles and these particles in turn act like waves so you have to have a new set of mathematics to discuss the way leaves that make up a molecule and that's where quantum computers come in they're based on electrons and these electrons how can they have so much computational power because they could be in two places at the same time that's what gives quantum computers their power they compute on not just one universe but an infinite number of parallel universes at the fundamental level quantum mechanics can be reduced down to a cat choate injuries cat let's take a box in the box you put a cat and the question is is the cat dead or alive well until you open the box you don't know it is alive and dead simultaneously is in a superposition of to states in other words the universe has split in half in one have the cat is alive and the other universe they get is dead that's the basis of the quantum theory that until you make a measurement the cat can exists in both states simultaneously in fact in any number of states simultaneously the cat can be dead or alive play ing jumping sideways sick any number of states now why am i mentioning this is this summarizes the power of quantum computers weren't to computers compute on parallel universes that's why they are so powerful so how much faster is a quantum computer over a digital computer in principle infinitely faster when we talk about digital computers we can measure their power in terms of bits for example spin up spin down zeros and one would constitute one bit for a large is your computer we're not talking about billions of bits that are modeled by train sisters except now quantum computers talk not just about spin up or a spin down but everything in between that's called a cuban one cupid represents all the possibilities have an object spinning between up and down thousands of cuba's can now be modeled with the latest generation of quantum computers eventually we hope to hit a million and so we're talking about exceeding the power of ordinary digital computers that's called quantum supremacy it is the point at which a quantum computer can out race and are perform a digital computer on a certain task we pass that several years ago but we want a machine that could exceed the power of any digital computer we're not there yet or very close to it the number one problem facing quantum computers is the question of d coherence everything is based on particles like electrons and electrons have waves associate with them when these waves are vibrating in unison as call coherence and then you can do calculations of a quantum mechanical nature but if you fall out of coherence that everyday vibrates at a different frequency and what is that called noise you have to reduce the temperature down to near absolute zero so everything is pretty much vibrating slowly in unison that's difficult now nature solves this problem it is the basis of all life on the earth photosynthesis for example is a quantum mechanical process mother nature can create coherence at room temperature amazing a flower can do calculations that are most advanced quantum computer cannot mother nature is still smarter than us when it comes through the quantum theory so let's face it there are hurdles affecting the growth of quantum computers but they pale in comparison to the benefits that may be unleashed by quantum computers were talking about opening the floodgates take a look for example of food supply the green revolution then allows us to feed the population of the world is slowly coming to an end we're trying to use quantum computers to unlock the secrets of how to make fertilizer from nitrogen take a look at energy quantum computers may be able to create fusion power by stabilizing the super hot hydrogen inside a fusion reactor and take a look at medicine you realize that life is based on molecules molecules they can create alzheimer's disease parkinson's disease cancer diseases are beyond the reach of digital computers but hey this is what a to computers do will be able to model diseases at the molecular level and that's why we hope to cure the incurable using quantum computers were talking about turning medicine up i down my personal hope for quantum computers is that will be able to create a theory of the entire universe the theory that eluded einstein the theory that would explain black holes and supernovas and galactic evolution but the equations are so complex that know one no one has been able to solve them perhaps they'll be solved in the memory of a quantum computer   to learn even more from the world's biggest thinkers get big think plus for your business \", '2025-07-19 00:00:01')\n",
      "(21, 'Transcript', \"we all know the digital computers changed virtually every aspect of our life well the arrival of quantum computers could be even more historic than that we're now and the initial stages of the next revolution we're talking about a new generation of computers the ultimate computer a computer that computer on adam the ultimate constituents of batter itself the question is who's involved in this race to perfect quantum computers and the answer is everyone all the big players are part of this race because if they're not silicon valley could become the next rust belt also anyone who's interested in security is interested in the quantum computers they can crack almost any code that is based on digital technology that's why the f b i the cia and all national governments are following this is very closely what their computers will change everything the economy how he saw problems the way we interact with the universe you name it won't to computers will be there i'm doctor or michio kaku professor of theoretical physics at the city university of new york and author of quantum supremacy about the rise of quantum computers if he computers have gone through three basic stages stage one was the analog computer so two thousand years ago there was a shipwreck and in the boat that sank was a device and when you brushed away a the dirt and debris you began to realize that it was a machine a machine of incredible complexity he was in fact the world's first analog computer and it was designed to map the motion of the moon the sun and the planet's to simulate the universe but as we primitive people's became more prosperous we had to count things count how many cows you had count how much profit you may analog computers could be based on sticks bones whatever it took the count so this went on for thousands of years until finally we reach the work of charles babbage he creates the ultimate analog computer with hundreds of years and lovers and bullies and by turning the crank you can then calculate longitude latitude you can calculate interest rates it was very valuable to have it is made like that where the banking industry for commerce then world war two comes along babbage's machine is simply too primitive rated the german code so the job was given to mathematicians like alan turing alan turing was the one who codified lot of the laws of computation into what it's called a turing machine and of course is digital know the digital revolution is based on transistors it operates on zeros and ones zeros and ones at the speed of electricity every digital computer is a turing machine the next step beyond digital computers is the quantum era where to find it was one of the founders of quantum electrodynamics but also a visionary and he asked himself a simple question how small can you make a transistor and he realize that the old transistor is an atom one atom that could control the flow of electricity not just on or off but everything in between we have to go to quantum computers computers their computer on adams rather than on transistors transistors are based on zero and one zero zero one reality is not reality is based on electrons and particles and these particles in turn act like waves so you have to have a new set of mathematics to discuss the way leaves that make up a molecule and that's where quantum computers come in they're based on electrons and these electrons how can they have so much computational power because they could be in two places at the same time that's what gives quantum computers their power they compute on not just one universe but an infinite number of parallel universes at the fundamental level quantum mechanics can be reduced down to a cat choate injuries cat let's take a box in the box you put a cat and the question is is the cat dead or alive well until you open the box you don't know it is alive and dead simultaneously is in a superposition of to states in other words the universe has split in half in one have the cat is alive and the other universe they get is dead that's the basis of the quantum theory that until you make a measurement the cat can exists in both states simultaneously in fact in any number of states simultaneously the cat can be dead or alive play ing jumping sideways sick any number of states now why am i mentioning this is this summarizes the power of quantum computers weren't to computers compute on parallel universes that's why they are so powerful so how much faster is a quantum computer over a digital computer in principle infinitely faster when we talk about digital computers we can measure their power in terms of bits for example spin up spin down zeros and one would constitute one bit for a large is your computer we're not talking about billions of bits that are modeled by train sisters except now quantum computers talk not just about spin up or a spin down but everything in between that's called a cuban one cupid represents all the possibilities have an object spinning between up and down thousands of cuba's can now be modeled with the latest generation of quantum computers eventually we hope to hit a million and so we're talking about exceeding the power of ordinary digital computers that's called quantum supremacy it is the point at which a quantum computer can out race and are perform a digital computer on a certain task we pass that several years ago but we want a machine that could exceed the power of any digital computer we're not there yet or very close to it the number one problem facing quantum computers is the question of d coherence everything is based on particles like electrons and electrons have waves associate with them when these waves are vibrating in unison as call coherence and then you can do calculations of a quantum mechanical nature but if you fall out of coherence that everyday vibrates at a different frequency and what is that called noise you have to reduce the temperature down to near absolute zero so everything is pretty much vibrating slowly in unison that's difficult now nature solves this problem it is the basis of all life on the earth photosynthesis for example is a quantum mechanical process mother nature can create coherence at room temperature amazing a flower can do calculations that are most advanced quantum computer cannot mother nature is still smarter than us when it comes through the quantum theory so let's face it there are hurdles affecting the growth of quantum computers but they pale in comparison to the benefits that may be unleashed by quantum computers were talking about opening the floodgates take a look for example of food supply the green revolution then allows us to feed the population of the world is slowly coming to an end we're trying to use quantum computers to unlock the secrets of how to make fertilizer from nitrogen take a look at energy quantum computers may be able to create fusion power by stabilizing the super hot hydrogen inside a fusion reactor and take a look at medicine you realize that life is based on molecules molecules they can create alzheimer's disease parkinson's disease cancer diseases are beyond the reach of digital computers but hey this is what a to computers do will be able to model diseases at the molecular level and that's why we hope to cure the incurable using quantum computers were talking about turning medicine up i down my personal hope for quantum computers is that will be able to create a theory of the entire universe the theory that eluded einstein the theory that would explain black holes and supernovas and galactic evolution but the equations are so complex that know one no one has been able to solve them perhaps they'll be solved in the memory of a quantum computer   to learn even more from the world's biggest thinkers get big think plus for your business \", '2025-07-19 00:00:01')\n",
      "(22, 'Transcript', \"we all know the digital computers changed virtually every aspect of our life well the arrival of quantum computers could be even more historic than that we're now and the initial stages of the next revolution we're talking about a new generation of computers the ultimate computer a computer that computer on adam the ultimate constituents of batter itself the question is who's involved in this race to perfect quantum computers and the answer is everyone all the big players are part of this race because if they're not silicon valley could become the next rust belt also anyone who's interested in security is interested in the quantum computers they can crack almost any code that is based on digital technology that's why the f b i the cia and all national governments are following this is very closely what their computers will change everything the economy how he saw problems the way we interact with the universe you name it won't to computers will be there i'm doctor or michio kaku professor of theoretical physics at the city university of new york and author of quantum supremacy about the rise of quantum computers if he computers have gone through three basic stages stage one was the analog computer so two thousand years ago there was a shipwreck and in the boat that sank was a device and when you brushed away a the dirt and debris you began to realize that it was a machine a machine of incredible complexity he was in fact the world's first analog computer and it was designed to map the motion of the moon the sun and the planet's to simulate the universe but as we primitive people's became more prosperous we had to count things count how many cows you had count how much profit you may analog computers could be based on sticks bones whatever it took the count so this went on for thousands of years until finally we reach the work of charles babbage he creates the ultimate analog computer with hundreds of years and lovers and bullies and by turning the crank you can then calculate longitude latitude you can calculate interest rates it was very valuable to have it is made like that where the banking industry for commerce then world war two comes along babbage's machine is simply too primitive rated the german code so the job was given to mathematicians like alan turing alan turing was the one who codified lot of the laws of computation into what it's called a turing machine and of course is digital know the digital revolution is based on transistors it operates on zeros and ones zeros and ones at the speed of electricity every digital computer is a turing machine the next step beyond digital computers is the quantum era where to find it was one of the founders of quantum electrodynamics but also a visionary and he asked himself a simple question how small can you make a transistor and he realize that the old transistor is an atom one atom that could control the flow of electricity not just on or off but everything in between we have to go to quantum computers computers their computer on adams rather than on transistors transistors are based on zeros zero one zero zero one reality is not reality is based on electrons and particles and these particles in turn act like waves so you have to have a new set of mathematics to discuss the way leaves that make up a molecule and that's where quantum computers come in they're based on electrons and these electrons how can they have so much computational power because they could be in two places at the same time that's what gives quantum computers their power they compute on not just one universe but an infinite number of parallel universes at the fundamental level quantum mechanics can be reduced down to a cat choate injuries cat let's take a box in the box you put a cat and the question is is the cat dead or alive well until you open the box you don't know it is alive and dead simultaneously is in a superposition of to states in other words the universe has split in half in one have the cat is alive and the other universe they get is dead that's the basis of the quantum theory that until you make a measurement the cat can exists in both states simultaneously in fact in any number of states simultaneously the cat can be dead or alive play ing jumping sideways sick any number of states now why am i mentioning this is this summarizes the power of quantum computers weren't to computers compute on parallel universes that's why they are so powerful so how much faster is a quantum computer over a digital computer in principle infinitely faster when we talk about digital computers we can measure their power in terms of bits for example spin up spin down zeros and one would constitute one bit for a large is your computer we're not talking about billions of bits that are modeled by train sisters except now quantum computers talk not just about spin up or a spin down but everything in between that's called a cuban one cupid represents all the possibilities have an object spinning between up and down thousands of cuba's can now be modeled with the latest generation of quantum computers eventually we hope to hit a million and so we're talking about exceeding the power of ordinary digital computers that's called quantum supremacy it is the point at which a quantum computer can out race and are perform a digital computer on a certain task we pass that several years ago but we want a machine that could exceed the power of any digital computer we're not there yet or very close to it the number one problem facing quantum computers is the question of d coherence everything is based on particles like electrons and electrons have waves associate with them when these waves are vibrating in unison as call coherence and then you can do calculations of a quantum mechanical nature but if you fall out of coherence that everyday vibrates at a different frequency and what is that called noise you have to reduce the temperature down to near absolute zero so everything is pretty much vibrating slowly in unison that's difficult now nature solves this problem it is the basis of all life on the earth photosynthesis for example is a quantum mechanical process mother nature can create coherence at room temperature amazing a flower can do calculations that are most advanced quantum computer cannot mother nature is still smarter than us when it comes to the quantum theory so let's face it there are hurdles affecting the growth of quantum computers but they pale in comparison to the benefits that may be unleashed by quantum computers were talking about opening the floodgates take a look for example of food supply the green revolution then allows us to feed the population of the world is slowly coming to an end we're trying to use quantum computers to unlock the secrets of how to make fertilizer from nitrogen take a look at energy quantum computers may be able to create fusion power by stabilizing the super hot hydrogen inside a fusion reactor and take a look at medicine you realize that life is based on molecules molecules they can create alzheimer's disease parkinson's disease cancer diseases are beyond the reach of digital computers but hey this is what decline to computers do will be able to model diseases at the molecular level and that's why we hope to cure the incurable using quantum computers were talking about turning medicine up i down my personal hope for quantum computers is that will be able to create a theory of the entire universe the theory that eluded einstein the theory that would explain black holes and supernovas and galactic evolution but the equations are so complex that know one no one has been able to solve them perhaps they'll be solved in the memory of a quantum computer   to learn even more from the world's biggest thinkers get big think plus for your business \", '2025-07-19 00:00:01')\n",
      "(23, 'Transcript', \"we all know the digital computers changed virtually every aspect of our life well the arrival of quantum computers could be even more historic than that we're now and the initial stages of the next revolution we're talking about a new generation of computers the ultimate computer a computer that computer on adam the ultimate constituents of batter itself the question is who's involved in this race to perfect quantum computers and the answer is everyone all the big players are part of this race because if they're not silicon valley could become the next rust belt also anyone who's interested in security is interested in the quantum computers they can crack almost any code that is based on digital technology that's why the f b i the cia and all national governments are following this is very closely what their computers will change everything the economy how he saw problems the way we interact with the universe you name it won't to computers will be there i'm doctor or michio kaku professor of theoretical physics at the city university of new york and author of quantum supremacy about the rise of quantum computers if he computers have gone through three basic stages stage one was the analog computer so two thousand years ago there was a shipwreck and in the boat that sank was a device and when you brushed away a the dirt and debris you began to realize that it was a machine a machine of incredible complexity he was in fact the world's first analog computer and it was designed to map the motion of the moon the sun and the planet's to simulate the universe but as we primitive people's became more prosperous we had to count things count how many cows you had count how much profit you may analog computers could be based on sticks bones whatever it took the count so this went on for thousands of years until finally we reach the work of charles babbage he creates the ultimate analog computer with hundreds of years and lovers and bullies and by turning the crank you can then calculate longitude latitude you can calculate interest rates it was very valuable to have it is made like that where the banking industry for commerce then world war two comes along babbage's machine is simply too primitive rated the german code so the job was given to mathematicians like alan turing alan turing was the one who codified lot of the laws of computation into what it's called a turing machine and of course is digital know the digital revolution is based on transistors it operates on zeros and ones zeros and ones at the speed of electricity every digital computer is a turing machine the next step beyond digital computers is the quantum era where to find it was one of the founders of quantum electrodynamics but also a visionary and he asked himself a simple question how small can you make a transistor and he realize that the old transistor is an atom one atom that could control the flow of electricity not just on or off but everything in between we have to go to quantum computers computers their computer on adams rather than on transistors transistors are based on zeros zero one zero zero one reality is not reality is based on electrons and particles and these particles in turn act like waves so you have to have a new set of mathematics to discuss the way leaves that make up a molecule and that's where quantum computers come in they're based on electrons and these electrons how can they have so much computational power because they could be in two places at the same time that's what gives quantum computers their power they compute on not just one universe but an infinite number of parallel universes at the fundamental level quantum mechanics can be reduced down to a cat choate injuries cat let's take a box in the box you put a cat and the question is is the cat dead or alive well until you open the box you don't know it is alive and dead simultaneously is in a superposition of to states in other words the universe has split in half in one have the cat is alive and the other universe they get is dead that's the basis of the quantum theory that until you make a measurement the cat can exists in both states simultaneously in fact in any number of states simultaneously the cat can be dead or alive play ing jumping sideways sick any number of states now why am i mentioning this is this summarizes the power of quantum computers weren't to computers compute on parallel universes that's why they are so powerful so how much faster is a quantum computer over a digital computer in principle infinitely faster when we talk about digital computers we can measure their power in terms of bits for example spin up spin down zeros and one would constitute one bit for a large is your computer we're not talking about billions of bits that are modeled by train sisters except now quantum computers talk not just about spin up or a spin down but everything in between that's called a cuban one cupid represents all the possibilities have an object spinning between up and down thousands of cuba's can now be modeled with the latest generation of quantum computers eventually we hope to hit a million and so we're talking about exceeding the power of ordinary digital computers that's called quantum supremacy it is the point at which a quantum computer can out race and are perform a digital computer on a certain task we pass that several years ago but we want a machine that could exceed the power of any digital computer we're not there yet or very close to it the number one problem facing quantum computers is the question of d coherence everything is based on particles like electrons and electrons have waves associate with them when these waves are vibrating in unison as call coherence and then you can do calculations of a quantum mechanical nature but if you fall out of coherence that everyday vibrates at a different frequency and what is that called noise you have to reduce the temperature down to near absolute zero so everything is pretty much vibrating slowly in unison that's difficult now nature solves this problem it is the basis of all life on the earth photosynthesis for example is a quantum mechanical process mother nature can create coherence at room temperature amazing a flower can do calculations that are most advanced quantum computer cannot mother nature is still smarter than us when it comes to the quantum theory so let's face it there are hurdles affecting the growth of quantum computers but they pale in comparison to the benefits that may be unleashed by quantum computers were talking about opening the floodgates take a look for example of food supply the green revolution then allows us to feed the population of the world is slowly coming to an end we're trying to use quantum computers to unlock the secrets of how to make fertilizer from nitrogen take a look at energy quantum computers may be able to create fusion power by stabilizing the super hot hydrogen inside a fusion reactor and take a look at medicine you realize that life is based on molecules molecules they can create alzheimer's disease parkinson's disease cancer diseases are beyond the reach of digital computers but hey this is what decline to computers do will be able to model diseases at the molecular level and that's why we hope to cure the incurable using quantum computers were talking about turning medicine up i down my personal hope for quantum computers is that will be able to create a theory of the entire universe the theory that eluded einstein the theory that would explain black holes and supernovas and galactic evolution but the equations are so complex that know one no one has been able to solve them perhaps they'll be solved in the memory of a quantum computer   to learn even more from the world's biggest thinkers get big think plus for your business \", '2024-07-15 10:00:00')\n",
      "(24, 'Transcript', \"we all know the digital computers changed virtually every aspect of our life well the arrival of quantum computers could be even more historic than that we're now and the initial stages of the next revolution we're talking about a new generation of computers the ultimate computer a computer that computer on adam the ultimate constituents of batter itself the question is who's involved in this race to perfect quantum computers and the answer is everyone all the big players are part of this race because if they're not silicon valley could become the next rust belt also anyone who's interested in security is interested in the quantum computers they can crack almost any code that is based on digital technology that's why the f b i the cia and all national governments are following this is very closely what their computers will change everything the economy how he saw problems the way we interact with the universe you name it won't to computers will be there i'm doctor or michio kaku professor of theoretical physics at the city university of new york and author of quantum supremacy about the rise of quantum computers if he computers have gone through three basic stages stage one was the analog computer so two thousand years ago there was a shipwreck and in the boat that sank was a device and when you brushed away a the dirt and debris you began to realize that it was a machine a machine of incredible complexity he was in fact the world's first analog computer and it was designed to map the motion of the moon the sun and the planet's to simulate the universe but as we primitive people's became more prosperous we had to count things count how many cows you had count how much profit you may analog computers could be based on sticks bones whatever it took the count so this went on for thousands of years until finally we reach the work of charles babbage he creates the ultimate analog computer with hundreds of years and lovers and bullies and by turning the crank you can then calculate longitude latitude you can calculate interest rates it was very valuable to have it is made like that where the banking industry for commerce then world war two comes along babbage's machine is simply too primitive rated the german code so the job was given to mathematicians like alan turing alan turing was the one who codified lot of the laws of computation into what it's called a turing machine and of course is digital know the digital revolution is based on transistors it operates on zeros and ones zeros and ones at the speed of electricity every digital computer is a turing machine the next step beyond digital computers is the quantum era where to find it was one of the founders of quantum electrodynamics but also a visionary and he asked himself a simple question how small can you make a transistor and he realize that the old transistor is an atom one atom that could control the flow of electricity not just on or off but everything in between we have to go to quantum computers computers their computer on adams rather than on transistors transistors are based on zeros zero one zero zero one reality is not reality is based on electrons and particles and these particles in turn act like waves so you have to have a new set of mathematics to discuss the way leaves that make up a molecule and that's where quantum computers come in they're based on electrons and these electrons how can they have so much computational power because they could be in two places at the same time that's what gives quantum computers their power they compute on not just one universe but an infinite number of parallel universes at the fundamental level quantum mechanics can be reduced down to a cat choate injuries cat let's take a box in the box you put a cat and the question is is the cat dead or alive well until you open the box you don't know it is alive and dead simultaneously is in a superposition of to states in other words the universe has split in half in one have the cat is alive and the other universe they get is dead that's the basis of the quantum theory that until you make a measurement the cat can exists in both states simultaneously in fact in any number of states simultaneously the cat can be dead or alive play ing jumping sideways sick any number of states now why am i mentioning this is this summarizes the power of quantum computers weren't to computers compute on parallel universes that's why they are so powerful so how much faster is a quantum computer over a digital computer in principle infinitely faster when we talk about digital computers we can measure their power in terms of bits for example spin up spin down zeros and one would constitute one bit for a large is your computer we're not talking about billions of bits that are modeled by train sisters except now quantum computers talk not just about spin up or a spin down but everything in between that's called a cuban one cupid represents all the possibilities have an object spinning between up and down thousands of cuba's can now be modeled with the latest generation of quantum computers eventually we hope to hit a million and so we're talking about exceeding the power of ordinary digital computers that's called quantum supremacy it is the point at which a quantum computer can out race and are perform a digital computer on a certain task we pass that several years ago but we want a machine that could exceed the power of any digital computer we're not there yet or very close to it the number one problem facing quantum computers is the question of d coherence everything is based on particles like electrons and electrons have waves associate with them when these waves are vibrating in unison as call coherence and then you can do calculations of a quantum mechanical nature but if you fall out of coherence that everyday vibrates at a different frequency and what is that called noise you have to reduce the temperature down to near absolute zero so everything is pretty much vibrating slowly in unison that's difficult now nature solves this problem it is the basis of all life on the earth photosynthesis for example is a quantum mechanical process mother nature can create coherence at room temperature amazing a flower can do calculations that are most advanced quantum computer cannot mother nature is still smarter than us when it comes to the quantum theory so let's face it there are hurdles affecting the growth of quantum computers but they pale in comparison to the benefits that may be unleashed by quantum computers were talking about opening the floodgates take a look for example of food supply the green revolution then allows us to feed the population of the world is slowly coming to an end we're trying to use quantum computers to unlock the secrets of how to make fertilizer from nitrogen take a look at energy quantum computers may be able to create fusion power by stabilizing the super hot hydrogen inside a fusion reactor and take a look at medicine you realize that life is based on molecules molecules they can create alzheimer's disease parkinson's disease cancer diseases are beyond the reach of digital computers but hey this is what decline to computers do will be able to model diseases at the molecular level and that's why we hope to cure the incurable using quantum computers were talking about turning medicine up i down my personal hope for quantum computers is that will be able to create a theory of the entire universe the theory that eluded einstein the theory that would explain black holes and supernovas and galactic evolution but the equations are so complex that know one no one has been able to solve them perhaps they'll be solved in the memory of a quantum computer   to learn even more from the world's biggest thinkers get big think plus for your business \", '2024-07-15 10:00:00')\n",
      "(25, 'Transcript', \"we all know the digital computers changed virtually every aspect of our life well the arrival of quantum computers could be even more historic than that we're now and the initial stages of the next revolution we're talking about a new generation of computers the ultimate computer a computer that computer on adam the ultimate constituents of batter itself the question is who's involved in this race to perfect quantum computers and the answer is everyone all the big players are part of this race because if they're not silicon valley could become the next rust belt also anyone who's interested in security is interested in the quantum computers they can crack almost any code that is based on digital technology that's why the f b i the cia and all national governments are following this is very closely what their computers will change everything the economy how he saw problems the way we interact with the universe you name it won't to computers will be there i'm doctor or michio kaku professor of theoretical physics at the city university of new york and author of quantum supremacy about the rise of quantum computers if he computers have gone through three basic stages stage one was the analog computer so two thousand years ago there was a shipwreck and in the boat that sank was a device and when you brushed away a the dirt and debris you began to realize that it was a machine a machine of incredible complexity he was in fact the world's first analog computer and it was designed to map the motion of the moon the sun and the planet's to simulate the universe but as we primitive people's became more prosperous we had to count things count how many cows you had count how much profit you may analog computers could be based on sticks bones whatever it took the count so this went on for thousands of years until finally we reach the work of charles babbage he creates the ultimate analog computer with hundreds of years and lovers and bullies and by turning the crank you can then calculate longitude latitude you can calculate interest rates it was very valuable to have it is made like that where the banking industry for commerce then world war two comes along babbage's machine is simply too primitive rated the german code so the job was given to mathematicians like alan turing alan turing was the one who codified lot of the laws of computation into what it's called a turing machine and of course is digital know the digital revolution is based on transistors it operates on zeros and ones zeros and ones at the speed of electricity every digital computer is a turing machine the next step beyond digital computers is the quantum era where to find it was one of the founders of quantum electrodynamics but also a visionary and he asked himself a simple question how small can you make a transistor and he realize that the old transistor is an atom one atom that could control the flow of electricity not just on or off but everything in between we have to go to quantum computers computers their computer on adams rather than on transistors transistors are based on zeros zero one zero zero one reality is not reality is based on electrons and particles and these particles in turn act like waves so you have to have a new set of mathematics to discuss the way leaves that make up a molecule and that's where quantum computers come in they're based on electrons and these electrons how can they have so much computational power because they could be in two places at the same time that's what gives quantum computers their power they compute on not just one universe but an infinite number of parallel universes at the fundamental level quantum mechanics can be reduced down to a cat choate injuries cat let's take a box in the box you put a cat and the question is is the cat dead or alive well until you open the box you don't know it is alive and dead simultaneously is in a superposition of to states in other words the universe has split in half in one have the cat is alive and the other universe they get is dead that's the basis of the quantum theory that until you make a measurement the cat can exists in both states simultaneously in fact in any number of states simultaneously the cat can be dead or alive play ing jumping sideways sick any number of states now why am i mentioning this is this summarizes the power of quantum computers weren't to computers compute on parallel universes that's why they are so powerful so how much faster is a quantum computer over a digital computer in principle infinitely faster when we talk about digital computers we can measure their power in terms of bits for example spin up spin down zeros and one would constitute one bit for a large is your computer we're not talking about billions of bits that are modeled by train sisters except now quantum computers talk not just about spin up or a spin down but everything in between that's called a cuban one cupid represents all the possibilities have an object spinning between up and down thousands of cuba's can now be modeled with the latest generation of quantum computers eventually we hope to hit a million and so we're talking about exceeding the power of ordinary digital computers that's called quantum supremacy it is the point at which a quantum computer can out race and are perform a digital computer on a certain task we pass that several years ago but we want a machine that could exceed the power of any digital computer we're not there yet or very close to it the number one problem facing quantum computers is the question of d coherence everything is based on particles like electrons and electrons have waves associate with them when these waves are vibrating in unison as call coherence and then you can do calculations of a quantum mechanical nature but if you fall out of coherence that everyday vibrates at a different frequency and what is that called noise you have to reduce the temperature down to near absolute zero so everything is pretty much vibrating slowly in unison that's difficult now nature solves this problem it is the basis of all life on the earth photosynthesis for example is a quantum mechanical process mother nature can create coherence at room temperature amazing a flower can do calculations that are most advanced quantum computer cannot mother nature is still smarter than us when it comes to the quantum theory so let's face it there are hurdles affecting the growth of quantum computers but they pale in comparison to the benefits that may be unleashed by quantum computers were talking about opening the floodgates take a look for example of food supply the green revolution then allows us to feed the population of the world is slowly coming to an end we're trying to use quantum computers to unlock the secrets of how to make fertilizer from nitrogen take a look at energy quantum computers may be able to create fusion power by stabilizing the super hot hydrogen inside a fusion reactor and take a look at medicine you realize that life is based on molecules molecules they can create alzheimer's disease parkinson's disease cancer diseases are beyond the reach of digital computers but hey this is what decline to computers do will be able to model diseases at the molecular level and that's why we hope to cure the incurable using quantum computers were talking about turning medicine up i down my personal hope for quantum computers is that will be able to create a theory of the entire universe the theory that eluded einstein the theory that would explain black holes and supernovas and galactic evolution but the equations are so complex that know one no one has been able to solve them perhaps they'll be solved in the memory of a quantum computer   to learn even more from the world's biggest thinkers get big think plus for your business \", '2024-07-15 10:00:00')\n",
      "(26, 'Transcript', \"we all know the digital computers changed virtually every aspect of our life well the arrival of quantum computers could be even more historic than that we're now and the initial stages of the next revolution we're talking about a new generation of computers the ultimate computer a computer that computer on adam the ultimate constituents of batter itself the question is who's involved in this race to perfect quantum computers and the answer is everyone all the big players are part of this race because if they're not silicon valley could become the next rust belt also anyone who's interested in security is interested in the quantum computers they can crack almost any code that is based on digital technology that's why the f b i the cia and all national governments are following this is very closely what their computers will change everything the economy how he saw problems the way we interact with the universe you name it won't to computers will be there i'm doctor or michio kaku professor of theoretical physics at the city university of new york and author of quantum supremacy about the rise of quantum computers if he computers have gone through three basic stages stage one was the analog computer so two thousand years ago there was a shipwreck and in the boat that sank was a device and when you brushed away a the dirt and debris you began to realize that it was a machine a machine of incredible complexity he was in fact the world's first analog computer and it was designed to map the motion of the moon the sun and the planet's to simulate the universe but as we primitive people's became more prosperous we had to count things count how many cows you had count how much profit you may analog computers could be based on sticks bones whatever it took the count so this went on for thousands of years until finally we reach the work of charles babbage he creates the ultimate analog computer with hundreds of years and lovers and bullies and by turning the crank you can then calculate longitude latitude you can calculate interest rates it was very valuable to have it is made like that where the banking industry for commerce then world war two comes along babbage's machine is simply too primitive rated the german code so the job was given to mathematicians like alan turing alan turing was the one who codified lot of the laws of computation into what it's called a turing machine and of course is digital know the digital revolution is based on transistors it operates on zeros and ones zeros and ones at the speed of electricity every digital computer is a turing machine the next step beyond digital computers is the quantum era where to find it was one of the founders of quantum electrodynamics but also a visionary and he asked himself a simple question how small can you make a transistor and he realize that the old transistor is an atom one atom that could control the flow of electricity not just on or off but everything in between we have to go to quantum computers computers their computer on adams rather than on transistors transistors are based on zeros zero one zero zero one reality is not reality is based on electrons and particles and these particles in turn act like waves so you have to have a new set of mathematics to discuss the way leaves that make up a molecule and that's where quantum computers come in they're based on electrons and these electrons how can they have so much computational power because they could be in two places at the same time that's what gives quantum computers their power they compute on not just one universe but an infinite number of parallel universes at the fundamental level quantum mechanics can be reduced down to a cat choate injuries cat let's take a box in the box you put a cat and the question is is the cat dead or alive well until you open the box you don't know it is alive and dead simultaneously is in a superposition of to states in other words the universe has split in half in one have the cat is alive and the other universe they get is dead that's the basis of the quantum theory that until you make a measurement the cat can exists in both states simultaneously in fact in any number of states simultaneously the cat can be dead or alive play ing jumping sideways sick any number of states now why am i mentioning this is this summarizes the power of quantum computers weren't to computers compute on parallel universes that's why they are so powerful so how much faster is a quantum computer over a digital computer in principle infinitely faster when we talk about digital computers we can measure their power in terms of bits for example spin up spin down zeros and one would constitute one bit for a large is your computer we're not talking about billions of bits that are modeled by train sisters except now quantum computers talk not just about spin up or a spin down but everything in between that's called a cuban one cupid represents all the possibilities have an object spinning between up and down thousands of cuba's can now be modeled with the latest generation of quantum computers eventually we hope to hit a million and so we're talking about exceeding the power of ordinary digital computers that's called quantum supremacy it is the point at which a quantum computer can out race and are perform a digital computer on a certain task we pass that several years ago but we want a machine that could exceed the power of any digital computer we're not there yet or very close to it the number one problem facing quantum computers is the question of d coherence everything is based on particles like electrons and electrons have waves associate with them when these waves are vibrating in unison as call coherence and then you can do calculations of a quantum mechanical nature but if you fall out of coherence that everyday vibrates at a different frequency and what is that called noise you have to reduce the temperature down to near absolute zero so everything is pretty much vibrating slowly in unison that's difficult now nature solves this problem it is the basis of all life on the earth photosynthesis for example is a quantum mechanical process mother nature can create coherence at room temperature amazing a flower can do calculations that are most advanced quantum computer cannot mother nature is still smarter than us when it comes to the quantum theory so let's face it there are hurdles affecting the growth of quantum computers but they pale in comparison to the benefits that may be unleashed by quantum computers were talking about opening the floodgates take a look for example of food supply the green revolution then allows us to feed the population of the world is slowly coming to an end we're trying to use quantum computers to unlock the secrets of how to make fertilizer from nitrogen take a look at energy quantum computers may be able to create fusion power by stabilizing the super hot hydrogen inside a fusion reactor and take a look at medicine you realize that life is based on molecules molecules they can create alzheimer's disease parkinson's disease cancer diseases are beyond the reach of digital computers but hey this is what decline to computers do will be able to model diseases at the molecular level and that's why we hope to cure the incurable using quantum computers were talking about turning medicine up i down my personal hope for quantum computers is that will be able to create a theory of the entire universe the theory that eluded einstein the theory that would explain black holes and supernovas and galactic evolution but the equations are so complex that know one no one has been able to solve them perhaps they'll be solved in the memory of a quantum computer   to learn even more from the world's biggest thinkers get big think plus for your business \", '2024-07-15 10:00:00')\n",
      "(27, 'Transcript', \"we all know the digital computers changed virtually every aspect of our life well the arrival of quantum computers could be even more historic than that we're now and the initial stages of the next revolution we're talking about a new generation of computers the ultimate computer a computer that computer on adam the ultimate constituents of batter itself the question is who's involved in this race to perfect quantum computers and the answer is everyone all the big players are part of this race because if they're not silicon valley could become the next rust belt also anyone who's interested in security is interested in the quantum computers they can crack almost any code that is based on digital technology that's why the f b i the cia and all national governments are following this is very closely what their computers will change everything the economy how he saw problems the way we interact with the universe you name it won't to computers will be there i'm doctor or michio kaku professor of theoretical physics at the city university of new york and author of quantum supremacy about the rise of quantum computers if he computers have gone through three basic stages stage one was the analog computer so two thousand years ago there was a shipwreck and in the boat that sank was a device and when you brushed away a the dirt and debris you began to realize that it was a machine a machine of incredible complexity he was in fact the world's first analog computer and it was designed to map the motion of the moon the sun and the planet's to simulate the universe but as we primitive people's became more prosperous we had to count things count how many cows you had count how much profit you may analog computers could be based on sticks bones whatever it took the count so this went on for thousands of years until finally we reach the work of charles babbage he creates the ultimate analog computer with hundreds of years and lovers and bullies and by turning the crank you can then calculate longitude latitude you can calculate interest rates it was very valuable to have it is made like that where the banking industry for commerce then world war two comes along babbage's machine is simply too primitive rated the german code so the job was given to mathematicians like alan turing alan turing was the one who codified lot of the laws of computation into what it's called a turing machine and of course is digital know the digital revolution is based on transistors it operates on zeros and ones zeros and ones at the speed of electricity every digital computer is a turing machine the next step beyond digital computers is the quantum era where to find it was one of the founders of quantum electrodynamics but also a visionary and he asked himself a simple question how small can you make a transistor and he realize that the old transistor is an atom one atom that could control the flow of electricity not just on or off but everything in between we have to go to quantum computers computers their computer on adams rather than on transistors transistors are based on zeros zero one zero zero one reality is not reality is based on electrons and particles and these particles in turn act like waves so you have to have a new set of mathematics to discuss the way leaves that make up a molecule and that's where quantum computers come in they're based on electrons and these electrons how can they have so much computational power because they could be in two places at the same time that's what gives quantum computers their power they compute on not just one universe but an infinite number of parallel universes at the fundamental level quantum mechanics can be reduced down to a cat choate injuries cat let's take a box in the box you put a cat and the question is is the cat dead or alive well until you open the box you don't know it is alive and dead simultaneously is in a superposition of to states in other words the universe has split in half in one have the cat is alive and the other universe they get is dead that's the basis of the quantum theory that until you make a measurement the cat can exists in both states simultaneously in fact in any number of states simultaneously the cat can be dead or alive play ing jumping sideways sick any number of states now why am i mentioning this is this summarizes the power of quantum computers weren't to computers compute on parallel universes that's why they are so powerful so how much faster is a quantum computer over a digital computer in principle infinitely faster when we talk about digital computers we can measure their power in terms of bits for example spin up spin down zeros and one would constitute one bit for a large is your computer we're not talking about billions of bits that are modeled by train sisters except now quantum computers talk not just about spin up or a spin down but everything in between that's called a cuban one cupid represents all the possibilities have an object spinning between up and down thousands of cuba's can now be modeled with the latest generation of quantum computers eventually we hope to hit a million and so we're talking about exceeding the power of ordinary digital computers that's called quantum supremacy it is the point at which a quantum computer can out race and are perform a digital computer on a certain task we pass that several years ago but we want a machine that could exceed the power of any digital computer we're not there yet or very close to it the number one problem facing quantum computers is the question of d coherence everything is based on particles like electrons and electrons have waves associate with them when these waves are vibrating in unison as call coherence and then you can do calculations of a quantum mechanical nature but if you fall out of coherence that everyday vibrates at a different frequency and what is that called noise you have to reduce the temperature down to near absolute zero so everything is pretty much vibrating slowly in unison that's difficult now nature solves this problem it is the basis of all life on the earth photosynthesis for example is a quantum mechanical process mother nature can create coherence at room temperature amazing a flower can do calculations that are most advanced quantum computer cannot mother nature is still smarter than us when it comes through the quantum theory so let's face it there are hurdles affecting the growth of quantum computers but they pale in comparison to the benefits that may be unleashed by quantum computers were talking about opening the floodgates take a look for example of food supply the green revolution then allows us to feed the population of the world is slowly coming to an end we're trying to use quantum computers to unlock the secrets of how to make fertilizer from nitrogen take a look at energy quantum computers may be able to create fusion power by stabilizing the super hot hydrogen inside a fusion reactor and take a look at medicine you realize that life is based on molecules molecules they can create alzheimer's disease parkinson's disease cancer diseases are beyond the reach of digital computers but hey this is what decline to computers do will be able to model diseases at the molecular level and that's why we hope to cure the incurable using quantum computers were talking about turning medicine up i down my personal hope for quantum computers is that will be able to create a theory of the entire universe the theory that eluded einstein the theory that would explain black holes and supernovas and galactic evolution but the equations are so complex that know one no one has been able to solve them perhaps they'll be solved in the memory of a quantum computer   to learn even more from the world's biggest thinkers get big think plus for your business \", '2024-07-15 10:00:00')\n",
      "(28, 'Transcript', \"we all know the digital computers changed virtually every aspect of our life well the arrival of quantum computers could be even more historic than that we're now and the initial stages of the next revolution we're talking about a new generation of computers the ultimate computer a computer that computer on adam the ultimate constituents of batter itself the question is who's involved in this race to perfect quantum computers and the answer is everyone all the big players are part of this race because if they're not silicon valley could become the next rust belt also anyone who's interested in security is interested in the quantum computers they can crack almost any code that is based on digital technology that's why the f b i the cia and all national governments are following this is very closely what their computers will change everything the economy how he saw problems the way we interact with the universe you name it won't to computers will be there i'm doctor or michio kaku professor of theoretical physics at the city university of new york and author of quantum supremacy about the rise of quantum computers if he computers have gone through three basic stages stage one was the analog computer so two thousand years ago there was a shipwreck and in the boat that sank was a device and when you brushed away a the dirt and debris you began to realize that it was a machine a machine of incredible complexity he was in fact the world's first analog computer and it was designed to map the motion of the moon the sun and the planet's to simulate the universe but as we primitive people's became more prosperous we had to count things count how many cows you had count how much profit you may analog computers could be based on sticks bones whatever it took the count so this went on for thousands of years until finally we reach the work of charles babbage he creates the ultimate analog computer with hundreds of years and lovers and bullies and by turning the crank you can then calculate longitude latitude you can calculate interest rates it was very valuable to have it is made like that where the banking industry for commerce then world war two comes along babbage's machine is simply too primitive rated the german code so the job was given to mathematicians like alan turing alan turing was the one who codified lot of the laws of computation into what it's called a turing machine and of course is digital know the digital revolution is based on transistors it operates on zeros and ones zeros and ones at the speed of electricity every digital computer is a turing machine the next step beyond digital computers is the quantum era where to find it was one of the founders of quantum electrodynamics but also a visionary and he asked himself a simple question how small can you make a transistor and he realize that the old transistor is an atom one atom that could control the flow of electricity not just on or off but everything in between we have to go to quantum computers computers their computer on adams rather than on transistors transistors are based on zeros zero one zero zero one reality is not reality is based on electrons and particles and these particles in turn act like waves so you have to have a new set of mathematics to discuss the way leaves that make up a molecule and that's where quantum computers come in they're based on electrons and these electrons how can they have so much computational power because they could be in two places at the same time that's what gives quantum computers their power they compute on not just one universe but an infinite number of parallel universes at the fundamental level quantum mechanics can be reduced down to a cat choate injuries cat let's take a box in the box you put a cat and the question is is the cat dead or alive well until you open the box you don't know it is alive and dead simultaneously is in a superposition of to states in other words the universe has split in half in one have the cat is alive and the other universe they get is dead that's the basis of the quantum theory that until you make a measurement the cat can exists in both states simultaneously in fact in any number of states simultaneously the cat can be dead or alive play ing jumping sideways sick any number of states now why am i mentioning this is this summarizes the power of quantum computers weren't to computers compute on parallel universes that's why they are so powerful so how much faster is a quantum computer over a digital computer in principle infinitely faster when we talk about digital computers we can measure their power in terms of bits for example spin up spin down zeros and one would constitute one bit for a large is your computer we're not talking about billions of bits that are modeled by train sisters except now quantum computers talk not just about spin up or a spin down but everything in between that's called a cuban one cupid represents all the possibilities have an object spinning between up and down thousands of cuba's can now be modeled with the latest generation of quantum computers eventually we hope to hit a million and so we're talking about exceeding the power of ordinary digital computers that's called quantum supremacy it is the point at which a quantum computer can out race and are perform a digital computer on a certain task we pass that several years ago but we want a machine that could exceed the power of any digital computer we're not there yet or very close to it the number one problem facing quantum computers is the question of d coherence everything is based on particles like electrons and electrons have waves associate with them when these waves are vibrating in unison as call coherence and then you can do calculations of a quantum mechanical nature but if you fall out of coherence that everyday vibrates at a different frequency and what is that called noise you have to reduce the temperature down to near absolute zero so everything is pretty much vibrating slowly in unison that's difficult now nature solves this problem it is the basis of all life on the earth photosynthesis for example is a quantum mechanical process mother nature can create coherence at room temperature amazing a flower can do calculations that are most advanced quantum computer cannot mother nature is still smarter than us when it comes to the quantum theory so let's face it there are hurdles affecting the growth of quantum computers but they pale in comparison to the benefits that may be unleashed by quantum computers were talking about opening the floodgates take a look for example of food supply the green revolution then allows us to feed the population of the world is slowly coming to an end we're trying to use quantum computers to unlock the secrets of how to make fertilizer from nitrogen take a look at energy quantum computers may be able to create fusion power by stabilizing the super hot hydrogen inside a fusion reactor and take a look at medicine you realize that life is based on molecules molecules they can create alzheimer's disease parkinson's disease cancer diseases are beyond the reach of digital computers but hey this is what decline to computers do will be able to model diseases at the molecular level and that's why we hope to cure the incurable using quantum computers were talking about turning medicine up i down my personal hope for quantum computers is that will be able to create a theory of the entire universe the theory that eluded einstein the theory that would explain black holes and supernovas and galactic evolution but the equations are so complex that know one no one has been able to solve them perhaps they'll be solved in the memory of a quantum computer   to learn even more from the world's biggest thinkers get big think plus for your business \", '2024-07-15 10:00:00')\n"
     ]
    }
   ],
   "source": [
    "# Connect to the SQLite database\n",
    "conn = sqlite3.connect('transcriptions.db')\n",
    "cursor = conn.cursor()\n",
    "\n",
    "# Query the data\n",
    "cursor.execute('SELECT * FROM transcriptions')\n",
    "rows = cursor.fetchall()\n",
    "\n",
    "for row in rows:\n",
    "    print(row)\n",
    "\n",
    "conn.close()\n"
   ]
  },
  {
   "cell_type": "code",
   "execution_count": 7,
   "metadata": {
    "colab": {
     "base_uri": "https://localhost:8080/"
    },
    "id": "bfQt9MWafsqY",
    "outputId": "558ad6a6-ea5c-43d0-e6ed-f0a806c1cdee"
   },
   "outputs": [
    {
     "data": {
      "text/plain": [
       "<Encoding 'cl100k_base'>"
      ]
     },
     "execution_count": 7,
     "metadata": {},
     "output_type": "execute_result"
    }
   ],
   "source": [
    "tiktoken.encoding_for_model('gpt-3.5-turbo')"
   ]
  },
  {
   "cell_type": "code",
   "execution_count": 8,
   "metadata": {
    "colab": {
     "base_uri": "https://localhost:8080/"
    },
    "id": "cE840RqVoyWE",
    "outputId": "1e0cd5d7-404a-4d6b-e015-95f885cdb182"
   },
   "outputs": [
    {
     "name": "stdout",
     "output_type": "stream",
     "text": [
      "Chunk 1:\n",
      "we all know the digital computers changed virtually every aspect of our life well the arrival of quantum computers could be even more historic than that we're now and the initial stages of the next revolution we're talking about a new generation of computers the ultimate computer a computer that computer on adam the ultimate constituents of batter itself the question is who's involved in this race to perfect quantum computers and the answer is everyone all the big players are part of this race because if they're not silicon valley could become the next rust belt also anyone who's interested in security is interested in the quantum computers they can crack almost any code that is based on digital technology that's why the f b i the cia and all national governments are following this is very closely what their computers will change everything the economy how he saw problems the way we interact with the universe you name it won't to computers will be there i'm doctor or michio kaku professor of theoretical physics at the city university of new york and author of quantum supremacy about the rise of quantum computers if he computers have gone through three basic stages stage one was the analog computer so two thousand years ago there was a shipwreck and in the boat that sank was a device and when you brushed away a the dirt and debris you began to realize that it was a machine a machine of incredible complexity he was in fact the world's first analog computer and it was designed to map the motion of the moon the sun and the planet's to simulate the universe but as we primitive people's became more prosperous we had to count things count how many cows you had count how much profit you may analog computers could be based on sticks bones whatever it took the count so this went on for thousands of years until finally we reach the work of charles babbage he creates the ultimate analog computer with hundreds of years and lovers and bullies and by turning the crank you can then calculate longitude latitude you can calculate interest rates it was very valuable to have it is made like that where the banking industry for commerce then world war two comes along babbage's machine is simply too primitive rated the german code so the job was given to mathematicians like alan turing alan turing was the one who codified lot of the laws of computation into what it's called a turing machine and of course is digital know the digital revolution is based on transistors it operates on zeros and ones zeros and ones at the speed of electricity every digital computer is a turing machine the next step beyond digital computers is the quantum era where to find it was one of the founders of quantum electrodynamics but also a visionary and he asked himself a simple question how small can you make\n",
      "\n",
      "Chunk 2:\n",
      "founders of quantum electrodynamics but also a visionary and he asked himself a simple question how small can you make a transistor and he realize that the old transistor is an atom one atom that could control the flow of electricity not just on or off but everything in between we have to go to quantum computers computers their computer on adams rather than on transistors transistors are based on zeros zero one zero zero one reality is not reality is based on electrons and particles and these particles in turn act like waves so you have to have a new set of mathematics to discuss the way leaves that make up a molecule and that's where quantum computers come in they're based on electrons and these electrons how can they have so much computational power because they could be in two places at the same time that's what gives quantum computers their power they compute on not just one universe but an infinite number of parallel universes at the fundamental level quantum mechanics can be reduced down to a cat choate injuries cat let's take a box in the box you put a cat and the question is is the cat dead or alive well until you open the box you don't know it is alive and dead simultaneously is in a superposition of to states in other words the universe has split in half in one have the cat is alive and the other universe they get is dead that's the basis of the quantum theory that until you make a measurement the cat can exists in both states simultaneously in fact in any number of states simultaneously the cat can be dead or alive play ing jumping sideways sick any number of states now why am i mentioning this is this summarizes the power of quantum computers weren't to computers compute on parallel universes that's why they are so powerful so how much faster is a quantum computer over a digital computer in principle infinitely faster when we talk about digital computers we can measure their power in terms of bits for example spin up spin down zeros and one would constitute one bit for a large is your computer we're not talking about billions of bits that are modeled by train sisters except now quantum computers talk not just about spin up or a spin down but everything in between that's called a cuban one cupid represents all the possibilities have an object spinning between up and down thousands of cuba's can now be modeled with the latest generation of quantum computers eventually we hope to hit a million and so we're talking about exceeding the power of ordinary digital computers that's called quantum supremacy it is the point at which a quantum computer can out race and are perform a digital computer on a certain task we pass that several years ago but we want a machine that could exceed the power of any digital\n",
      "\n",
      "Chunk 3:\n",
      "task we pass that several years ago but we want a machine that could exceed the power of any digital computer we're not there yet or very close to it the number one problem facing quantum computers is the question of d coherence everything is based on particles like electrons and electrons have waves associate with them when these waves are vibrating in unison as call coherence and then you can do calculations of a quantum mechanical nature but if you fall out of coherence that everyday vibrates at a different frequency and what is that called noise you have to reduce the temperature down to near absolute zero so everything is pretty much vibrating slowly in unison that's difficult now nature solves this problem it is the basis of all life on the earth photosynthesis for example is a quantum mechanical process mother nature can create coherence at room temperature amazing a flower can do calculations that are most advanced quantum computer cannot mother nature is still smarter than us when it comes to the quantum theory so let's face it there are hurdles affecting the growth of quantum computers but they pale in comparison to the benefits that may be unleashed by quantum computers were talking about opening the floodgates take a look for example of food supply the green revolution then allows us to feed the population of the world is slowly coming to an end we're trying to use quantum computers to unlock the secrets of how to make fertilizer from nitrogen take a look at energy quantum computers may be able to create fusion power by stabilizing the super hot hydrogen inside a fusion reactor and take a look at medicine you realize that life is based on molecules molecules they can create alzheimer's disease parkinson's disease cancer diseases are beyond the reach of digital computers but hey this is what decline to computers do will be able to model diseases at the molecular level and that's why we hope to cure the incurable using quantum computers were talking about turning medicine up i down my personal hope for quantum computers is that will be able to create a theory of the entire universe the theory that eluded einstein the theory that would explain black holes and supernovas and galactic evolution but the equations are so complex that know one no one has been able to solve them perhaps they'll be solved in the memory of a quantum computer   to learn even more from the world's biggest thinkers get big think plus for your business\n",
      "\n"
     ]
    }
   ],
   "source": [
    "# Function to calculate the length of text in terms of tokens\n",
    "def tiktoken_len(text):\n",
    "    return len(text.split())\n",
    "\n",
    "# Connect to the SQLite database\n",
    "conn = sqlite3.connect('transcriptions.db')\n",
    "cursor = conn.cursor()\n",
    "\n",
    "# Query the data\n",
    "cursor.execute('SELECT text FROM transcriptions WHERE id = 1')\n",
    "transcription_text = cursor.fetchone()[0]\n",
    "\n",
    "# Close the connection\n",
    "conn.close()\n",
    "\n",
    "# Initialize the text splitter\n",
    "text_splitter = RecursiveCharacterTextSplitter(\n",
    "    chunk_size=500,\n",
    "    chunk_overlap=20,\n",
    "    length_function=tiktoken_len\n",
    ")\n",
    "\n",
    "# Split the transcription text into chunks\n",
    "chunks = text_splitter.split_text(transcription_text)[:3]\n",
    "\n",
    "# Print the first 3 chunks\n",
    "for i, chunk in enumerate(chunks, 1):\n",
    "    print(f\"Chunk {i}:\")\n",
    "    print(chunk)\n",
    "    print()\n"
   ]
  },
  {
   "cell_type": "code",
   "execution_count": 9,
   "metadata": {
    "id": "Fg6yrbYA-TUl"
   },
   "outputs": [],
   "source": [
    "# transcription_text"
   ]
  },
  {
   "cell_type": "code",
   "execution_count": 10,
   "metadata": {
    "colab": {
     "base_uri": "https://localhost:8080/"
    },
    "id": "Uow5Kptcf8E3",
    "outputId": "1d29a2f0-0b64-4695-b9bf-0447afb819f4"
   },
   "outputs": [
    {
     "data": {
      "text/plain": [
       "(500, 500, 430)"
      ]
     },
     "execution_count": 10,
     "metadata": {},
     "output_type": "execute_result"
    }
   ],
   "source": [
    "tiktoken_len(chunks[0]), tiktoken_len(chunks[1]), tiktoken_len(chunks[2])"
   ]
  },
  {
   "cell_type": "markdown",
   "metadata": {
    "id": "UjOE_09aV-i_"
   },
   "source": [
    "# Text embedding"
   ]
  },
  {
   "cell_type": "code",
   "execution_count": 11,
   "metadata": {
    "id": "4t6QZLiff-r9"
   },
   "outputs": [],
   "source": [
    "model_name = 'text-embedding-ada-002'\n",
    "\n",
    "embed = OpenAIEmbeddings(\n",
    "    model=model_name,\n",
    "    openai_api_key=openai_api_key\n",
    ")"
   ]
  },
  {
   "cell_type": "markdown",
   "metadata": {
    "id": "Lzda8_v7WEEY"
   },
   "source": [
    "# Indexing"
   ]
  },
  {
   "cell_type": "code",
   "execution_count": 12,
   "metadata": {
    "id": "yCvMyQZwgFRk"
   },
   "outputs": [],
   "source": [
    "# configure client\n",
    "pc = Pinecone(api_key=pinecone_api_key)"
   ]
  },
  {
   "cell_type": "code",
   "execution_count": 13,
   "metadata": {
    "id": "viwD7prCgFzG"
   },
   "outputs": [],
   "source": [
    "spec = ServerlessSpec(\n",
    "    cloud=\"aws\", region=\"us-east-1\"\n",
    ")"
   ]
  },
  {
   "cell_type": "code",
   "execution_count": 14,
   "metadata": {
    "colab": {
     "base_uri": "https://localhost:8080/"
    },
    "id": "3EumUJ3RgMWD",
    "outputId": "89247b8f-e64a-4063-e67f-5d10e4577625"
   },
   "outputs": [
    {
     "data": {
      "text/plain": [
       "{'dimension': 1536,\n",
       " 'index_fullness': 0.0,\n",
       " 'namespaces': {'': {'vector_count': 10086}},\n",
       " 'total_vector_count': 10086}"
      ]
     },
     "execution_count": 14,
     "metadata": {},
     "output_type": "execute_result"
    }
   ],
   "source": [
    "index_name = 'langchain-retrieval-augmentation'\n",
    "existing_indexes = [\n",
    "    index_info[\"name\"] for index_info in pc.list_indexes()\n",
    "]\n",
    "\n",
    "# check if index already exists (it shouldn't if this is first time)\n",
    "if index_name not in existing_indexes:\n",
    "    # if does not exist, create index\n",
    "    pc.create_index(\n",
    "        index_name,\n",
    "        dimension=1536,  # dimensionality of ada 002\n",
    "        metric='dotproduct',\n",
    "        spec=spec\n",
    "    )\n",
    "    # wait for index to be initialized\n",
    "    while not pc.describe_index(index_name).status['ready']:\n",
    "        time.sleep(1)\n",
    "\n",
    "# connect to index\n",
    "index = pc.Index(index_name)\n",
    "time.sleep(1)\n",
    "# view index stats\n",
    "index.describe_index_stats()"
   ]
  },
  {
   "cell_type": "markdown",
   "metadata": {
    "id": "n3pDncvFWPxm"
   },
   "source": [
    "# Data processing"
   ]
  },
  {
   "cell_type": "code",
   "execution_count": 15,
   "metadata": {
    "colab": {
     "base_uri": "https://localhost:8080/",
     "height": 66,
     "referenced_widgets": [
      "92cbdaf972004576951aa4a418fe4d83",
      "ce91347a876246fdbfb47461184423a3",
      "582182f94da94f34b5a8470180d1f595",
      "60815b7b8320477e969cd67cb3aff844",
      "fec3f075ae2c4172a9199b80898e58f7",
      "3914abf7153a4d48b2f6a187e15012f6",
      "e08df7238a0344e5a0d535afe9ce97dc",
      "9cc58f3194eb4d19a9cb13202361c518",
      "aa94e9f12b684778848d4735a38a5c54",
      "0903c5ebc65c437c8e18c6676923c32a",
      "96681bb9a7c64238a7898c307b52744e",
      "c7d5a16810c54e89ba58fed922c6cde4"
     ]
    },
    "id": "GA9dvvRsgP_L",
    "outputId": "7030436c-6c49-4c45-8016-43897d65334b"
   },
   "outputs": [
    {
     "data": {
      "application/vnd.jupyter.widget-view+json": {
       "model_id": "27c440e2aff3495193cc97a59e4b76ac",
       "version_major": 2,
       "version_minor": 0
      },
      "text/plain": [
       "  0%|          | 0/28 [00:00<?, ?it/s]"
      ]
     },
     "metadata": {},
     "output_type": "display_data"
    },
    {
     "name": "stdout",
     "output_type": "stream",
     "text": [
      "Data processing completed.\n"
     ]
    }
   ],
   "source": [
    "batch_limit=50\n",
    "\n",
    "# Initialize text splitter\n",
    "text_splitter = RecursiveCharacterTextSplitter(\n",
    "    chunk_size=500,\n",
    "    chunk_overlap=20,\n",
    "    length_function=len  # You can replace with your custom token length function if needed\n",
    ")\n",
    "\n",
    "# Connect to SQLite database\n",
    "conn = sqlite3.connect('transcriptions.db')\n",
    "cursor = conn.cursor()\n",
    "\n",
    "# Fetch data from SQLite database\n",
    "cursor.execute('SELECT id, speaker, text FROM transcriptions')\n",
    "data = cursor.fetchall()\n",
    "\n",
    "# Close the database connection\n",
    "conn.close()\n",
    "\n",
    "# Initialize lists for texts and metadatas\n",
    "texts = []\n",
    "metadatas = []\n",
    "\n",
    "# Process each record fetched from the database\n",
    "for i, record in enumerate(tqdm(data)):\n",
    "    # Metadata fields for this record\n",
    "    metadata = {\n",
    "        #'index': str(record[0]),  # Assuming id is the first column\n",
    "        'speaker': record[1],  # Replace with actual source if available\n",
    "        'text': record[2],  # Example title based on id\n",
    "    }\n",
    "\n",
    "    # Split text into chunks\n",
    "    record_texts = text_splitter.split_text(record[2])  # Assuming text is the third column\n",
    "\n",
    "    # Create individual metadata dicts for each chunk\n",
    "    record_metadatas = [{\n",
    "        \"chunk\": j,\n",
    "        \"text\": text,\n",
    "        **metadata\n",
    "    } for j, text in enumerate(record_texts)]\n",
    "\n",
    "    # Append texts and metadatas to current batches\n",
    "    texts.extend(record_texts)\n",
    "    metadatas.extend(record_metadatas)\n",
    "\n",
    "    # Check if batch limit is reached, then embed and upsert\n",
    "    if len(texts) >= batch_limit:\n",
    "        ids = [str(uuid4()) for _ in range(len(texts))]\n",
    "        embeds = embed.embed_documents(texts)\n",
    "\n",
    "        # Assuming `index` is where you want to upsert (not defined in the snippet)\n",
    "        index.upsert(vectors=zip(ids, embeds, metadatas))\n",
    "\n",
    "        # Clear lists after upserting\n",
    "        texts = []\n",
    "        metadatas = []\n",
    "\n",
    "# Process any remaining texts in the lists\n",
    "if len(texts) > 0:\n",
    "    ids = [str(uuid4()) for _ in range(len(texts))]\n",
    "    embeds = embed.embed_documents(texts)\n",
    "    index.upsert(vectors=zip(ids, embeds, metadatas))\n",
    "\n",
    "print(\"Data processing completed.\")\n"
   ]
  },
  {
   "cell_type": "code",
   "execution_count": 16,
   "metadata": {
    "colab": {
     "base_uri": "https://localhost:8080/"
    },
    "id": "jq2lYYufgTii",
    "outputId": "f91d0603-af47-4f18-c690-ebb2de928a83"
   },
   "outputs": [
    {
     "data": {
      "text/plain": [
       "{'dimension': 1536,\n",
       " 'index_fullness': 0.0,\n",
       " 'namespaces': {'': {'vector_count': 10562}},\n",
       " 'total_vector_count': 10562}"
      ]
     },
     "execution_count": 16,
     "metadata": {},
     "output_type": "execute_result"
    }
   ],
   "source": [
    "index.describe_index_stats()"
   ]
  },
  {
   "cell_type": "markdown",
   "metadata": {
    "id": "GLDd2kuxWVdb"
   },
   "source": [
    "# Initialize Pinecone Vector Store"
   ]
  },
  {
   "cell_type": "code",
   "execution_count": 17,
   "metadata": {
    "id": "M95n1yELgYJK"
   },
   "outputs": [],
   "source": [
    "# Define the metadata field that contains your text\n",
    "text_field = 'text'\n",
    "\n",
    "# Initialize the Pinecone vector store object\n",
    "vectorstore = PineconeVectorStore(index, embed, text_field)"
   ]
  },
  {
   "cell_type": "code",
   "execution_count": 18,
   "metadata": {
    "colab": {
     "base_uri": "https://localhost:8080/"
    },
    "id": "iLoySPXtgbMa",
    "outputId": "a81a7214-b1b2-42ff-d66e-13530197fe8d"
   },
   "outputs": [
    {
     "name": "stdin",
     "output_type": "stream",
     "text": [
      "Please enter your query:  What is a qubit?\n"
     ]
    },
    {
     "data": {
      "text/plain": [
       "[Document(metadata={'chunk': 10.0, 'speaker': 'unknown'}, page_content=\"we all know the digital computers changed virtually every aspect of our life well the arrival of quantum computers could be even more historic than that we're now and the initial stages of the next revolution we're talking about a new generation of computers the ultimate computer a computer that computer on adam the ultimate constituents of batter itself the question is who's involved in this race to perfect quantum computers and the answer is everyone all the big players are part of this race because if they're not silicon valley could become the next rust belt also anyone who's interested in security is interested in the quantum computers they can crack almost any code that is based on digital technology that's why the f b i the cia and all national governments are following this is very closely what their computers will change everything the economy how he saw problems the way we interact with the universe you name it won't to computers will be there i'm doctor or michio kaku professor of theoretical physics at the city university of new york and author of quantum supremacy about the rise of quantum computers if he computers have gone through three basic stages stage one was the analog computer so two thousand years ago there was a shipwreck and in the boat that sank was a device and when you brushed away a the dirt and debris you began to realize that it was a machine a machine of incredible complexity he was in fact the world's first analog computer and it was designed to map the motion of the moon the sun and the planet's to simulate the universe but as we primitive people's became more prosperous we had to count things count how many cows you had count how much profit you may analog computers could be based on sticks bones whatever it took the count so this went on for thousands of years until finally we reach the work of charles babbage he creates the ultimate analog computer with hundreds of years and lovers and bullies and by turning the crank you can then calculate longitude latitude you can calculate interest rates it was very valuable to have it is made like that where the banking industry for commerce then world war two comes along babbage's machine is simply too primitive rated the german code so the job was given to mathematicians like alan turing alan turing was the one who codified lot of the laws of computation into what it's called a turing machine and of course is digital know the digital revolution is based on transistors it operates on zeros and ones zeros and ones at the speed of electricity every digital computer is a turing machine the next step beyond digital computers is the quantum era richard find it was one of the founders of quantum electrodynamics but also a visionary and he asked himself a simple question how small can you make a transistor and he realize that the ultimate transistor is an atom one atom that could control the flow of and atrocity not just on or off but everything in between we have to go to quantum computers computers their computer on adams rather than on transistors transistors are based on zeros zero one zero zero one reality is not reality is based on electrons and particles and these particles in turn act like waves so you have to have a new set of mathematics to discuss the way leaves that make up a molecule and that's where quantum computers come in they're based on electrons and these electrons how can they have so much computational power because they could be in two places at the same time that's what gives quantum computers their power they compute on not just one universe but an infinite number of parallel universes at the fundamental level quantum mechanics can be reduced down to a cat choate injuries cat let's take a box in the box you put a cat and the question is is the cat dead or alive well until you open the box you don't know it is alive and dead simultaneously is in a superposition of to states in other words the universe has split in half in one have the cat is alive and the other universe they get is dead that's the basis of the quantum theory that until you make a measurement the cat can exists in both states simultaneously in fact in any number of states simultaneously the cat can be dead or alive play ing jumping sideways sick any number of states now why am i mentioning this is this summarizes the power of quantum computers weren't to computers compute on parallel universes that's why they are so powerful so how much faster is a quantum computer over a digital computer in principle infinitely faster when we talk about digital computers we can measure their power in terms of bits for example spin up spin down zeros and one would constitute one bit for a large is your computer we're not talking about billions of bits that are modeled by train sisters except now quantum computers talk not just about spin up or a spin down but everything in between that's called a cuban one cupid represents all the possibilities have an object spinning between up and down thousands of cuba's can now be modeled with the latest generation of quantum computers eventually we hope to hit a million and so we're talking about exceeding the power of ordinary digital computers that's called quantum supremacy it is the point at which a quantum computer can out race and are perform a digital computer on a certain task we pass that several years ago but we want a machine that could exceed the power of any digital computer we're not there yet or very close to it the number one problem facing quantum computers is the question of d coherence everything is based on particles like electrons and electrons have waves associate with them when these waves are vibrating in unison as call coherence and then you can do calculations of a quantum mechanical nature but if you fall out of coherence that everyday vibrates at a different frequency and what is that called noise you have to reduce the temperature down to near absolute zero so everything is pretty much vibrating slowly in unison that's difficult now nature solves this problem it is the basis of all life on the earth photosynthesis for example is a quantum mechanical process mother nature can create coherence at room temperature amazing a flower can do calculations that are most advanced quantum computer cannot mother nature is still smarter than us when it comes to the quantum theory so let's face it there are hurdles affecting the growth of quantum computers but they pale in comparison to the benefits that may be unleashed by quantum computers were talking about opening the floodgates take a look for example of food supply the green revolution then allows us to feed the population of the world is slowly coming to an end we're trying to use quantum computers to unlock the secrets of how to make fertilizer from nitrogen take a look at energy quantum computers may be able to create fusion power by stabilizing the super hot hydrogen inside a fusion reactor and take a look at medicine you realize that life is based on molecules molecules they can create alzheimer's disease parkinson's disease cancer diseases are beyond the reach of digital computers but hey this is what decline to computers do will be able to model diseases at the molecular level and that's why we hope to cure the incurable using quantum computers were talking about turning medicine up i down my personal hope for quantum computers is that will be able to create a theory of the entire universe the theory that eluded einstein the theory that would explain black holes and supernovas and galactic evolution but the equations are so complex that know one no one has been able to solve them perhaps they'll be solved in the memory of a quantum computer   to learn even more from the world's biggest thinkers get big think plus for your business\"),\n",
       " Document(metadata={'chunk': 10.0, 'speaker': 'unknown'}, page_content=\"we all know the digital computers changed virtually every aspect of our life well the arrival of quantum computers could be even more historic than that we're now and the initial stages of the next revolution we're talking about a new generation of computers the ultimate computer a computer that computer on adam the ultimate constituents of batter itself the question is who's involved in this race to perfect quantum computers and the answer is everyone all the big players are part of this race because if they're not silicon valley could become the next rust belt also anyone who's interested in security is interested in the quantum computers they can crack almost any code that is based on digital technology that's why the f b i the cia and all national governments are following this is very closely what their computers will change everything the economy how he saw problems the way we interact with the universe you name it won't to computers will be there i'm doctor or michio kaku professor of theoretical physics at the city university of new york and author of quantum supremacy about the rise of quantum computers if he computers have gone through three basic stages stage one was the analog computer so two thousand years ago there was a shipwreck and in the boat that sank was a device and when you brushed away a the dirt and debris you began to realize that it was a machine a machine of incredible complexity he was in fact the world's first analog computer and it was designed to map the motion of the moon the sun and the planet's to simulate the universe but as we primitive people's became more prosperous we had to count things count how many cows you had count how much profit you may analog computers could be based on sticks bones whatever it took the count so this went on for thousands of years until finally we reach the work of charles babbage he creates the ultimate analog computer with hundreds of years and lovers and bullies and by turning the crank you can then calculate longitude latitude you can calculate interest rates it was very valuable to have it is made like that where the banking industry for commerce then world war two comes along babbage's machine is simply too primitive rated the german code so the job was given to mathematicians like alan turing alan turing was the one who codified lot of the laws of computation into what it's called a turing machine and of course is digital know the digital revolution is based on transistors it operates on zeros and ones zeros and ones at the speed of electricity every digital computer is a turing machine the next step beyond digital computers is the quantum era richard find it was one of the founders of quantum electrodynamics but also a visionary and he asked himself a simple question how small can you make a transistor and he realize that the ultimate transistor is an atom one atom that could control the flow of and atrocity not just on or off but everything in between we have to go to quantum computers computers their computer on adams rather than on transistors transistors are based on zeros zero one zero zero one reality is not reality is based on electrons and particles and these particles in turn act like waves so you have to have a new set of mathematics to discuss the way leaves that make up a molecule and that's where quantum computers come in they're based on electrons and these electrons how can they have so much computational power because they could be in two places at the same time that's what gives quantum computers their power they compute on not just one universe but an infinite number of parallel universes at the fundamental level quantum mechanics can be reduced down to a cat should injuries cat let's take a box in the box you put a cat and the question is is the cat dead or alive well until you open the box you don't know it is alive and dead simultaneously is in a superposition of to states in other words the universe has split in half in one have the cat is alive and the other universe they get is dead that's the basis of the quantum theory that until you make a measurement the cat can exists in both states simultaneously in fact in any number of states simultaneously the cat can be dead or alive play ing jumping sideways sick any number of states now why am i mentioning this is this summarizes the power of quantum computers weren't to computers compute on parallel universes that's why they are so powerful so how much faster is a quantum computer over a digital computer in principle infinitely faster when we talk about digital computers we can measure their power in terms of bits for example spin up spin down zeros and one would constitute one bit for a large is your computer we're not talking about billions of bits that are modeled by train sisters except now quantum computers talk not just about spin up or a spin down but everything in between that's called a cuban one cupid represents all the possibilities have an object spinning between up and down thousands of cuba's can now be modeled with the latest generation of quantum computers eventually we hope to hit a million and so we're talking about exceeding the power of ordinary digital computers that's called quantum supremacy it is the point at which a quantum computer can out race and are perform a digital computer on a certain task we pass that several years ago but we want a machine that could exceed the power of any digital computer we're not there yet or very close to it the number one problem facing quantum computers is the question of d coherence everything is based on particles like electrons and electrons have waves associate with them when these waves are vibrating in unison as call coherence and then you can do calculations of a quantum mechanical nature but if you fall out of coherence that everyday vibrates at a different frequency and what is that called noise you have to reduce the temperature down to near absolute zero so everything is pretty much vibrating slowly in unison that's difficult now nature solves this problem it is the basis of all life on the earth photosynthesis for example is a quantum mechanical process mother nature can create coherence at room temperature amazing a flower can do calculations that are most advanced quantum computer cannot mother nature is still smarter than us when it comes to the quantum theory so let's face it there are hurdles affecting the growth of quantum computers but they pale in comparison to the benefits that may be unleashed by quantum computers were talking about opening the floodgates take a look for example of food supply the green revolution then allows us to feed the population of the world is slowly coming to an end we're trying to use quantum computers to unlock the secrets of how to make fertilizer from nitrogen take a look at energy quantum computers may be able to create fusion power by stabilizing the super hot hydrogen inside a fusion reactor and take a look at medicine you realize that life is based on molecules molecules they can create alzheimer's disease parkinson's disease cancer diseases are beyond the reach of digital computers but hey this is what a to computers do will be able to model diseases at the molecular level and that's why we hope to cure the incurable using quantum computers were talking about turning medicine up i down my personal hope for quantum computers is that will be able to create a theory of the entire universe the theory that eluded einstein the theory that would explain black holes and supernovas and galactic evolution but the equations are so complex that know one no one has been able to solve them perhaps they'll be solved in the memory of a quantum computer   to learn even more from the world's biggest thinkers get big think plus for your business \"),\n",
       " Document(metadata={'chunk': 33.0, 'speaker': 'Transcript'}, page_content=\"right now some nation states and individual actors or intercepting and storing lots of encrypted data like passwords bank details and social security numbers but they can't open these files so why are they doing it well because they believed that within the next ten to twenty years they will have access to a quantum computer that can break the encryption in minutes this procedure is known as store now decrypt later or s n d l and it works because there is information around today that will still be valuable in a decade things like industrial and pharmaceutical research and top secret government intelligence and everyone is aware of this threat the national six thirty administration says that a sufficiently large quantum computer if built would be capable of undermining all widely deployed public key algorithms here in a five to ten year timeframe quantum computing will break encryption as we know it today even though sufficiently powerful quantum computers are still years away they are already a threat because of store now decrypt later which is why the us congress just passed legislation mandating all agencies start transitioning right now to new methods of cryptography the can't be broken by quantum computers you know our current encryption schemes have been remarkably successful working effectively for over forty years up until the nineteen seventies if you wanted to exchange private information with someone you would first have to meet up in person and share a secret key this scene key would be used to encrypt and decrypt mess a jews so it's known as asymmetric key algorithm as long as no one else gets their hands on the key your messages are safe but now what if you want to send information to someone you've never met and it's too hard to arrange and in person meeting you can't share a key over an unsecure channel like a phone line or the mail because it could be intercepted and this is what in nineteen seventy seven lead three scientists reversed shamir and adelman to come up with an encryption breakthrough today it's known by their initials or essay and it works something like this every person has to really big prime numbers all their own which they keep secret they multiply these numbers together to get an even bigger number which they make public for everyone to see now if i want to send someone a private message i use their big public number two garbo my message and i garble it in such a way that it is impossible to and garble without knowing the to prime factors that made that number this is an asymmetric key system since different keys are used to encrypt and decrypt the message so it's easy for my intended recipient to decode but impossible for everyone else unless they can factor that large public number now someone could try to factor it using a supercomputer in the best known factoring algorithm the general number field serve but modern cryptography uses prime numbers that are around three hundred and thirteen digits long factoring a product of to primes this big even with a supercomputer or would take around sixteen million years but not on a quantum computer see in normal computers a bit can only be in one state at a time either a zero or a one so if you had to bits they could be in one of four possible states zero zero zero one one zero or one one let's say each of these states represents a number zero one two or three if we want to do a calculation for example raising seven to the power of one of these numbers we can only do it for one state at a time in this case seven squared and so we get the answer forty nine quantum computers consist of cubits which also have to states zero or one but unlike a classical bit cube it doesn't have to be in just one state at a time it can be in an arbitrary combination of those states a superposition if you will have zero and one so if you have to cubits they can exist simultaneously in a superposition of zero one two and three now when we repeat the same calculation it will actually perform the calculation for all of those numbers at the same time and what we're left with is a superposition of the different answers one seven forty nine and three hundred and forty three if we add another cubit we doubled the number of possible states so with three cubits we can represent a eight states and thus perform eight calculations all at once increase that number to just twenty cubits and you can already represent over a million different states meaning you can simultaneously compute over a million different answers with three hundred cubits you can represent more states than there are particles in the observable universe this sounds incredibly powerful and it is but there is one very big catch all of the answers to the computation are embedded in a superposition of states but you can't simply read out the superposition when you make a measurement you only get a single value from the superposition basically at random and all the other information is lost so in order to harness the power of a quantum computer you need a smart way to convert a superposition of states into one that contains only the information you want this is an incredibly difficult task which is why for most applications quantum computers are useless so far we've only identified a few problems where we can actually do this but as luck would have it these are precisely the problems that form the foundation of nearly all the public key cryptography we use today in nineteen ninety four peter shore and don coppersmith figured out how to take a quantum fourier transform it works just like a normal for a transform apply it to some periodic signal and it returns the frequencies that are in that signal and this may not seem particularly interesting but consider this if we have a superposition of states that is periodic that is that terms in the superposition are separated by some regular amount where we can apply the quantum for a transform and will be left with states that contain the frequency of the signal so this we can measure the quantum forty eight transform allows us to extract frequency information from a periodic super position and that is gonna come in handy so how does a quantum computer factor the product of to primes much faster than a conventional computer i want to explain this by first walking through a simple example with no quantum computer required and then i'll show how a quantum computer could execute this method even for a very large number in a short period of time so let's say we have a number in which is the product of to primes p and queue for the sake of this example let's set an equal to seventy seven now i bet you can guess the prime factors but let's pretend for the moment that we don't know them because with a product of really big primes we wouldn't now i want to use of fact about numbers that feels like magic pick a number gee that doesn't share any factors with and if you multiply g by itself over and over and over you will always eventually reach a multiple of and plus one in other words you can always find some exponent are such that g to the power of our is a multiple of and plus one let's see how this works pick any number that is smaller than seventy seven i'll pick the number eight this number doesn't share factors with seventy seven and if you were doing this with big primes it would also be extremely unlikely that you just have and to pick a number that shares factors with and now multiply eight by itself once twice three times four times and so on raising eight to ever higher powers and then divide each of these numbers by seventy seven we're not really interested in how many times seventy seven goes into the number just the remainder what's left over because at some point seventy seven should divide one of these numbers with the remainder of exactly one so eight divider by seventy seven is zero with the remainder of eight sixty four divided by seventy seven is zero remainder sixty four five twelve divided by seventy seven is six remainder fifty and as we keep going week get reminders of fifteen forty three thirty six fifty seven seventy one twenty nine and finally won so there we have it eight to the power of ten is one more than a multiple of seventy seven so we've found the exponent are that satisfies this equation but how does this help find the factors of in well we rearrange the equation to bring one over to the left hand side and then we can split it into two terms like so and now as long as our is even we have one integer times another integer is equal to a multiple of end this looks remarkably similar to pee times que equals and i mean since we know that p and q are on the right hand side of this equation they must also be on the left hand side just multiplied by some additional factors so when we did think about what we've done is we've taken aback guess for one of the factors g he and by finding the exponent are we've turned it into too much better guess is that probably do share factors with an since our was ten the to terms on the left hand side are eight to the power of five plus one thirty two thousand seven hundred and sixty nine and eight to the power of five minus one thirty two thousand and seven hundred and sixty seven these two numbers probably share factors with an so how do we find them we use you the algorithm if you want to find the greatest common divisor of two numbers say thirty two thousand and seven hundred sixty nine and seventy seven divide the bigger number by the smaller one and record the remainder in this case thirty two thousand seven hundred sixty nine divided by seventy seven give the remainder of forty four then shift the numbers one per addition left and repeat so now we divide seventy seven by forty four and we get a remainder of thirty three repeat the process again forty four divided by thirty three gives the remainder of eleven and again thirty three divided by eleven equals three remainder zero when the remainder is the euro the divisor is the guy greatest common factor between the two numbers you started with in this case it's eleven which is indeed a factor of seventy seven and thirty two thousand and seven hundred and sixty nine you could do the same procedure with the other number or just divide seventy seven by eleven to get seven it's other prime factor so to recap if you want to find the prime factors p and que of a number and first make a bad guess g second find out how many times are you have to multiply g by itself to reach one more than a multiple of in third use that exponent to calculate to new numbers the probably do share factors with then and finally use euclid algorithm to find the shared factors between those numbers and in which should give you pee and que now you don't need a quantum computer to run any of these steps but on a classical computer this method wouldn't be any faster than other methods the keep process that a quantum computer speeds up his step to finding the exponent you raise g to to equal one more than a multiple of them to see why let's go back to our eggs sample were eight to the pair of ten is one more than a multiple of seventy seven watch what happens to the reminders if we keep going past eight the power of ten to a to the eleven a to the twelve and so on well we get reminders of eight sixty four fifty fifteen forty three thirty six fifty seven seventy one twenty nine and again one the remainder is cycle and they will just keep cycling notice how the exponent that yields the remainder of one is twenty which is ten more than the first exponent that yielded a remainder of one so we know that a to the thirty and eight to the forty eight raised to any power divisible by ten will also be one more than a multiple of seventy seven it's also worth noting that if you pick any remainder say fifteen the next time you find that same remainder the exponent will have increased by ten so you can find the exponent are that gets us to one more than a multiple of and by looking at the spacing have any remainder not just one remember or that here i'm plotting out the remainder is on a log scale so you can see they are periodic with a period of ten if i had made a different guess say i had picked g was fifteen instead of eight within the period would be different and the remainder would be different but there would always be a remainder of one why is this rope now the you can see this is a repeating pattern we can go back to the beginning and any number raised to the pair of zero is one so that is actually the first remainder so it must also appear when the cycle starts again now we are ready to use a quantum computer to factor any large product of to primes first we split up the cubits into two sets the first set we prepare and a superposition of zero and one and two and three and four and five and six and seven and eight men all the way up to ten to the power of one thousand two two hundred and thirty four yet this is a huge superposition but if we had perfect cubits it would require only around four thousand one hundred the other set contains a similar number of cubits all left in the zero state for now now we make our guest g which most likely doesn't share factors with and we raise g to the power of the first set of cubits and then we divide by an and store the remainder in the second set of cubits leaving the first set of cubits as it was now we have a superposition of all the numbers we started with and the remainder of raising g to the power of those numbers divided by and and through this operation we have entangled are two sets of cubits but we can't just measure this superposition if we did we would get a random value and learn nothing but there is a trick we can you who's if we don't measure the entire superposition but only the remainder part we will obtain some random remainder but this remainder won't occur just once it will occur multiple times every time it comes up in the cycle imagine we were doing this with the example from before with an equal seventy seven and g equals eight if the remainder we measured was say fifteen then there would be multiple terms in our superposition because there are multiple exponents you can raise g to that give this same remainder exponents for fourteen twenty four thirty for and so on they are each separated by ten and that value is the exponent that satisfies or equation so more generally after measuring the remainder we will be left with a superposition of states that all share the same remainder and the exponents will all be separated by the same amount are this is the number we are looking for since the remainder is now the same for all states we can put it to the side and we now have a superposition that is periodic each term is separated from it's neighbors by an amount are if we now apply the quantum for he a transformed to this superposition of states and i'm simplifying a little here we will be left with states containing one oh over are so all that's left to do now is perform a measurement and find our by inverting it and that's it for the quantum park now as long as our turns out to be even we can use our to turn are bad guess g into two numbers that likely share factors with an and as long as these terms themselves and not a multiple of and we can use euclid algorithm to find the factors of and and break the encryption this would only take several thousand perfect cubits but the cubits we have today are imperfect so we need additional cubits to act as redundant information in twenty twelve it was estimated that it would take a billion physical cubits to break or us encryption but by five years later that number had dropped to two hundred and thirty million and in twenty nineteen after more technological breakthroughs that estimate plummeted to just twenty million physical cubits so how many cubits do we have today well if we look at the state of i b m quantum computers we're nowhere near that number of cubits but progress looks to be exponential the so now it's just a question of when these to curves will collide before all our existing public key encryption can be broken because we've long known this threat is coming scientists have been looking for new ways to encrypt data which can withstand attacks from both normal and quantum computers and twenty sixteen the national institute of standards and technology or nest launched a competition to find new encryption algorithms that aren't vulnerable to quantum computers kotaku first from all over the world submitted eighty two different proposals which were rigorously tested some were broken and then on july fifth twenty twenty two nests selected for of the algorithms to be part of their post quantum cryptographic standard so how do they work what three of the algorithms are based on the mathematics of lattices so let's do oh a simple example in the to plane take two vectors are one and are to by adding together different integer combinations of these factors say it three times are one and when times are too you can get two different points and all the points you can get to by combining these two vectors in different ways is what is called a lattice now i will also give you the point see and your task is to tell me which combination of our one and are to will bring me to the lattice point closest to see it's pretty easy to see that we can get there by going in the direction of our to twice and in the negative direction of our one twice simple enough but those factors are wow in our to are not the only vectors the can give you this lattice take be one and be to for example these factors also build up the same lattice and now if i ask you the same question again can you tell me the combination of be one and be to the get sued the lattice point closest to see this has become a lot harder but why is that each time we're taking a step were trying to get closer and either the x or y direction but with the be vectors each time we take a step in the right direction with one vector it puts us off in the other direction and that's why these vectors are a lot harder to work with in the the end it takes is a combination of eight times be one and negative six times be to to get the closest lattice point that is a lot harder than before but it's still a relatively easy problem to solve but if we extend it to three dimensions this already becomes a lot harder especially because you're not given the collect one of all lattice points you're only given the vectors that make it up so when you find a lattice point close to the target you must still find all the other landis points near it to make sure yours is indeed the closest let's take a circle of radius are in two dimensions the number of landis points inside the circle is proportional to our squared add a third to and the number of points in the sphere is proportional to our cubed so just watch how the number of lattice points grows as we increase the number of dimensions solving the closest vector problem is a piece of cake for your computer in three dimensions even a hundred dimensions should be manageable but in proposed future encryption schemes will use around a thousand dimensions take one step in the right direction on one of those dimensions and you could potentially be taking are wrong step in the other nine hundred and ninety nine dimensions you win some you lose everything else with that many dimensions it becomes exp really hard to find the closest point even for the most powerful computers that is unless you know a good set of vectors so how do we use that to encrypt data well let's go back to our two dimensional example each person has a good set of actors that describes a lattice but they keep these factors secret and the only share their latest publicly using a set of directors that is hard to work with now if i want to send someone a message i pick a point on their lattice for example say this point corresponds to the number seven so if i wanna send the number seven i can take that point but then add some random noise to it so the a message i sent is not precisely at that point but close to it now to decode the message my recipient must figure out which loudest point is closest to the message point in a thousand dimensions this will be extremely hard to do unless you have the nice set of vectors which might recipient does so it's easy for the recipient who has the good actors but hard for everyone else and as far as we know this problem is extremely difficult to solve for both normal and quantum computers behind the scenes there is an army of researchers mathematicians and cryptography cryptography we're going to make sure your secret data stay secret these are in some the unsung heroes that will keep us safe moving forward avoiding mess surveillance by governments keeping critical infrastructure protected and allowing you to live as if quantum computers were never invented in the first place so something that fascinates me is being able to see where the world is headed and right now it's clear that quantum computers and a i chat bots are going to play bigger and bigger roles in our lives in the coming decades even if we don't know exactly how they'll be implemented i think it's important to learn how they work right right now and you can do that with this video sponsor brilliant brilliant has an incredible course on quantum algorithms this one was of l up with microsoft and alphabet x i love that you can simulate quantum gates and right and execute real quantum algorithms right in the lesson no need to set up your own development environment and if you want to dive deeper into cryptography making and breaking codes is really a matter of statistics strong statistical reasoning skills help us find patterns and data and make sense of them which is crucial to mastering just about any topic in math and computer science brilliance course on data analysis will help you ramp up fast uses everyday situations like business models to illustrate key concepts in statistics and it's interactive so you can get hands on with data visualizations and develop a real intuition for interpreting them you know the thing that sets brilliant apart as they know how to break fundamentals down into their core building blocks whether you're learning math computer science or data analysis brill oh yeah it's thousands of bite sized interactive lessons help you master key concepts and build to more advanced topics you can try everything brilliant has to offer for free for a full thirty days just go to brilliant dot org slash very tassie and i will put that link down in the description and for viewers of this video brilliant is offering twenty percent off their annual premium subscribe into the first two hundred people to sign up so i want to thank brilliant for sponsoring this video and i want to thank you for watching\")]"
      ]
     },
     "execution_count": 18,
     "metadata": {},
     "output_type": "execute_result"
    }
   ],
   "source": [
    "query = input(\"Please enter your query: \")\n",
    "\n",
    "vectorstore.similarity_search(\n",
    "    query,  # our search query\n",
    "    k=3  # return 3 most relevant docs\n",
    ")"
   ]
  },
  {
   "cell_type": "markdown",
   "metadata": {
    "id": "HTr6JEfmWhY9"
   },
   "source": [
    "# Retrieve and set memory"
   ]
  },
  {
   "cell_type": "code",
   "execution_count": 19,
   "metadata": {
    "id": "08mKASGYgdXh"
   },
   "outputs": [],
   "source": [
    "# completion llm\n",
    "llm = ChatOpenAI(\n",
    "    openai_api_key=openai_api_key,\n",
    "    model_name='gpt-3.5-turbo',\n",
    "    temperature=0.0\n",
    ")\n",
    "\n",
    "# conversational memory\n",
    "conversational_memory = ConversationBufferWindowMemory(\n",
    "    memory_key='chat_history',\n",
    "    k=5,\n",
    "    return_messages=True\n",
    "    )\n",
    "\n",
    "# retrieval qa chain\n",
    "qa = RetrievalQA.from_chain_type(\n",
    "    llm=llm,\n",
    "    chain_type=\"stuff\",\n",
    "    retriever=vectorstore.as_retriever()\n",
    ")"
   ]
  },
  {
   "cell_type": "code",
   "execution_count": 20,
   "metadata": {
    "colab": {
     "base_uri": "https://localhost:8080/"
    },
    "id": "1NLdHEAbgiJQ",
    "outputId": "467cf050-8f20-45ba-db94-3a6fb07cac1d"
   },
   "outputs": [
    {
     "data": {
      "text/plain": [
       "{'query': 'What is a qubit?',\n",
       " 'result': 'A qubit is the basic unit of quantum information in quantum computing. Unlike classical bits that can be in a state of either 0 or 1, a qubit can exist in a superposition of both 0 and 1 simultaneously. This unique property allows quantum computers to perform multiple calculations at the same time, making them potentially much more powerful than classical computers for certain tasks.'}"
      ]
     },
     "execution_count": 20,
     "metadata": {},
     "output_type": "execute_result"
    }
   ],
   "source": [
    "qa.invoke(query)"
   ]
  },
  {
   "cell_type": "markdown",
   "metadata": {
    "id": "b3uCYdU9WofJ"
   },
   "source": [
    "# Multi querying"
   ]
  },
  {
   "cell_type": "code",
   "execution_count": 21,
   "metadata": {
    "id": "JtDOMO8i2ulh"
   },
   "outputs": [],
   "source": [
    "tools = [\n",
    "    Tool(\n",
    "        name='Knowledge Base',\n",
    "        func=qa.invoke,\n",
    "        description=(\n",
    "            'use this tool when answering general knowledge queries to get '\n",
    "            'more information about the topic'\n",
    "        )\n",
    "    )\n",
    "]"
   ]
  },
  {
   "cell_type": "code",
   "execution_count": 22,
   "metadata": {
    "colab": {
     "base_uri": "https://localhost:8080/"
    },
    "id": "xr6rkY3-5Xxb",
    "outputId": "07b03928-1d79-4686-a678-b50bbb6c7182"
   },
   "outputs": [],
   "source": [
    "from langchain.agents import create_react_agent\n",
    "from langchain_core.prompts import PromptTemplate\n",
    "\n",
    "# Define the prompt template (if not already defined)\n",
    "template = '''Answer the following questions as best you can. You have access to the following tools:\n",
    "\n",
    "{tools}\n",
    "\n",
    "Use the following format:\n",
    "\n",
    "Question: the input question you must answer\n",
    "Thought: you should always think about what to do\n",
    "Action: the action to take, should be one of [{tool_names}]\n",
    "Action Input: the input to the action\n",
    "Observation: the result of the action\n",
    "... (this Thought/Action/Action Input/Observation can repeat N times)\n",
    "Thought: I now know the final answer\n",
    "Final Answer: the final answer to the original input question\n",
    "\n",
    "Begin!\n",
    "\n",
    "Question: {input}\n",
    "Thought:{agent_scratchpad}'''\n",
    "\n",
    "# Create the prompt template\n",
    "prompt = PromptTemplate.from_template(template)\n",
    "\n",
    "# Create the React agent\n",
    "agent = create_react_agent(\n",
    "    llm=llm,\n",
    "    tools=tools,\n",
    "    prompt=prompt\n",
    ")\n",
    "\n",
    "# Optionally, you might use `AgentExecutor` if you need to manage interactions\n",
    "from langchain.agents import AgentExecutor\n",
    "\n",
    "agent_executor = AgentExecutor(agent=agent, tools=tools)"
   ]
  },
  {
   "cell_type": "markdown",
   "metadata": {
    "id": "hSko20ZlW5QD"
   },
   "source": [
    "# Asking questions concerning the video"
   ]
  },
  {
   "cell_type": "code",
   "execution_count": 23,
   "metadata": {
    "colab": {
     "base_uri": "https://localhost:8080/"
    },
    "id": "SBxLt7sM5dky",
    "outputId": "1a7d9d34-bb6d-454b-906b-76b56a9b8cc8"
   },
   "outputs": [
    {
     "name": "stdout",
     "output_type": "stream",
     "text": [
      "{'input': 'What is a qubit?', 'output': 'A qubit is the basic unit of quantum information in quantum computing, capable of existing in a superposition of both 0 and 1 states simultaneously.'}\n"
     ]
    }
   ],
   "source": [
    "response = agent_executor.invoke({\"input\": query})\n",
    "print(response)"
   ]
  },
  {
   "cell_type": "code",
   "execution_count": 24,
   "metadata": {
    "colab": {
     "base_uri": "https://localhost:8080/"
    },
    "id": "hJGj1YLN5hyo",
    "outputId": "5fa46c22-aeba-4a0f-91f5-cf59080d8839"
   },
   "outputs": [
    {
     "name": "stdout",
     "output_type": "stream",
     "text": [
      "{'input': 'Who is Michio Kaku?', 'output': 'Michio Kaku is a theoretical physicist, professor at the City University of New York, and author known for his work in theoretical physics and popularizing science.'}\n"
     ]
    }
   ],
   "source": [
    "response = agent_executor.invoke({\"input\": \"Who is Michio Kaku?\"})\n",
    "print(response)"
   ]
  },
  {
   "cell_type": "code",
   "execution_count": 25,
   "metadata": {
    "colab": {
     "base_uri": "https://localhost:8080/"
    },
    "id": "-uXIBogN5iT5",
    "outputId": "07fd67ab-c16f-4bf1-8c01-e8889221117d"
   },
   "outputs": [
    {
     "name": "stdout",
     "output_type": "stream",
     "text": [
      "{'input': 'How fast is a quantum computer?', 'output': 'Quantum computers have the potential to be infinitely faster than digital computers.'}\n"
     ]
    }
   ],
   "source": [
    "response = agent_executor.invoke({\"input\": \"How fast is a quantum computer?\"})\n",
    "print(response)"
   ]
  },
  {
   "cell_type": "markdown",
   "metadata": {
    "id": "N1Hk3KuuXAWe"
   },
   "source": [
    "# Ask a complete random question not related at all with the video"
   ]
  },
  {
   "cell_type": "code",
   "execution_count": 26,
   "metadata": {
    "colab": {
     "base_uri": "https://localhost:8080/"
    },
    "id": "72EJegIl5rMz",
    "outputId": "3a68e95d-bf82-4f1d-d4e1-452cec453850"
   },
   "outputs": [
    {
     "name": "stdout",
     "output_type": "stream",
     "text": [
      "{'input': 'history of portugal in XV century?', 'output': 'In the 15th century, Portugal experienced a significant period of exploration and expansion, led by figures like Prince Henry the Navigator and Vasco da Gama. This period marked a turning point in Portuguese exploration and trade dominance, with the establishment of new trade routes and the development of new ships like the caravel.'}\n"
     ]
    }
   ],
   "source": [
    "response = agent_executor.invoke({\"input\": \"history of portugal in XV century?\"})\n",
    "print(response)"
   ]
  },
  {
   "cell_type": "code",
   "execution_count": 27,
   "metadata": {
    "id": "WBcSdvqF4D-c"
   },
   "outputs": [],
   "source": [
    "import pinecone\n",
    "import time\n",
    "\n",
    "# Initialize Pinecone client directly\n",
    "pinecone_client = pinecone.Pinecone(api_key=pinecone_api_key, environment='us-west1-gcp')\n",
    "\n",
    "index_name = 'langchain-multi-query'\n",
    "\n",
    "if index_name not in pinecone_client.list_indexes().names():  # Use .names() to get list of index names\n",
    "    # Define index configuration\n",
    "    index_spec = {\n",
    "        'dimension': 1536,\n",
    "        'metric': 'cosine'\n",
    "    }\n",
    "    pinecone_client.create_index(name=index_name, **index_spec)  # Pass index name as 'name'\n",
    "    while not pinecone_client.describe_index(index_name).status['ready']:\n",
    "        time.sleep(1)\n",
    "\n",
    "index = pinecone_client.Index(index_name)"
   ]
  },
  {
   "cell_type": "code",
   "execution_count": 28,
   "metadata": {
    "colab": {
     "base_uri": "https://localhost:8080/"
    },
    "id": "t5duaCgn0xv5",
    "outputId": "dedcac3c-c81a-4033-9f07-d20433136fbe"
   },
   "outputs": [
    {
     "data": {
      "text/plain": [
       "17"
      ]
     },
     "execution_count": 28,
     "metadata": {},
     "output_type": "execute_result"
    }
   ],
   "source": [
    "len(texts)"
   ]
  },
  {
   "cell_type": "code",
   "execution_count": 29,
   "metadata": {
    "colab": {
     "base_uri": "https://localhost:8080/",
     "height": 49,
     "referenced_widgets": [
      "202b7d48e97d407a8b2519f2644bc505",
      "5b08a1fbc75940448a0e4264353bdbd9",
      "2614ff490ff4408f919a808b276148e9",
      "6ae0cb2bebef45069e838c57bfeebb1f",
      "8985e87dea3542a09736aed6d033eb70",
      "d72b13aee7da4579bbeed8765650f5cb",
      "c4f4ba0d51d44b9baa7ed6a413c1448d",
      "65b0d5801c274e18943670076ab665e3",
      "5e3d765c4f7747fba62c02bd254fb6c8",
      "91d4a8c0c8ff421885ab822efdafeba9",
      "99b17916bbdd4680982b52501baface8",
      "bd1c83ef9c4c4023a5e44882b72e77f1"
     ]
    },
    "id": "RVfe22Vt7F-i",
    "outputId": "e26234ae-ff45-470b-a612-a7b5f434717b"
   },
   "outputs": [
    {
     "data": {
      "application/vnd.jupyter.widget-view+json": {
       "model_id": "abc440f796d34efbaf6b2a7434fc96c7",
       "version_major": 2,
       "version_minor": 0
      },
      "text/plain": [
       "  0%|          | 0/17 [00:00<?, ?it/s]"
      ]
     },
     "metadata": {},
     "output_type": "display_data"
    }
   ],
   "source": [
    "batch_size = 1\n",
    "\n",
    "for i in tqdm(range(0, len(texts), batch_size)):\n",
    "    i_end = min(i+batch_size, len(texts))\n",
    "    ids = [str(uuid4()) for _ in range(i_end-i)]\n",
    "    embeds = embed.embed_documents(texts[i:i_end])\n",
    "    index.upsert(vectors=zip(ids, embeds, metadatas[i:i_end]))\n",
    "    time.sleep(1)\n"
   ]
  },
  {
   "cell_type": "code",
   "execution_count": 30,
   "metadata": {
    "id": "-wll4zUoEZNw"
   },
   "outputs": [],
   "source": [
    "text_field = \"text\"\n",
    "\n",
    "vectorstore = PineconeVectorStore(index, embed, text_field)"
   ]
  },
  {
   "cell_type": "code",
   "execution_count": 31,
   "metadata": {
    "id": "YIX7pl0DElHf"
   },
   "outputs": [],
   "source": [
    "llm = ChatOpenAI(temperature=0.0, openai_api_key=openai_api_key)"
   ]
  },
  {
   "cell_type": "code",
   "execution_count": 32,
   "metadata": {
    "id": "E646qqQmFn8J"
   },
   "outputs": [],
   "source": [
    "from langchain.retrievers.multi_query import MultiQueryRetriever"
   ]
  },
  {
   "cell_type": "code",
   "execution_count": 33,
   "metadata": {
    "id": "LoXH_FoeEx3H"
   },
   "outputs": [],
   "source": [
    "retriever = MultiQueryRetriever.from_llm(retriever=vectorstore.as_retriever(), llm=llm)"
   ]
  },
  {
   "cell_type": "code",
   "execution_count": 34,
   "metadata": {
    "id": "Cik73mWFGK_l"
   },
   "outputs": [],
   "source": [
    "import logging\n",
    "\n",
    "logging.basicConfig()\n",
    "logging.getLogger(\"langchain.retrievers.multi_query\").setLevel(logging.INFO)"
   ]
  },
  {
   "cell_type": "code",
   "execution_count": 35,
   "metadata": {
    "colab": {
     "base_uri": "https://localhost:8080/"
    },
    "id": "Np1FmP5gGnqU",
    "outputId": "dc638477-6a61-4f08-9be2-13efb9b6c62b"
   },
   "outputs": [
    {
     "name": "stderr",
     "output_type": "stream",
     "text": [
      "INFO:langchain.retrievers.multi_query:Generated queries: ['What is the speed of a quantum computer?', 'Can you provide information on the velocity of a quantum computer?', 'What is the rate at which a quantum computer operates?']\n"
     ]
    },
    {
     "data": {
      "text/plain": [
       "2"
      ]
     },
     "execution_count": 35,
     "metadata": {},
     "output_type": "execute_result"
    }
   ],
   "source": [
    "question = \"How fast is a quantum computer?\"\n",
    "\n",
    "texts = retriever.invoke(input=question)\n",
    "len(texts)"
   ]
  },
  {
   "cell_type": "code",
   "execution_count": 36,
   "metadata": {
    "id": "X6zB8O_2Hjzo"
   },
   "outputs": [
    {
     "data": {
      "text/plain": [
       "[Document(metadata={'chunk': 9.0, 'speaker': 'Transcript'}, page_content=\"we all know the digital computers changed virtually every aspect of our life well the arrival of quantum computers could be even more historic than that we're now and the initial stages of the next revolution we're talking about a new generation of computers the ultimate computer a computer that computer on adam the ultimate constituents of batter itself the question is who's involved in this race to perfect quantum computers and the answer is everyone all the big players are part of this race because if they're not silicon valley could become the next rust belt also anyone who's interested in security is interested in the quantum computers they can crack almost any code that is based on digital technology that's why the f b i the cia and all national governments are following this is very closely what their computers will change everything the economy how he saw problems the way we interact with the universe you name it won't to computers will be there i'm doctor or michio kaku professor of theoretical physics at the city university of new york and author of quantum supremacy about the rise of quantum computers if he computers have gone through three basic stages stage one was the analog computer so two thousand years ago there was a shipwreck and in the boat that sank was a device and when you brushed away a the dirt and debris you began to realize that it was a machine a machine of incredible complexity he was in fact the world's first analog computer and it was designed to map the motion of the moon the sun and the planet's to simulate the universe but as we primitive people's became more prosperous we had to count things count how many cows you had count how much profit you may analog computers could be based on sticks bones whatever it took the count so this went on for thousands of years until finally we reach the work of charles babbage he creates the ultimate analog computer with hundreds of years and lovers and bullies and by turning the crank you can then calculate longitude latitude you can calculate interest rates it was very valuable to have it is made like that where the banking industry for commerce then world war two comes along babbage's machine is simply too primitive rated the german code so the job was given to mathematicians like alan turing alan turing was the one who codified lot of the laws of computation into what it's called a turing machine and of course is digital know the digital revolution is based on transistors it operates on zeros and ones zeros and ones at the speed of electricity every digital computer is a turing machine the next step beyond digital computers is the quantum era where to find it was one of the founders of quantum electrodynamics but also a visionary and he asked himself a simple question how small can you make a transistor and he realize that the old transistor is an atom one atom that could control the flow of electricity not just on or off but everything in between we have to go to quantum computers computers their computer on adams rather than on transistors transistors are based on zeros zero one zero zero one reality is not reality is based on electrons and particles and these particles in turn act like waves so you have to have a new set of mathematics to discuss the way leaves that make up a molecule and that's where quantum computers come in they're based on electrons and these electrons how can they have so much computational power because they could be in two places at the same time that's what gives quantum computers their power they compute on not just one universe but an infinite number of parallel universes at the fundamental level quantum mechanics can be reduced down to a cat choate injuries cat let's take a box in the box you put a cat and the question is is the cat dead or alive well until you open the box you don't know it is alive and dead simultaneously is in a superposition of to states in other words the universe has split in half in one have the cat is alive and the other universe they get is dead that's the basis of the quantum theory that until you make a measurement the cat can exists in both states simultaneously in fact in any number of states simultaneously the cat can be dead or alive play ing jumping sideways sick any number of states now why am i mentioning this is this summarizes the power of quantum computers weren't to computers compute on parallel universes that's why they are so powerful so how much faster is a quantum computer over a digital computer in principle infinitely faster when we talk about digital computers we can measure their power in terms of bits for example spin up spin down zeros and one would constitute one bit for a large is your computer we're not talking about billions of bits that are modeled by train sisters except now quantum computers talk not just about spin up or a spin down but everything in between that's called a cuban one cupid represents all the possibilities have an object spinning between up and down thousands of cuba's can now be modeled with the latest generation of quantum computers eventually we hope to hit a million and so we're talking about exceeding the power of ordinary digital computers that's called quantum supremacy it is the point at which a quantum computer can out race and are perform a digital computer on a certain task we pass that several years ago but we want a machine that could exceed the power of any digital computer we're not there yet or very close to it the number one problem facing quantum computers is the question of d coherence everything is based on particles like electrons and electrons have waves associate with them when these waves are vibrating in unison as call coherence and then you can do calculations of a quantum mechanical nature but if you fall out of coherence that everyday vibrates at a different frequency and what is that called noise you have to reduce the temperature down to near absolute zero so everything is pretty much vibrating slowly in unison that's difficult now nature solves this problem it is the basis of all life on the earth photosynthesis for example is a quantum mechanical process mother nature can create coherence at room temperature amazing a flower can do calculations that are most advanced quantum computer cannot mother nature is still smarter than us when it comes to the quantum theory so let's face it there are hurdles affecting the growth of quantum computers but they pale in comparison to the benefits that may be unleashed by quantum computers were talking about opening the floodgates take a look for example of food supply the green revolution then allows us to feed the population of the world is slowly coming to an end we're trying to use quantum computers to unlock the secrets of how to make fertilizer from nitrogen take a look at energy quantum computers may be able to create fusion power by stabilizing the super hot hydrogen inside a fusion reactor and take a look at medicine you realize that life is based on molecules molecules they can create alzheimer's disease parkinson's disease cancer diseases are beyond the reach of digital computers but hey this is what decline to computers do will be able to model diseases at the molecular level and that's why we hope to cure the incurable using quantum computers were talking about turning medicine up i down my personal hope for quantum computers is that will be able to create a theory of the entire universe the theory that eluded einstein the theory that would explain black holes and supernovas and galactic evolution but the equations are so complex that know one no one has been able to solve them perhaps they'll be solved in the memory of a quantum computer   to learn even more from the world's biggest thinkers get big think plus for your business \"),\n",
       " Document(metadata={'chunk': 11.0, 'speaker': 'Transcript'}, page_content=\"we all know the digital computers changed virtually every aspect of our life well the arrival of quantum computers could be even more historic than that we're now and the initial stages of the next revolution we're talking about a new generation of computers the ultimate computer a computer that computer on adam the ultimate constituents of batter itself the question is who's involved in this race to perfect quantum computers and the answer is everyone all the big players are part of this race because if they're not silicon valley could become the next rust belt also anyone who's interested in security is interested in the quantum computers they can crack almost any code that is based on digital technology that's why the f b i the cia and all national governments are following this is very closely what their computers will change everything the economy how he saw problems the way we interact with the universe you name it won't to computers will be there i'm doctor or michio kaku professor of theoretical physics at the city university of new york and author of quantum supremacy about the rise of quantum computers if he computers have gone through three basic stages stage one was the analog computer so two thousand years ago there was a shipwreck and in the boat that sank was a device and when you brushed away a the dirt and debris you began to realize that it was a machine a machine of incredible complexity he was in fact the world's first analog computer and it was designed to map the motion of the moon the sun and the planet's to simulate the universe but as we primitive people's became more prosperous we had to count things count how many cows you had count how much profit you may analog computers could be based on sticks bones whatever it took the count so this went on for thousands of years until finally we reach the work of charles babbage he creates the ultimate analog computer with hundreds of years and lovers and bullies and by turning the crank you can then calculate longitude latitude you can calculate interest rates it was very valuable to have it is made like that where the banking industry for commerce then world war two comes along babbage's machine is simply too primitive rated the german code so the job was given to mathematicians like alan turing alan turing was the one who codified lot of the laws of computation into what it's called a turing machine and of course is digital know the digital revolution is based on transistors it operates on zeros and ones zeros and ones at the speed of electricity every digital computer is a turing machine the next step beyond digital computers is the quantum era where to find it was one of the founders of quantum electrodynamics but also a visionary and he asked himself a simple question how small can you make a transistor and he realize that the old transistor is an atom one atom that could control the flow of electricity not just on or off but everything in between we have to go to quantum computers computers their computer on adams rather than on transistors transistors are based on zeros zero one zero zero one reality is not reality is based on electrons and particles and these particles in turn act like waves so you have to have a new set of mathematics to discuss the way leaves that make up a molecule and that's where quantum computers come in they're based on electrons and these electrons how can they have so much computational power because they could be in two places at the same time that's what gives quantum computers their power they compute on not just one universe but an infinite number of parallel universes at the fundamental level quantum mechanics can be reduced down to a cat choate injuries cat let's take a box in the box you put a cat and the question is is the cat dead or alive well until you open the box you don't know it is alive and dead simultaneously is in a superposition of to states in other words the universe has split in half in one have the cat is alive and the other universe they get is dead that's the basis of the quantum theory that until you make a measurement the cat can exists in both states simultaneously in fact in any number of states simultaneously the cat can be dead or alive play ing jumping sideways sick any number of states now why am i mentioning this is this summarizes the power of quantum computers weren't to computers compute on parallel universes that's why they are so powerful so how much faster is a quantum computer over a digital computer in principle infinitely faster when we talk about digital computers we can measure their power in terms of bits for example spin up spin down zeros and one would constitute one bit for a large is your computer we're not talking about billions of bits that are modeled by train sisters except now quantum computers talk not just about spin up or a spin down but everything in between that's called a cuban one cupid represents all the possibilities have an object spinning between up and down thousands of cuba's can now be modeled with the latest generation of quantum computers eventually we hope to hit a million and so we're talking about exceeding the power of ordinary digital computers that's called quantum supremacy it is the point at which a quantum computer can out race and are perform a digital computer on a certain task we pass that several years ago but we want a machine that could exceed the power of any digital computer we're not there yet or very close to it the number one problem facing quantum computers is the question of d coherence everything is based on particles like electrons and electrons have waves associate with them when these waves are vibrating in unison as call coherence and then you can do calculations of a quantum mechanical nature but if you fall out of coherence that everyday vibrates at a different frequency and what is that called noise you have to reduce the temperature down to near absolute zero so everything is pretty much vibrating slowly in unison that's difficult now nature solves this problem it is the basis of all life on the earth photosynthesis for example is a quantum mechanical process mother nature can create coherence at room temperature amazing a flower can do calculations that are most advanced quantum computer cannot mother nature is still smarter than us when it comes to the quantum theory so let's face it there are hurdles affecting the growth of quantum computers but they pale in comparison to the benefits that may be unleashed by quantum computers were talking about opening the floodgates take a look for example of food supply the green revolution then allows us to feed the population of the world is slowly coming to an end we're trying to use quantum computers to unlock the secrets of how to make fertilizer from nitrogen take a look at energy quantum computers may be able to create fusion power by stabilizing the super hot hydrogen inside a fusion reactor and take a look at medicine you realize that life is based on molecules molecules they can create alzheimer's disease parkinson's disease cancer diseases are beyond the reach of digital computers but hey this is what decline to computers do will be able to model diseases at the molecular level and that's why we hope to cure the incurable using quantum computers were talking about turning medicine up i down my personal hope for quantum computers is that will be able to create a theory of the entire universe the theory that eluded einstein the theory that would explain black holes and supernovas and galactic evolution but the equations are so complex that know one no one has been able to solve them perhaps they'll be solved in the memory of a quantum computer   to learn even more from the world's biggest thinkers get big think plus for your business \")]"
      ]
     },
     "execution_count": 36,
     "metadata": {},
     "output_type": "execute_result"
    }
   ],
   "source": [
    "texts"
   ]
  },
  {
   "cell_type": "code",
   "execution_count": 37,
   "metadata": {
    "colab": {
     "base_uri": "https://localhost:8080/",
     "height": 637
    },
    "id": "0cgTlk5WH2Ql",
    "outputId": "06e0ff1f-d0bf-43ab-98c0-60117f46d7c1"
   },
   "outputs": [
    {
     "name": "stderr",
     "output_type": "stream",
     "text": [
      "/opt/anaconda3/lib/python3.12/site-packages/langchain_core/_api/deprecation.py:139: LangChainDeprecationWarning: The class `LLMChain` was deprecated in LangChain 0.1.17 and will be removed in 1.0. Use RunnableSequence, e.g., `prompt | llm` instead.\n",
      "  warn_deprecated(\n",
      "/opt/anaconda3/lib/python3.12/site-packages/langchain_core/_api/deprecation.py:139: LangChainDeprecationWarning: The method `Chain.__call__` was deprecated in langchain 0.1.0 and will be removed in 0.3.0. Use invoke instead.\n",
      "  warn_deprecated(\n"
     ]
    },
    {
     "name": "stdout",
     "output_type": "stream",
     "text": [
      "\n",
      "\n",
      "\u001b[1m> Entering new LLMChain chain...\u001b[0m\n",
      "Prompt after formatting:\n",
      "\u001b[32;1m\u001b[1;3mYou are a helpful assistant who answers user queries using the contexts provided. If the question cannot be answered using the information provided say \"I don't know\".\n",
      "\n",
      "    Contexts:\n",
      "    we all know the digital computers changed virtually every aspect of our life well the arrival of quantum computers could be even more historic than that we're now and the initial stages of the next revolution we're talking about a new generation of computers the ultimate computer a computer that computer on adam the ultimate constituents of batter itself the question is who's involved in this race to perfect quantum computers and the answer is everyone all the big players are part of this race because if they're not silicon valley could become the next rust belt also anyone who's interested in security is interested in the quantum computers they can crack almost any code that is based on digital technology that's why the f b i the cia and all national governments are following this is very closely what their computers will change everything the economy how he saw problems the way we interact with the universe you name it won't to computers will be there i'm doctor or michio kaku professor of theoretical physics at the city university of new york and author of quantum supremacy about the rise of quantum computers if he computers have gone through three basic stages stage one was the analog computer so two thousand years ago there was a shipwreck and in the boat that sank was a device and when you brushed away a the dirt and debris you began to realize that it was a machine a machine of incredible complexity he was in fact the world's first analog computer and it was designed to map the motion of the moon the sun and the planet's to simulate the universe but as we primitive people's became more prosperous we had to count things count how many cows you had count how much profit you may analog computers could be based on sticks bones whatever it took the count so this went on for thousands of years until finally we reach the work of charles babbage he creates the ultimate analog computer with hundreds of years and lovers and bullies and by turning the crank you can then calculate longitude latitude you can calculate interest rates it was very valuable to have it is made like that where the banking industry for commerce then world war two comes along babbage's machine is simply too primitive rated the german code so the job was given to mathematicians like alan turing alan turing was the one who codified lot of the laws of computation into what it's called a turing machine and of course is digital know the digital revolution is based on transistors it operates on zeros and ones zeros and ones at the speed of electricity every digital computer is a turing machine the next step beyond digital computers is the quantum era where to find it was one of the founders of quantum electrodynamics but also a visionary and he asked himself a simple question how small can you make a transistor and he realize that the old transistor is an atom one atom that could control the flow of electricity not just on or off but everything in between we have to go to quantum computers computers their computer on adams rather than on transistors transistors are based on zeros zero one zero zero one reality is not reality is based on electrons and particles and these particles in turn act like waves so you have to have a new set of mathematics to discuss the way leaves that make up a molecule and that's where quantum computers come in they're based on electrons and these electrons how can they have so much computational power because they could be in two places at the same time that's what gives quantum computers their power they compute on not just one universe but an infinite number of parallel universes at the fundamental level quantum mechanics can be reduced down to a cat choate injuries cat let's take a box in the box you put a cat and the question is is the cat dead or alive well until you open the box you don't know it is alive and dead simultaneously is in a superposition of to states in other words the universe has split in half in one have the cat is alive and the other universe they get is dead that's the basis of the quantum theory that until you make a measurement the cat can exists in both states simultaneously in fact in any number of states simultaneously the cat can be dead or alive play ing jumping sideways sick any number of states now why am i mentioning this is this summarizes the power of quantum computers weren't to computers compute on parallel universes that's why they are so powerful so how much faster is a quantum computer over a digital computer in principle infinitely faster when we talk about digital computers we can measure their power in terms of bits for example spin up spin down zeros and one would constitute one bit for a large is your computer we're not talking about billions of bits that are modeled by train sisters except now quantum computers talk not just about spin up or a spin down but everything in between that's called a cuban one cupid represents all the possibilities have an object spinning between up and down thousands of cuba's can now be modeled with the latest generation of quantum computers eventually we hope to hit a million and so we're talking about exceeding the power of ordinary digital computers that's called quantum supremacy it is the point at which a quantum computer can out race and are perform a digital computer on a certain task we pass that several years ago but we want a machine that could exceed the power of any digital computer we're not there yet or very close to it the number one problem facing quantum computers is the question of d coherence everything is based on particles like electrons and electrons have waves associate with them when these waves are vibrating in unison as call coherence and then you can do calculations of a quantum mechanical nature but if you fall out of coherence that everyday vibrates at a different frequency and what is that called noise you have to reduce the temperature down to near absolute zero so everything is pretty much vibrating slowly in unison that's difficult now nature solves this problem it is the basis of all life on the earth photosynthesis for example is a quantum mechanical process mother nature can create coherence at room temperature amazing a flower can do calculations that are most advanced quantum computer cannot mother nature is still smarter than us when it comes to the quantum theory so let's face it there are hurdles affecting the growth of quantum computers but they pale in comparison to the benefits that may be unleashed by quantum computers were talking about opening the floodgates take a look for example of food supply the green revolution then allows us to feed the population of the world is slowly coming to an end we're trying to use quantum computers to unlock the secrets of how to make fertilizer from nitrogen take a look at energy quantum computers may be able to create fusion power by stabilizing the super hot hydrogen inside a fusion reactor and take a look at medicine you realize that life is based on molecules molecules they can create alzheimer's disease parkinson's disease cancer diseases are beyond the reach of digital computers but hey this is what decline to computers do will be able to model diseases at the molecular level and that's why we hope to cure the incurable using quantum computers were talking about turning medicine up i down my personal hope for quantum computers is that will be able to create a theory of the entire universe the theory that eluded einstein the theory that would explain black holes and supernovas and galactic evolution but the equations are so complex that know one no one has been able to solve them perhaps they'll be solved in the memory of a quantum computer   to learn even more from the world's biggest thinkers get big think plus for your business \n",
      "---\n",
      "we all know the digital computers changed virtually every aspect of our life well the arrival of quantum computers could be even more historic than that we're now and the initial stages of the next revolution we're talking about a new generation of computers the ultimate computer a computer that computer on adam the ultimate constituents of batter itself the question is who's involved in this race to perfect quantum computers and the answer is everyone all the big players are part of this race because if they're not silicon valley could become the next rust belt also anyone who's interested in security is interested in the quantum computers they can crack almost any code that is based on digital technology that's why the f b i the cia and all national governments are following this is very closely what their computers will change everything the economy how he saw problems the way we interact with the universe you name it won't to computers will be there i'm doctor or michio kaku professor of theoretical physics at the city university of new york and author of quantum supremacy about the rise of quantum computers if he computers have gone through three basic stages stage one was the analog computer so two thousand years ago there was a shipwreck and in the boat that sank was a device and when you brushed away a the dirt and debris you began to realize that it was a machine a machine of incredible complexity he was in fact the world's first analog computer and it was designed to map the motion of the moon the sun and the planet's to simulate the universe but as we primitive people's became more prosperous we had to count things count how many cows you had count how much profit you may analog computers could be based on sticks bones whatever it took the count so this went on for thousands of years until finally we reach the work of charles babbage he creates the ultimate analog computer with hundreds of years and lovers and bullies and by turning the crank you can then calculate longitude latitude you can calculate interest rates it was very valuable to have it is made like that where the banking industry for commerce then world war two comes along babbage's machine is simply too primitive rated the german code so the job was given to mathematicians like alan turing alan turing was the one who codified lot of the laws of computation into what it's called a turing machine and of course is digital know the digital revolution is based on transistors it operates on zeros and ones zeros and ones at the speed of electricity every digital computer is a turing machine the next step beyond digital computers is the quantum era where to find it was one of the founders of quantum electrodynamics but also a visionary and he asked himself a simple question how small can you make a transistor and he realize that the old transistor is an atom one atom that could control the flow of electricity not just on or off but everything in between we have to go to quantum computers computers their computer on adams rather than on transistors transistors are based on zeros zero one zero zero one reality is not reality is based on electrons and particles and these particles in turn act like waves so you have to have a new set of mathematics to discuss the way leaves that make up a molecule and that's where quantum computers come in they're based on electrons and these electrons how can they have so much computational power because they could be in two places at the same time that's what gives quantum computers their power they compute on not just one universe but an infinite number of parallel universes at the fundamental level quantum mechanics can be reduced down to a cat choate injuries cat let's take a box in the box you put a cat and the question is is the cat dead or alive well until you open the box you don't know it is alive and dead simultaneously is in a superposition of to states in other words the universe has split in half in one have the cat is alive and the other universe they get is dead that's the basis of the quantum theory that until you make a measurement the cat can exists in both states simultaneously in fact in any number of states simultaneously the cat can be dead or alive play ing jumping sideways sick any number of states now why am i mentioning this is this summarizes the power of quantum computers weren't to computers compute on parallel universes that's why they are so powerful so how much faster is a quantum computer over a digital computer in principle infinitely faster when we talk about digital computers we can measure their power in terms of bits for example spin up spin down zeros and one would constitute one bit for a large is your computer we're not talking about billions of bits that are modeled by train sisters except now quantum computers talk not just about spin up or a spin down but everything in between that's called a cuban one cupid represents all the possibilities have an object spinning between up and down thousands of cuba's can now be modeled with the latest generation of quantum computers eventually we hope to hit a million and so we're talking about exceeding the power of ordinary digital computers that's called quantum supremacy it is the point at which a quantum computer can out race and are perform a digital computer on a certain task we pass that several years ago but we want a machine that could exceed the power of any digital computer we're not there yet or very close to it the number one problem facing quantum computers is the question of d coherence everything is based on particles like electrons and electrons have waves associate with them when these waves are vibrating in unison as call coherence and then you can do calculations of a quantum mechanical nature but if you fall out of coherence that everyday vibrates at a different frequency and what is that called noise you have to reduce the temperature down to near absolute zero so everything is pretty much vibrating slowly in unison that's difficult now nature solves this problem it is the basis of all life on the earth photosynthesis for example is a quantum mechanical process mother nature can create coherence at room temperature amazing a flower can do calculations that are most advanced quantum computer cannot mother nature is still smarter than us when it comes to the quantum theory so let's face it there are hurdles affecting the growth of quantum computers but they pale in comparison to the benefits that may be unleashed by quantum computers were talking about opening the floodgates take a look for example of food supply the green revolution then allows us to feed the population of the world is slowly coming to an end we're trying to use quantum computers to unlock the secrets of how to make fertilizer from nitrogen take a look at energy quantum computers may be able to create fusion power by stabilizing the super hot hydrogen inside a fusion reactor and take a look at medicine you realize that life is based on molecules molecules they can create alzheimer's disease parkinson's disease cancer diseases are beyond the reach of digital computers but hey this is what decline to computers do will be able to model diseases at the molecular level and that's why we hope to cure the incurable using quantum computers were talking about turning medicine up i down my personal hope for quantum computers is that will be able to create a theory of the entire universe the theory that eluded einstein the theory that would explain black holes and supernovas and galactic evolution but the equations are so complex that know one no one has been able to solve them perhaps they'll be solved in the memory of a quantum computer   to learn even more from the world's biggest thinkers get big think plus for your business \n",
      "\n",
      "    Question: How fast is a quantum computer?\n",
      "    Answer:\u001b[0m\n",
      "\n",
      "\u001b[1m> Finished chain.\u001b[0m\n",
      "In principle, a quantum computer is infinitely faster than a digital computer.\n"
     ]
    }
   ],
   "source": [
    "from langchain.prompts import PromptTemplate\n",
    "from langchain.chains import LLMChain\n",
    "\n",
    "QA_PROMPT = PromptTemplate(\n",
    "    input_variables=[\"query\", \"contexts\"],\n",
    "    template=\"\"\"You are a helpful assistant who answers user queries using the contexts provided. If the question cannot be answered using the information provided say \"I don't know\".\n",
    "\n",
    "    Contexts:\n",
    "    {contexts}\n",
    "\n",
    "    Question: {query}\n",
    "    Answer:\"\"\"\n",
    ")\n",
    "\n",
    "qa_chain = LLMChain(llm=llm, prompt=QA_PROMPT, verbose=True)\n",
    "\n",
    "output = qa_chain(inputs={\"query\": question, \"contexts\": \"\\n---\\n\".join([d.page_content for d in texts])})\n",
    "print(output[\"text\"])"
   ]
  },
  {
   "cell_type": "code",
   "execution_count": 38,
   "metadata": {
    "id": "-9MZ475fJt6P"
   },
   "outputs": [],
   "source": [
    "from langchain.chains import TransformChain\n",
    "\n",
    "def retrieval_transform(inputs: dict) -> dict:\n",
    "    texts = retriever.get_relevant_documents(query=inputs[\"question\"])\n",
    "    texts = [d.page_content for d in texts]\n",
    "    texts_dict = {\n",
    "        \"query\": inputs[\"question\"],\n",
    "        \"contexts\": \"\\n---\\n\".join(texts)\n",
    "    }\n",
    "    return texts_dict\n",
    "\n",
    "retrieval_chain = TransformChain(\n",
    "    input_variables=[\"question\"],\n",
    "    output_variables=[\"query\", \"contexts\"],\n",
    "    transform=retrieval_transform\n",
    ")"
   ]
  },
  {
   "cell_type": "code",
   "execution_count": 39,
   "metadata": {
    "id": "lXVGElDIL1TF"
   },
   "outputs": [],
   "source": [
    "from langchain.chains import SequentialChain\n",
    "\n",
    "rag_chain = SequentialChain(\n",
    "    chains=[retrieval_chain, qa_chain],\n",
    "    input_variables=[\"question\"],\n",
    "    output_variables=[\"query\", \"contexts\", \"text\"],\n",
    "    verbose=True\n",
    ")"
   ]
  },
  {
   "cell_type": "code",
   "execution_count": 40,
   "metadata": {
    "colab": {
     "base_uri": "https://localhost:8080/",
     "height": 671
    },
    "id": "9kph4SDcOS6S",
    "outputId": "e68bccc3-6267-4304-aee7-a9d7679daf42"
   },
   "outputs": [
    {
     "name": "stdout",
     "output_type": "stream",
     "text": [
      "\n",
      "\n",
      "\u001b[1m> Entering new SequentialChain chain...\u001b[0m\n"
     ]
    },
    {
     "name": "stderr",
     "output_type": "stream",
     "text": [
      "/opt/anaconda3/lib/python3.12/site-packages/langchain_core/_api/deprecation.py:139: LangChainDeprecationWarning: The method `BaseRetriever.get_relevant_documents` was deprecated in langchain-core 0.1.46 and will be removed in 0.3.0. Use invoke instead.\n",
      "  warn_deprecated(\n",
      "INFO:langchain.retrievers.multi_query:Generated queries: ['What is the speed of a quantum computer?', 'Can you provide information on the velocity of a quantum computer?', 'What is the rate at which a quantum computer operates?']\n"
     ]
    },
    {
     "name": "stdout",
     "output_type": "stream",
     "text": [
      "\n",
      "\n",
      "\u001b[1m> Entering new LLMChain chain...\u001b[0m\n",
      "Prompt after formatting:\n",
      "\u001b[32;1m\u001b[1;3mYou are a helpful assistant who answers user queries using the contexts provided. If the question cannot be answered using the information provided say \"I don't know\".\n",
      "\n",
      "    Contexts:\n",
      "    we all know the digital computers changed virtually every aspect of our life well the arrival of quantum computers could be even more historic than that we're now and the initial stages of the next revolution we're talking about a new generation of computers the ultimate computer a computer that computer on adam the ultimate constituents of batter itself the question is who's involved in this race to perfect quantum computers and the answer is everyone all the big players are part of this race because if they're not silicon valley could become the next rust belt also anyone who's interested in security is interested in the quantum computers they can crack almost any code that is based on digital technology that's why the f b i the cia and all national governments are following this is very closely what their computers will change everything the economy how he saw problems the way we interact with the universe you name it won't to computers will be there i'm doctor or michio kaku professor of theoretical physics at the city university of new york and author of quantum supremacy about the rise of quantum computers if he computers have gone through three basic stages stage one was the analog computer so two thousand years ago there was a shipwreck and in the boat that sank was a device and when you brushed away a the dirt and debris you began to realize that it was a machine a machine of incredible complexity he was in fact the world's first analog computer and it was designed to map the motion of the moon the sun and the planet's to simulate the universe but as we primitive people's became more prosperous we had to count things count how many cows you had count how much profit you may analog computers could be based on sticks bones whatever it took the count so this went on for thousands of years until finally we reach the work of charles babbage he creates the ultimate analog computer with hundreds of years and lovers and bullies and by turning the crank you can then calculate longitude latitude you can calculate interest rates it was very valuable to have it is made like that where the banking industry for commerce then world war two comes along babbage's machine is simply too primitive rated the german code so the job was given to mathematicians like alan turing alan turing was the one who codified lot of the laws of computation into what it's called a turing machine and of course is digital know the digital revolution is based on transistors it operates on zeros and ones zeros and ones at the speed of electricity every digital computer is a turing machine the next step beyond digital computers is the quantum era where to find it was one of the founders of quantum electrodynamics but also a visionary and he asked himself a simple question how small can you make a transistor and he realize that the old transistor is an atom one atom that could control the flow of electricity not just on or off but everything in between we have to go to quantum computers computers their computer on adams rather than on transistors transistors are based on zeros zero one zero zero one reality is not reality is based on electrons and particles and these particles in turn act like waves so you have to have a new set of mathematics to discuss the way leaves that make up a molecule and that's where quantum computers come in they're based on electrons and these electrons how can they have so much computational power because they could be in two places at the same time that's what gives quantum computers their power they compute on not just one universe but an infinite number of parallel universes at the fundamental level quantum mechanics can be reduced down to a cat choate injuries cat let's take a box in the box you put a cat and the question is is the cat dead or alive well until you open the box you don't know it is alive and dead simultaneously is in a superposition of to states in other words the universe has split in half in one have the cat is alive and the other universe they get is dead that's the basis of the quantum theory that until you make a measurement the cat can exists in both states simultaneously in fact in any number of states simultaneously the cat can be dead or alive play ing jumping sideways sick any number of states now why am i mentioning this is this summarizes the power of quantum computers weren't to computers compute on parallel universes that's why they are so powerful so how much faster is a quantum computer over a digital computer in principle infinitely faster when we talk about digital computers we can measure their power in terms of bits for example spin up spin down zeros and one would constitute one bit for a large is your computer we're not talking about billions of bits that are modeled by train sisters except now quantum computers talk not just about spin up or a spin down but everything in between that's called a cuban one cupid represents all the possibilities have an object spinning between up and down thousands of cuba's can now be modeled with the latest generation of quantum computers eventually we hope to hit a million and so we're talking about exceeding the power of ordinary digital computers that's called quantum supremacy it is the point at which a quantum computer can out race and are perform a digital computer on a certain task we pass that several years ago but we want a machine that could exceed the power of any digital computer we're not there yet or very close to it the number one problem facing quantum computers is the question of d coherence everything is based on particles like electrons and electrons have waves associate with them when these waves are vibrating in unison as call coherence and then you can do calculations of a quantum mechanical nature but if you fall out of coherence that everyday vibrates at a different frequency and what is that called noise you have to reduce the temperature down to near absolute zero so everything is pretty much vibrating slowly in unison that's difficult now nature solves this problem it is the basis of all life on the earth photosynthesis for example is a quantum mechanical process mother nature can create coherence at room temperature amazing a flower can do calculations that are most advanced quantum computer cannot mother nature is still smarter than us when it comes to the quantum theory so let's face it there are hurdles affecting the growth of quantum computers but they pale in comparison to the benefits that may be unleashed by quantum computers were talking about opening the floodgates take a look for example of food supply the green revolution then allows us to feed the population of the world is slowly coming to an end we're trying to use quantum computers to unlock the secrets of how to make fertilizer from nitrogen take a look at energy quantum computers may be able to create fusion power by stabilizing the super hot hydrogen inside a fusion reactor and take a look at medicine you realize that life is based on molecules molecules they can create alzheimer's disease parkinson's disease cancer diseases are beyond the reach of digital computers but hey this is what decline to computers do will be able to model diseases at the molecular level and that's why we hope to cure the incurable using quantum computers were talking about turning medicine up i down my personal hope for quantum computers is that will be able to create a theory of the entire universe the theory that eluded einstein the theory that would explain black holes and supernovas and galactic evolution but the equations are so complex that know one no one has been able to solve them perhaps they'll be solved in the memory of a quantum computer   to learn even more from the world's biggest thinkers get big think plus for your business \n",
      "---\n",
      "we all know the digital computers changed virtually every aspect of our life well the arrival of quantum computers could be even more historic than that we're now and the initial stages of the next revolution we're talking about a new generation of computers the ultimate computer a computer that computer on adam the ultimate constituents of batter itself the question is who's involved in this race to perfect quantum computers and the answer is everyone all the big players are part of this race because if they're not silicon valley could become the next rust belt also anyone who's interested in security is interested in the quantum computers they can crack almost any code that is based on digital technology that's why the f b i the cia and all national governments are following this is very closely what their computers will change everything the economy how he saw problems the way we interact with the universe you name it won't to computers will be there i'm doctor or michio kaku professor of theoretical physics at the city university of new york and author of quantum supremacy about the rise of quantum computers if he computers have gone through three basic stages stage one was the analog computer so two thousand years ago there was a shipwreck and in the boat that sank was a device and when you brushed away a the dirt and debris you began to realize that it was a machine a machine of incredible complexity he was in fact the world's first analog computer and it was designed to map the motion of the moon the sun and the planet's to simulate the universe but as we primitive people's became more prosperous we had to count things count how many cows you had count how much profit you may analog computers could be based on sticks bones whatever it took the count so this went on for thousands of years until finally we reach the work of charles babbage he creates the ultimate analog computer with hundreds of years and lovers and bullies and by turning the crank you can then calculate longitude latitude you can calculate interest rates it was very valuable to have it is made like that where the banking industry for commerce then world war two comes along babbage's machine is simply too primitive rated the german code so the job was given to mathematicians like alan turing alan turing was the one who codified lot of the laws of computation into what it's called a turing machine and of course is digital know the digital revolution is based on transistors it operates on zeros and ones zeros and ones at the speed of electricity every digital computer is a turing machine the next step beyond digital computers is the quantum era where to find it was one of the founders of quantum electrodynamics but also a visionary and he asked himself a simple question how small can you make a transistor and he realize that the old transistor is an atom one atom that could control the flow of electricity not just on or off but everything in between we have to go to quantum computers computers their computer on adams rather than on transistors transistors are based on zeros zero one zero zero one reality is not reality is based on electrons and particles and these particles in turn act like waves so you have to have a new set of mathematics to discuss the way leaves that make up a molecule and that's where quantum computers come in they're based on electrons and these electrons how can they have so much computational power because they could be in two places at the same time that's what gives quantum computers their power they compute on not just one universe but an infinite number of parallel universes at the fundamental level quantum mechanics can be reduced down to a cat choate injuries cat let's take a box in the box you put a cat and the question is is the cat dead or alive well until you open the box you don't know it is alive and dead simultaneously is in a superposition of to states in other words the universe has split in half in one have the cat is alive and the other universe they get is dead that's the basis of the quantum theory that until you make a measurement the cat can exists in both states simultaneously in fact in any number of states simultaneously the cat can be dead or alive play ing jumping sideways sick any number of states now why am i mentioning this is this summarizes the power of quantum computers weren't to computers compute on parallel universes that's why they are so powerful so how much faster is a quantum computer over a digital computer in principle infinitely faster when we talk about digital computers we can measure their power in terms of bits for example spin up spin down zeros and one would constitute one bit for a large is your computer we're not talking about billions of bits that are modeled by train sisters except now quantum computers talk not just about spin up or a spin down but everything in between that's called a cuban one cupid represents all the possibilities have an object spinning between up and down thousands of cuba's can now be modeled with the latest generation of quantum computers eventually we hope to hit a million and so we're talking about exceeding the power of ordinary digital computers that's called quantum supremacy it is the point at which a quantum computer can out race and are perform a digital computer on a certain task we pass that several years ago but we want a machine that could exceed the power of any digital computer we're not there yet or very close to it the number one problem facing quantum computers is the question of d coherence everything is based on particles like electrons and electrons have waves associate with them when these waves are vibrating in unison as call coherence and then you can do calculations of a quantum mechanical nature but if you fall out of coherence that everyday vibrates at a different frequency and what is that called noise you have to reduce the temperature down to near absolute zero so everything is pretty much vibrating slowly in unison that's difficult now nature solves this problem it is the basis of all life on the earth photosynthesis for example is a quantum mechanical process mother nature can create coherence at room temperature amazing a flower can do calculations that are most advanced quantum computer cannot mother nature is still smarter than us when it comes to the quantum theory so let's face it there are hurdles affecting the growth of quantum computers but they pale in comparison to the benefits that may be unleashed by quantum computers were talking about opening the floodgates take a look for example of food supply the green revolution then allows us to feed the population of the world is slowly coming to an end we're trying to use quantum computers to unlock the secrets of how to make fertilizer from nitrogen take a look at energy quantum computers may be able to create fusion power by stabilizing the super hot hydrogen inside a fusion reactor and take a look at medicine you realize that life is based on molecules molecules they can create alzheimer's disease parkinson's disease cancer diseases are beyond the reach of digital computers but hey this is what decline to computers do will be able to model diseases at the molecular level and that's why we hope to cure the incurable using quantum computers were talking about turning medicine up i down my personal hope for quantum computers is that will be able to create a theory of the entire universe the theory that eluded einstein the theory that would explain black holes and supernovas and galactic evolution but the equations are so complex that know one no one has been able to solve them perhaps they'll be solved in the memory of a quantum computer   to learn even more from the world's biggest thinkers get big think plus for your business \n",
      "\n",
      "    Question: How fast is a quantum computer?\n",
      "    Answer:\u001b[0m\n",
      "\n",
      "\u001b[1m> Finished chain.\u001b[0m\n",
      "\n",
      "\u001b[1m> Finished chain.\u001b[0m\n",
      "In principle, a quantum computer is infinitely faster than a digital computer.\n"
     ]
    }
   ],
   "source": [
    "output = rag_chain({\"question\": question})\n",
    "print(output[\"text\"])"
   ]
  },
  {
   "cell_type": "markdown",
   "metadata": {
    "id": "Jo10wvLzVBr5"
   },
   "source": [
    "# Custom Multiquery"
   ]
  },
  {
   "cell_type": "markdown",
   "metadata": {
    "id": "7iCSCmCNwIiy"
   },
   "source": [
    "## Prompt A\n",
    "\"\"\"Your task is to generate 3 different queries that aim to answer the user question from multiple perspectives.\n",
    "Every query MUST tackle the question from a different viewpoint, we want to get a variety of RELEVANT search results.\n",
    "Provide these alternative questions separated by newlines.\n",
    "Original question: {question}\"\"\"\n",
    "\n",
    "## Prompt B\n",
    "\"\"\"Your task is to generate 3 different search queries that aim to answer the question from multiple perspectives. The user questions are focused on Quantum Computing, AI, future technology and related subjects.\n",
    "Every query MUST tackle the question from a different viewpoint, we want to get a variety of RELEVANT search results.\n",
    "Provide these alternative questions separated by newlines.\n",
    "Original question: {question}\"\"\""
   ]
  },
  {
   "cell_type": "code",
   "execution_count": 41,
   "metadata": {
    "colab": {
     "base_uri": "https://localhost:8080/"
    },
    "id": "2tOqSgNgObJw",
    "outputId": "baa25c57-a41a-4e53-92cb-5dd8962854ee"
   },
   "outputs": [
    {
     "name": "stdout",
     "output_type": "stream",
     "text": [
      "LLMChain output: {'question': 'What are the effects of climate change?', 'text': ['1. How does climate change impact the environment and natural ecosystems?', '2. What are the social and economic consequences of climate change?', '3. In what ways does climate change affect human health and well-being?']}\n",
      "Type of question: <class 'str'>\n",
      "Content of question: How fast is a quantum computer?\n"
     ]
    },
    {
     "name": "stderr",
     "output_type": "stream",
     "text": [
      "INFO:langchain.retrievers.multi_query:Generated queries: ['1. What is the speed of a quantum computer compared to a traditional computer?', '2. How does the speed of a quantum computer differ from a classical computer?', '3. Can a quantum computer perform calculations faster than a traditional computer?']\n"
     ]
    },
    {
     "name": "stdout",
     "output_type": "stream",
     "text": [
      "Number of retrieved texts: 2\n"
     ]
    }
   ],
   "source": [
    "class SimpleListOutputParser(ListOutputParser):\n",
    "    def parse(self, text: str) -> List[str]:\n",
    "        # Split the text into lines and handle potential empty strings\n",
    "        return [line.strip() for line in text.split(\"\\n\") if line.strip()]\n",
    "\n",
    "output_parser = SimpleListOutputParser()\n",
    "\n",
    "template = \"\"\"\n",
    "Your task is to generate 3 different queries that aim to answer the user question from multiple perspectives.\n",
    "Every query MUST tackle the question from a different viewpoint, we want to get a variety of RELEVANT search results.\n",
    "Provide these alternative questions separated by newlines.\n",
    "Original question: {question}\n",
    "\"\"\"\n",
    "\n",
    "QUERY_PROMPT = PromptTemplate(\n",
    "    input_variables=[\"question\"],\n",
    "    template=template\n",
    ")\n",
    "\n",
    "llm = OpenAI(temperature=0.3, openai_api_key=openai_api_key)\n",
    "\n",
    "llm_chain = LLMChain(llm=llm, prompt=QUERY_PROMPT, output_parser=output_parser)\n",
    "\n",
    "# Debug: Test the LLMChain output\n",
    "test_question = \"What are the effects of climate change?\"\n",
    "result = llm_chain.invoke(test_question)\n",
    "print(\"LLMChain output:\", result)\n",
    "\n",
    "# Assuming vectorstore is defined elsewhere\n",
    "retriever = MultiQueryRetriever(\n",
    "    retriever=vectorstore.as_retriever(),\n",
    "    llm_chain=llm_chain,\n",
    "    parser_key=\"lines\"  # This should match the attribute name in the output parser\n",
    ")\n",
    "\n",
    "# Debug: Print the type and content of 'question'\n",
    "print(\"Type of question:\", type(question))\n",
    "print(\"Content of question:\", question)\n",
    "\n",
    "texts = retriever.get_relevant_documents(query=question)\n",
    "print(\"Number of retrieved texts:\", len(texts))"
   ]
  },
  {
   "cell_type": "code",
   "execution_count": 42,
   "metadata": {
    "colab": {
     "base_uri": "https://localhost:8080/"
    },
    "id": "BNjSkEtrtU_O",
    "outputId": "47f09885-fe0e-4484-9ca9-da8fca151e80",
    "scrolled": true
   },
   "outputs": [
    {
     "name": "stdout",
     "output_type": "stream",
     "text": [
      "LLMChain output: {'question': 'What are the effects of climate change?', 'text': ['1. How is climate change impacting the development of quantum computing technology?', '2. What role can AI play in mitigating the effects of climate change?', '3. What are the potential future advancements in technology that could help combat climate change?']}\n",
      "Type of question: <class 'str'>\n",
      "Content of question: How fast is a quantum computer?\n"
     ]
    },
    {
     "name": "stderr",
     "output_type": "stream",
     "text": [
      "INFO:langchain.retrievers.multi_query:Generated queries: ['1. What are the advantages of using quantum computers over traditional computers?', '2. How does the speed of a quantum computer compare to that of a supercomputer?', '3. Can quantum computers solve problems faster than classical computers?']\n"
     ]
    },
    {
     "name": "stdout",
     "output_type": "stream",
     "text": [
      "Number of retrieved texts: 3\n"
     ]
    }
   ],
   "source": [
    "class SimpleListOutputParser(ListOutputParser):\n",
    "    def parse(self, text: str) -> List[str]:\n",
    "        # Split the text into lines and handle potential empty strings\n",
    "        return [line.strip() for line in text.split(\"\\n\") if line.strip()]\n",
    "\n",
    "output_parser = SimpleListOutputParser()\n",
    "\n",
    "template = \"\"\"\n",
    "Your task is to generate 3 different search queries that aim to answer the question from multiple perspectives. The user questions are focused on Quantum Computing, AI, future technology and related subjects.\n",
    "Every query MUST tackle the question from a different viewpoint, we want to get a variety of RELEVANT search results.\n",
    "Provide these alternative questions separated by newlines.\n",
    "Original question: {question}\n",
    "\"\"\"\n",
    "\n",
    "QUERY_PROMPT = PromptTemplate(\n",
    "    input_variables=[\"question\"],\n",
    "    template=template\n",
    ")\n",
    "\n",
    "llm = OpenAI(temperature=0.3, openai_api_key=openai_api_key)\n",
    "\n",
    "llm_chain = LLMChain(llm=llm, prompt=QUERY_PROMPT, output_parser=output_parser)\n",
    "\n",
    "# Debug: Test the LLMChain output\n",
    "test_question = \"What are the effects of climate change?\"\n",
    "result = llm_chain.invoke(test_question)\n",
    "print(\"LLMChain output:\", result)\n",
    "\n",
    "# Assuming vectorstore is defined elsewhere\n",
    "retriever = MultiQueryRetriever(\n",
    "    retriever=vectorstore.as_retriever(),\n",
    "    llm_chain=llm_chain,\n",
    "    parser_key=\"lines\"  # This should match the attribute name in the output parser\n",
    ")\n",
    "\n",
    "# Debug: Print the type and content of 'question'\n",
    "print(\"Type of question:\", type(question))\n",
    "print(\"Content of question:\", question)\n",
    "\n",
    "texts = retriever.get_relevant_documents(query=question)\n",
    "print(\"Number of retrieved texts:\", len(texts))"
   ]
  },
  {
   "cell_type": "markdown",
   "metadata": {
    "id": "k87IWZpl65zt"
   },
   "source": [
    "# BLEU and ROUGE scores"
   ]
  },
  {
   "cell_type": "code",
   "execution_count": 59,
   "metadata": {},
   "outputs": [],
   "source": [
    "# !pip install sacrebleu nltk rouge-score"
   ]
  },
  {
   "cell_type": "code",
   "execution_count": 60,
   "metadata": {},
   "outputs": [
    {
     "name": "stderr",
     "output_type": "stream",
     "text": [
      "[nltk_data] Downloading package punkt to /Users/f.nuno/nltk_data...\n",
      "[nltk_data]   Package punkt is already up-to-date!\n"
     ]
    },
    {
     "data": {
      "text/plain": [
       "True"
      ]
     },
     "execution_count": 60,
     "metadata": {},
     "output_type": "execute_result"
    }
   ],
   "source": [
    "import sacrebleu\n",
    "from rouge_score import rouge_scorer\n",
    "import nltk\n",
    "from tabulate import tabulate\n",
    "\n",
    "nltk.download('punkt')"
   ]
  },
  {
   "cell_type": "code",
   "execution_count": 61,
   "metadata": {},
   "outputs": [],
   "source": [
    "# Function to calculate BLEU score\n",
    "def calculate_bleu(reference, candidate):\n",
    "    reference_tokens = nltk.word_tokenize(reference)\n",
    "    candidate_tokens = nltk.word_tokenize(candidate)\n",
    "    bleu_score = sacrebleu.corpus_bleu([candidate], [[reference]])\n",
    "    return bleu_score.score\n",
    "\n",
    "# Function to calculate ROUGE scores\n",
    "def calculate_rouge(reference, candidate):\n",
    "    scorer = rouge_scorer.RougeScorer(['rouge1', 'rouge2', 'rougeL'], use_stemmer=True)\n",
    "    scores = scorer.score(reference, candidate)\n",
    "    return scores"
   ]
  },
  {
   "cell_type": "code",
   "execution_count": 62,
   "metadata": {},
   "outputs": [
    {
     "name": "stdout",
     "output_type": "stream",
     "text": [
      "BLEU score: 13.664845439199912\n",
      "ROUGE scores: {'rouge1': Score(precision=0.375, recall=0.2727272727272727, fmeasure=0.3157894736842105), 'rouge2': Score(precision=0.14285714285714285, recall=0.1, fmeasure=0.11764705882352941), 'rougeL': Score(precision=0.375, recall=0.2727272727272727, fmeasure=0.3157894736842105)}\n"
     ]
    }
   ],
   "source": [
    "# Example reference and candidate texts\n",
    "reference = \"LangChain is a framework for developing applications powered by language models.\"\n",
    "candidate = \"LangChain helps in integrating and managing language models.\"\n",
    "\n",
    "# Calculate BLEU score\n",
    "bleu_score = calculate_bleu(reference, candidate)\n",
    "print(f\"BLEU score: {bleu_score}\")\n",
    "\n",
    "# Calculate ROUGE scores\n",
    "rouge_scores = calculate_rouge(reference, candidate)\n",
    "print(f\"ROUGE scores: {rouge_scores}\")"
   ]
  },
  {
   "cell_type": "code",
   "execution_count": 63,
   "metadata": {},
   "outputs": [],
   "source": [
    "# Prepare data for tabulation\n",
    "table_data = [\n",
    "    [\"Metric\", \"Precision\", \"Recall\", \"F-measure\"],\n",
    "    [\"BLEU\", \"-\", \"-\", f\"{bleu_score:.2f}\"],\n",
    "    [\"ROUGE-1\", f\"{rouge_scores['rouge1'].precision:.3f}\", f\"{rouge_scores['rouge1'].recall:.3f}\", f\"{rouge_scores['rouge1'].fmeasure:.3f}\"],\n",
    "    [\"ROUGE-2\", f\"{rouge_scores['rouge2'].precision:.3f}\", f\"{rouge_scores['rouge2'].recall:.3f}\", f\"{rouge_scores['rouge2'].fmeasure:.3f}\"],\n",
    "    [\"ROUGE-L\", f\"{rouge_scores['rougeL'].precision:.3f}\", f\"{rouge_scores['rougeL'].recall:.3f}\", f\"{rouge_scores['rougeL'].fmeasure:.3f}\"]\n",
    "]"
   ]
  },
  {
   "cell_type": "code",
   "execution_count": 64,
   "metadata": {},
   "outputs": [
    {
     "name": "stdout",
     "output_type": "stream",
     "text": [
      "+---------+-----------+--------+-----------+\n",
      "| Metric  | Precision | Recall | F-measure |\n",
      "+---------+-----------+--------+-----------+\n",
      "|  BLEU   |     -     |   -    |   13.66   |\n",
      "| ROUGE-1 |   0.375   | 0.273  |   0.316   |\n",
      "| ROUGE-2 |   0.143   | 0.100  |   0.118   |\n",
      "| ROUGE-L |   0.375   | 0.273  |   0.316   |\n",
      "+---------+-----------+--------+-----------+\n"
     ]
    }
   ],
   "source": [
    "# Print table\n",
    "print(tabulate(table_data, headers=\"firstrow\", tablefmt=\"pretty\"))"
   ]
  },
  {
   "cell_type": "code",
   "execution_count": null,
   "metadata": {},
   "outputs": [],
   "source": []
  }
 ],
 "metadata": {
  "colab": {
   "machine_shape": "hm",
   "provenance": []
  },
  "kernelspec": {
   "display_name": "Python 3 (ipykernel)",
   "language": "python",
   "name": "python3"
  },
  "language_info": {
   "codemirror_mode": {
    "name": "ipython",
    "version": 3
   },
   "file_extension": ".py",
   "mimetype": "text/x-python",
   "name": "python",
   "nbconvert_exporter": "python",
   "pygments_lexer": "ipython3",
   "version": "3.12.2"
  },
  "widgets": {
   "application/vnd.jupyter.widget-state+json": {
    "0903c5ebc65c437c8e18c6676923c32a": {
     "model_module": "@jupyter-widgets/base",
     "model_module_version": "1.2.0",
     "model_name": "LayoutModel",
     "state": {
      "_model_module": "@jupyter-widgets/base",
      "_model_module_version": "1.2.0",
      "_model_name": "LayoutModel",
      "_view_count": null,
      "_view_module": "@jupyter-widgets/base",
      "_view_module_version": "1.2.0",
      "_view_name": "LayoutView",
      "align_content": null,
      "align_items": null,
      "align_self": null,
      "border": null,
      "bottom": null,
      "display": null,
      "flex": null,
      "flex_flow": null,
      "grid_area": null,
      "grid_auto_columns": null,
      "grid_auto_flow": null,
      "grid_auto_rows": null,
      "grid_column": null,
      "grid_gap": null,
      "grid_row": null,
      "grid_template_areas": null,
      "grid_template_columns": null,
      "grid_template_rows": null,
      "height": null,
      "justify_content": null,
      "justify_items": null,
      "left": null,
      "margin": null,
      "max_height": null,
      "max_width": null,
      "min_height": null,
      "min_width": null,
      "object_fit": null,
      "object_position": null,
      "order": null,
      "overflow": null,
      "overflow_x": null,
      "overflow_y": null,
      "padding": null,
      "right": null,
      "top": null,
      "visibility": null,
      "width": null
     }
    },
    "1461f7546d3e49489d2c3488191fa0c8": {
     "model_module": "@jupyter-widgets/base",
     "model_module_version": "1.2.0",
     "model_name": "LayoutModel",
     "state": {
      "_model_module": "@jupyter-widgets/base",
      "_model_module_version": "1.2.0",
      "_model_name": "LayoutModel",
      "_view_count": null,
      "_view_module": "@jupyter-widgets/base",
      "_view_module_version": "1.2.0",
      "_view_name": "LayoutView",
      "align_content": null,
      "align_items": null,
      "align_self": null,
      "border": null,
      "bottom": null,
      "display": null,
      "flex": null,
      "flex_flow": null,
      "grid_area": null,
      "grid_auto_columns": null,
      "grid_auto_flow": null,
      "grid_auto_rows": null,
      "grid_column": null,
      "grid_gap": null,
      "grid_row": null,
      "grid_template_areas": null,
      "grid_template_columns": null,
      "grid_template_rows": null,
      "height": null,
      "justify_content": null,
      "justify_items": null,
      "left": null,
      "margin": null,
      "max_height": null,
      "max_width": null,
      "min_height": null,
      "min_width": null,
      "object_fit": null,
      "object_position": null,
      "order": null,
      "overflow": null,
      "overflow_x": null,
      "overflow_y": null,
      "padding": null,
      "right": null,
      "top": null,
      "visibility": null,
      "width": null
     }
    },
    "202b7d48e97d407a8b2519f2644bc505": {
     "model_module": "@jupyter-widgets/controls",
     "model_module_version": "1.5.0",
     "model_name": "HBoxModel",
     "state": {
      "_dom_classes": [],
      "_model_module": "@jupyter-widgets/controls",
      "_model_module_version": "1.5.0",
      "_model_name": "HBoxModel",
      "_view_count": null,
      "_view_module": "@jupyter-widgets/controls",
      "_view_module_version": "1.5.0",
      "_view_name": "HBoxView",
      "box_style": "",
      "children": [
       "IPY_MODEL_5b08a1fbc75940448a0e4264353bdbd9",
       "IPY_MODEL_2614ff490ff4408f919a808b276148e9",
       "IPY_MODEL_6ae0cb2bebef45069e838c57bfeebb1f"
      ],
      "layout": "IPY_MODEL_8985e87dea3542a09736aed6d033eb70"
     }
    },
    "22b29699bfa544629f4cd136f6370fbe": {
     "model_module": "@jupyter-widgets/controls",
     "model_module_version": "1.5.0",
     "model_name": "HBoxModel",
     "state": {
      "_dom_classes": [],
      "_model_module": "@jupyter-widgets/controls",
      "_model_module_version": "1.5.0",
      "_model_name": "HBoxModel",
      "_view_count": null,
      "_view_module": "@jupyter-widgets/controls",
      "_view_module_version": "1.5.0",
      "_view_name": "HBoxView",
      "box_style": "",
      "children": [
       "IPY_MODEL_869a2bd1ca924eb5bfa43ba403efb780",
       "IPY_MODEL_c675717db3744349b9fbef85bf398902",
       "IPY_MODEL_25cabc4efd04428e919cde59e3615ed3"
      ],
      "layout": "IPY_MODEL_9ca9b0300ead4a768340b5ca297e2374"
     }
    },
    "25cabc4efd04428e919cde59e3615ed3": {
     "model_module": "@jupyter-widgets/controls",
     "model_module_version": "1.5.0",
     "model_name": "HTMLModel",
     "state": {
      "_dom_classes": [],
      "_model_module": "@jupyter-widgets/controls",
      "_model_module_version": "1.5.0",
      "_model_name": "HTMLModel",
      "_view_count": null,
      "_view_module": "@jupyter-widgets/controls",
      "_view_module_version": "1.5.0",
      "_view_name": "HTMLView",
      "description": "",
      "description_tooltip": null,
      "layout": "IPY_MODEL_aadc265d8186451faf96dc2dae45fcba",
      "placeholder": "​",
      "style": "IPY_MODEL_6bf3bd62bac2469f980a6181db55afe3",
      "value": " 10840000/? [00:54&lt;00:00, 247608.53it/s]"
     }
    },
    "2614ff490ff4408f919a808b276148e9": {
     "model_module": "@jupyter-widgets/controls",
     "model_module_version": "1.5.0",
     "model_name": "FloatProgressModel",
     "state": {
      "_dom_classes": [],
      "_model_module": "@jupyter-widgets/controls",
      "_model_module_version": "1.5.0",
      "_model_name": "FloatProgressModel",
      "_view_count": null,
      "_view_module": "@jupyter-widgets/controls",
      "_view_module_version": "1.5.0",
      "_view_name": "ProgressView",
      "bar_style": "success",
      "description": "",
      "description_tooltip": null,
      "layout": "IPY_MODEL_65b0d5801c274e18943670076ab665e3",
      "max": 17,
      "min": 0,
      "orientation": "horizontal",
      "style": "IPY_MODEL_5e3d765c4f7747fba62c02bd254fb6c8",
      "value": 17
     }
    },
    "2ff688dad44a4bcb91baf6e0b597a80d": {
     "model_module": "@jupyter-widgets/base",
     "model_module_version": "1.2.0",
     "model_name": "LayoutModel",
     "state": {
      "_model_module": "@jupyter-widgets/base",
      "_model_module_version": "1.2.0",
      "_model_name": "LayoutModel",
      "_view_count": null,
      "_view_module": "@jupyter-widgets/base",
      "_view_module_version": "1.2.0",
      "_view_name": "LayoutView",
      "align_content": null,
      "align_items": null,
      "align_self": null,
      "border": null,
      "bottom": null,
      "display": null,
      "flex": null,
      "flex_flow": null,
      "grid_area": null,
      "grid_auto_columns": null,
      "grid_auto_flow": null,
      "grid_auto_rows": null,
      "grid_column": null,
      "grid_gap": null,
      "grid_row": null,
      "grid_template_areas": null,
      "grid_template_columns": null,
      "grid_template_rows": null,
      "height": null,
      "justify_content": null,
      "justify_items": null,
      "left": null,
      "margin": null,
      "max_height": null,
      "max_width": null,
      "min_height": null,
      "min_width": null,
      "object_fit": null,
      "object_position": null,
      "order": null,
      "overflow": null,
      "overflow_x": null,
      "overflow_y": null,
      "padding": null,
      "right": null,
      "top": null,
      "visibility": null,
      "width": null
     }
    },
    "3914abf7153a4d48b2f6a187e15012f6": {
     "model_module": "@jupyter-widgets/base",
     "model_module_version": "1.2.0",
     "model_name": "LayoutModel",
     "state": {
      "_model_module": "@jupyter-widgets/base",
      "_model_module_version": "1.2.0",
      "_model_name": "LayoutModel",
      "_view_count": null,
      "_view_module": "@jupyter-widgets/base",
      "_view_module_version": "1.2.0",
      "_view_name": "LayoutView",
      "align_content": null,
      "align_items": null,
      "align_self": null,
      "border": null,
      "bottom": null,
      "display": null,
      "flex": null,
      "flex_flow": null,
      "grid_area": null,
      "grid_auto_columns": null,
      "grid_auto_flow": null,
      "grid_auto_rows": null,
      "grid_column": null,
      "grid_gap": null,
      "grid_row": null,
      "grid_template_areas": null,
      "grid_template_columns": null,
      "grid_template_rows": null,
      "height": null,
      "justify_content": null,
      "justify_items": null,
      "left": null,
      "margin": null,
      "max_height": null,
      "max_width": null,
      "min_height": null,
      "min_width": null,
      "object_fit": null,
      "object_position": null,
      "order": null,
      "overflow": null,
      "overflow_x": null,
      "overflow_y": null,
      "padding": null,
      "right": null,
      "top": null,
      "visibility": null,
      "width": null
     }
    },
    "582182f94da94f34b5a8470180d1f595": {
     "model_module": "@jupyter-widgets/controls",
     "model_module_version": "1.5.0",
     "model_name": "FloatProgressModel",
     "state": {
      "_dom_classes": [],
      "_model_module": "@jupyter-widgets/controls",
      "_model_module_version": "1.5.0",
      "_model_name": "FloatProgressModel",
      "_view_count": null,
      "_view_module": "@jupyter-widgets/controls",
      "_view_module_version": "1.5.0",
      "_view_name": "ProgressView",
      "bar_style": "success",
      "description": "",
      "description_tooltip": null,
      "layout": "IPY_MODEL_9cc58f3194eb4d19a9cb13202361c518",
      "max": 1,
      "min": 0,
      "orientation": "horizontal",
      "style": "IPY_MODEL_aa94e9f12b684778848d4735a38a5c54",
      "value": 1
     }
    },
    "5b08a1fbc75940448a0e4264353bdbd9": {
     "model_module": "@jupyter-widgets/controls",
     "model_module_version": "1.5.0",
     "model_name": "HTMLModel",
     "state": {
      "_dom_classes": [],
      "_model_module": "@jupyter-widgets/controls",
      "_model_module_version": "1.5.0",
      "_model_name": "HTMLModel",
      "_view_count": null,
      "_view_module": "@jupyter-widgets/controls",
      "_view_module_version": "1.5.0",
      "_view_name": "HTMLView",
      "description": "",
      "description_tooltip": null,
      "layout": "IPY_MODEL_d72b13aee7da4579bbeed8765650f5cb",
      "placeholder": "​",
      "style": "IPY_MODEL_c4f4ba0d51d44b9baa7ed6a413c1448d",
      "value": "100%"
     }
    },
    "5e3d765c4f7747fba62c02bd254fb6c8": {
     "model_module": "@jupyter-widgets/controls",
     "model_module_version": "1.5.0",
     "model_name": "ProgressStyleModel",
     "state": {
      "_model_module": "@jupyter-widgets/controls",
      "_model_module_version": "1.5.0",
      "_model_name": "ProgressStyleModel",
      "_view_count": null,
      "_view_module": "@jupyter-widgets/base",
      "_view_module_version": "1.2.0",
      "_view_name": "StyleView",
      "bar_color": null,
      "description_width": ""
     }
    },
    "60815b7b8320477e969cd67cb3aff844": {
     "model_module": "@jupyter-widgets/controls",
     "model_module_version": "1.5.0",
     "model_name": "HTMLModel",
     "state": {
      "_dom_classes": [],
      "_model_module": "@jupyter-widgets/controls",
      "_model_module_version": "1.5.0",
      "_model_name": "HTMLModel",
      "_view_count": null,
      "_view_module": "@jupyter-widgets/controls",
      "_view_module_version": "1.5.0",
      "_view_name": "HTMLView",
      "description": "",
      "description_tooltip": null,
      "layout": "IPY_MODEL_0903c5ebc65c437c8e18c6676923c32a",
      "placeholder": "​",
      "style": "IPY_MODEL_96681bb9a7c64238a7898c307b52744e",
      "value": " 1/1 [00:00&lt;00:00, 78.07it/s]"
     }
    },
    "65b0d5801c274e18943670076ab665e3": {
     "model_module": "@jupyter-widgets/base",
     "model_module_version": "1.2.0",
     "model_name": "LayoutModel",
     "state": {
      "_model_module": "@jupyter-widgets/base",
      "_model_module_version": "1.2.0",
      "_model_name": "LayoutModel",
      "_view_count": null,
      "_view_module": "@jupyter-widgets/base",
      "_view_module_version": "1.2.0",
      "_view_name": "LayoutView",
      "align_content": null,
      "align_items": null,
      "align_self": null,
      "border": null,
      "bottom": null,
      "display": null,
      "flex": null,
      "flex_flow": null,
      "grid_area": null,
      "grid_auto_columns": null,
      "grid_auto_flow": null,
      "grid_auto_rows": null,
      "grid_column": null,
      "grid_gap": null,
      "grid_row": null,
      "grid_template_areas": null,
      "grid_template_columns": null,
      "grid_template_rows": null,
      "height": null,
      "justify_content": null,
      "justify_items": null,
      "left": null,
      "margin": null,
      "max_height": null,
      "max_width": null,
      "min_height": null,
      "min_width": null,
      "object_fit": null,
      "object_position": null,
      "order": null,
      "overflow": null,
      "overflow_x": null,
      "overflow_y": null,
      "padding": null,
      "right": null,
      "top": null,
      "visibility": null,
      "width": null
     }
    },
    "6ae0cb2bebef45069e838c57bfeebb1f": {
     "model_module": "@jupyter-widgets/controls",
     "model_module_version": "1.5.0",
     "model_name": "HTMLModel",
     "state": {
      "_dom_classes": [],
      "_model_module": "@jupyter-widgets/controls",
      "_model_module_version": "1.5.0",
      "_model_name": "HTMLModel",
      "_view_count": null,
      "_view_module": "@jupyter-widgets/controls",
      "_view_module_version": "1.5.0",
      "_view_name": "HTMLView",
      "description": "",
      "description_tooltip": null,
      "layout": "IPY_MODEL_91d4a8c0c8ff421885ab822efdafeba9",
      "placeholder": "​",
      "style": "IPY_MODEL_99b17916bbdd4680982b52501baface8",
      "value": " 17/17 [00:27&lt;00:00,  1.56s/it]"
     }
    },
    "6bf3bd62bac2469f980a6181db55afe3": {
     "model_module": "@jupyter-widgets/controls",
     "model_module_version": "1.5.0",
     "model_name": "DescriptionStyleModel",
     "state": {
      "_model_module": "@jupyter-widgets/controls",
      "_model_module_version": "1.5.0",
      "_model_name": "DescriptionStyleModel",
      "_view_count": null,
      "_view_module": "@jupyter-widgets/base",
      "_view_module_version": "1.2.0",
      "_view_name": "StyleView",
      "description_width": ""
     }
    },
    "869a2bd1ca924eb5bfa43ba403efb780": {
     "model_module": "@jupyter-widgets/controls",
     "model_module_version": "1.5.0",
     "model_name": "HTMLModel",
     "state": {
      "_dom_classes": [],
      "_model_module": "@jupyter-widgets/controls",
      "_model_module_version": "1.5.0",
      "_model_name": "HTMLModel",
      "_view_count": null,
      "_view_module": "@jupyter-widgets/controls",
      "_view_module_version": "1.5.0",
      "_view_name": "HTMLView",
      "description": "",
      "description_tooltip": null,
      "layout": "IPY_MODEL_1461f7546d3e49489d2c3488191fa0c8",
      "placeholder": "​",
      "style": "IPY_MODEL_d58e937d585f43b9b680a2a86dd2eec3",
      "value": "Transcribing: "
     }
    },
    "8985e87dea3542a09736aed6d033eb70": {
     "model_module": "@jupyter-widgets/base",
     "model_module_version": "1.2.0",
     "model_name": "LayoutModel",
     "state": {
      "_model_module": "@jupyter-widgets/base",
      "_model_module_version": "1.2.0",
      "_model_name": "LayoutModel",
      "_view_count": null,
      "_view_module": "@jupyter-widgets/base",
      "_view_module_version": "1.2.0",
      "_view_name": "LayoutView",
      "align_content": null,
      "align_items": null,
      "align_self": null,
      "border": null,
      "bottom": null,
      "display": null,
      "flex": null,
      "flex_flow": null,
      "grid_area": null,
      "grid_auto_columns": null,
      "grid_auto_flow": null,
      "grid_auto_rows": null,
      "grid_column": null,
      "grid_gap": null,
      "grid_row": null,
      "grid_template_areas": null,
      "grid_template_columns": null,
      "grid_template_rows": null,
      "height": null,
      "justify_content": null,
      "justify_items": null,
      "left": null,
      "margin": null,
      "max_height": null,
      "max_width": null,
      "min_height": null,
      "min_width": null,
      "object_fit": null,
      "object_position": null,
      "order": null,
      "overflow": null,
      "overflow_x": null,
      "overflow_y": null,
      "padding": null,
      "right": null,
      "top": null,
      "visibility": null,
      "width": null
     }
    },
    "91d4a8c0c8ff421885ab822efdafeba9": {
     "model_module": "@jupyter-widgets/base",
     "model_module_version": "1.2.0",
     "model_name": "LayoutModel",
     "state": {
      "_model_module": "@jupyter-widgets/base",
      "_model_module_version": "1.2.0",
      "_model_name": "LayoutModel",
      "_view_count": null,
      "_view_module": "@jupyter-widgets/base",
      "_view_module_version": "1.2.0",
      "_view_name": "LayoutView",
      "align_content": null,
      "align_items": null,
      "align_self": null,
      "border": null,
      "bottom": null,
      "display": null,
      "flex": null,
      "flex_flow": null,
      "grid_area": null,
      "grid_auto_columns": null,
      "grid_auto_flow": null,
      "grid_auto_rows": null,
      "grid_column": null,
      "grid_gap": null,
      "grid_row": null,
      "grid_template_areas": null,
      "grid_template_columns": null,
      "grid_template_rows": null,
      "height": null,
      "justify_content": null,
      "justify_items": null,
      "left": null,
      "margin": null,
      "max_height": null,
      "max_width": null,
      "min_height": null,
      "min_width": null,
      "object_fit": null,
      "object_position": null,
      "order": null,
      "overflow": null,
      "overflow_x": null,
      "overflow_y": null,
      "padding": null,
      "right": null,
      "top": null,
      "visibility": null,
      "width": null
     }
    },
    "92cbdaf972004576951aa4a418fe4d83": {
     "model_module": "@jupyter-widgets/controls",
     "model_module_version": "1.5.0",
     "model_name": "HBoxModel",
     "state": {
      "_dom_classes": [],
      "_model_module": "@jupyter-widgets/controls",
      "_model_module_version": "1.5.0",
      "_model_name": "HBoxModel",
      "_view_count": null,
      "_view_module": "@jupyter-widgets/controls",
      "_view_module_version": "1.5.0",
      "_view_name": "HBoxView",
      "box_style": "",
      "children": [
       "IPY_MODEL_ce91347a876246fdbfb47461184423a3",
       "IPY_MODEL_582182f94da94f34b5a8470180d1f595",
       "IPY_MODEL_60815b7b8320477e969cd67cb3aff844"
      ],
      "layout": "IPY_MODEL_fec3f075ae2c4172a9199b80898e58f7"
     }
    },
    "96681bb9a7c64238a7898c307b52744e": {
     "model_module": "@jupyter-widgets/controls",
     "model_module_version": "1.5.0",
     "model_name": "DescriptionStyleModel",
     "state": {
      "_model_module": "@jupyter-widgets/controls",
      "_model_module_version": "1.5.0",
      "_model_name": "DescriptionStyleModel",
      "_view_count": null,
      "_view_module": "@jupyter-widgets/base",
      "_view_module_version": "1.2.0",
      "_view_name": "StyleView",
      "description_width": ""
     }
    },
    "98d50bbbafeb444295dae9fdaf9a3da7": {
     "model_module": "@jupyter-widgets/controls",
     "model_module_version": "1.5.0",
     "model_name": "ProgressStyleModel",
     "state": {
      "_model_module": "@jupyter-widgets/controls",
      "_model_module_version": "1.5.0",
      "_model_name": "ProgressStyleModel",
      "_view_count": null,
      "_view_module": "@jupyter-widgets/base",
      "_view_module_version": "1.2.0",
      "_view_name": "StyleView",
      "bar_color": null,
      "description_width": ""
     }
    },
    "99b17916bbdd4680982b52501baface8": {
     "model_module": "@jupyter-widgets/controls",
     "model_module_version": "1.5.0",
     "model_name": "DescriptionStyleModel",
     "state": {
      "_model_module": "@jupyter-widgets/controls",
      "_model_module_version": "1.5.0",
      "_model_name": "DescriptionStyleModel",
      "_view_count": null,
      "_view_module": "@jupyter-widgets/base",
      "_view_module_version": "1.2.0",
      "_view_name": "StyleView",
      "description_width": ""
     }
    },
    "9ca9b0300ead4a768340b5ca297e2374": {
     "model_module": "@jupyter-widgets/base",
     "model_module_version": "1.2.0",
     "model_name": "LayoutModel",
     "state": {
      "_model_module": "@jupyter-widgets/base",
      "_model_module_version": "1.2.0",
      "_model_name": "LayoutModel",
      "_view_count": null,
      "_view_module": "@jupyter-widgets/base",
      "_view_module_version": "1.2.0",
      "_view_name": "LayoutView",
      "align_content": null,
      "align_items": null,
      "align_self": null,
      "border": null,
      "bottom": null,
      "display": null,
      "flex": null,
      "flex_flow": null,
      "grid_area": null,
      "grid_auto_columns": null,
      "grid_auto_flow": null,
      "grid_auto_rows": null,
      "grid_column": null,
      "grid_gap": null,
      "grid_row": null,
      "grid_template_areas": null,
      "grid_template_columns": null,
      "grid_template_rows": null,
      "height": null,
      "justify_content": null,
      "justify_items": null,
      "left": null,
      "margin": null,
      "max_height": null,
      "max_width": null,
      "min_height": null,
      "min_width": null,
      "object_fit": null,
      "object_position": null,
      "order": null,
      "overflow": null,
      "overflow_x": null,
      "overflow_y": null,
      "padding": null,
      "right": null,
      "top": null,
      "visibility": null,
      "width": null
     }
    },
    "9cc58f3194eb4d19a9cb13202361c518": {
     "model_module": "@jupyter-widgets/base",
     "model_module_version": "1.2.0",
     "model_name": "LayoutModel",
     "state": {
      "_model_module": "@jupyter-widgets/base",
      "_model_module_version": "1.2.0",
      "_model_name": "LayoutModel",
      "_view_count": null,
      "_view_module": "@jupyter-widgets/base",
      "_view_module_version": "1.2.0",
      "_view_name": "LayoutView",
      "align_content": null,
      "align_items": null,
      "align_self": null,
      "border": null,
      "bottom": null,
      "display": null,
      "flex": null,
      "flex_flow": null,
      "grid_area": null,
      "grid_auto_columns": null,
      "grid_auto_flow": null,
      "grid_auto_rows": null,
      "grid_column": null,
      "grid_gap": null,
      "grid_row": null,
      "grid_template_areas": null,
      "grid_template_columns": null,
      "grid_template_rows": null,
      "height": null,
      "justify_content": null,
      "justify_items": null,
      "left": null,
      "margin": null,
      "max_height": null,
      "max_width": null,
      "min_height": null,
      "min_width": null,
      "object_fit": null,
      "object_position": null,
      "order": null,
      "overflow": null,
      "overflow_x": null,
      "overflow_y": null,
      "padding": null,
      "right": null,
      "top": null,
      "visibility": null,
      "width": null
     }
    },
    "aa94e9f12b684778848d4735a38a5c54": {
     "model_module": "@jupyter-widgets/controls",
     "model_module_version": "1.5.0",
     "model_name": "ProgressStyleModel",
     "state": {
      "_model_module": "@jupyter-widgets/controls",
      "_model_module_version": "1.5.0",
      "_model_name": "ProgressStyleModel",
      "_view_count": null,
      "_view_module": "@jupyter-widgets/base",
      "_view_module_version": "1.2.0",
      "_view_name": "StyleView",
      "bar_color": null,
      "description_width": ""
     }
    },
    "aadc265d8186451faf96dc2dae45fcba": {
     "model_module": "@jupyter-widgets/base",
     "model_module_version": "1.2.0",
     "model_name": "LayoutModel",
     "state": {
      "_model_module": "@jupyter-widgets/base",
      "_model_module_version": "1.2.0",
      "_model_name": "LayoutModel",
      "_view_count": null,
      "_view_module": "@jupyter-widgets/base",
      "_view_module_version": "1.2.0",
      "_view_name": "LayoutView",
      "align_content": null,
      "align_items": null,
      "align_self": null,
      "border": null,
      "bottom": null,
      "display": null,
      "flex": null,
      "flex_flow": null,
      "grid_area": null,
      "grid_auto_columns": null,
      "grid_auto_flow": null,
      "grid_auto_rows": null,
      "grid_column": null,
      "grid_gap": null,
      "grid_row": null,
      "grid_template_areas": null,
      "grid_template_columns": null,
      "grid_template_rows": null,
      "height": null,
      "justify_content": null,
      "justify_items": null,
      "left": null,
      "margin": null,
      "max_height": null,
      "max_width": null,
      "min_height": null,
      "min_width": null,
      "object_fit": null,
      "object_position": null,
      "order": null,
      "overflow": null,
      "overflow_x": null,
      "overflow_y": null,
      "padding": null,
      "right": null,
      "top": null,
      "visibility": null,
      "width": null
     }
    },
    "c4f4ba0d51d44b9baa7ed6a413c1448d": {
     "model_module": "@jupyter-widgets/controls",
     "model_module_version": "1.5.0",
     "model_name": "DescriptionStyleModel",
     "state": {
      "_model_module": "@jupyter-widgets/controls",
      "_model_module_version": "1.5.0",
      "_model_name": "DescriptionStyleModel",
      "_view_count": null,
      "_view_module": "@jupyter-widgets/base",
      "_view_module_version": "1.2.0",
      "_view_name": "StyleView",
      "description_width": ""
     }
    },
    "c675717db3744349b9fbef85bf398902": {
     "model_module": "@jupyter-widgets/controls",
     "model_module_version": "1.5.0",
     "model_name": "FloatProgressModel",
     "state": {
      "_dom_classes": [],
      "_model_module": "@jupyter-widgets/controls",
      "_model_module_version": "1.5.0",
      "_model_name": "FloatProgressModel",
      "_view_count": null,
      "_view_module": "@jupyter-widgets/controls",
      "_view_module_version": "1.5.0",
      "_view_name": "ProgressView",
      "bar_style": "success",
      "description": "",
      "description_tooltip": null,
      "layout": "IPY_MODEL_2ff688dad44a4bcb91baf6e0b597a80d",
      "max": 10836846,
      "min": 0,
      "orientation": "horizontal",
      "style": "IPY_MODEL_98d50bbbafeb444295dae9fdaf9a3da7",
      "value": 10836846
     }
    },
    "ce91347a876246fdbfb47461184423a3": {
     "model_module": "@jupyter-widgets/controls",
     "model_module_version": "1.5.0",
     "model_name": "HTMLModel",
     "state": {
      "_dom_classes": [],
      "_model_module": "@jupyter-widgets/controls",
      "_model_module_version": "1.5.0",
      "_model_name": "HTMLModel",
      "_view_count": null,
      "_view_module": "@jupyter-widgets/controls",
      "_view_module_version": "1.5.0",
      "_view_name": "HTMLView",
      "description": "",
      "description_tooltip": null,
      "layout": "IPY_MODEL_3914abf7153a4d48b2f6a187e15012f6",
      "placeholder": "​",
      "style": "IPY_MODEL_e08df7238a0344e5a0d535afe9ce97dc",
      "value": "100%"
     }
    },
    "d58e937d585f43b9b680a2a86dd2eec3": {
     "model_module": "@jupyter-widgets/controls",
     "model_module_version": "1.5.0",
     "model_name": "DescriptionStyleModel",
     "state": {
      "_model_module": "@jupyter-widgets/controls",
      "_model_module_version": "1.5.0",
      "_model_name": "DescriptionStyleModel",
      "_view_count": null,
      "_view_module": "@jupyter-widgets/base",
      "_view_module_version": "1.2.0",
      "_view_name": "StyleView",
      "description_width": ""
     }
    },
    "d72b13aee7da4579bbeed8765650f5cb": {
     "model_module": "@jupyter-widgets/base",
     "model_module_version": "1.2.0",
     "model_name": "LayoutModel",
     "state": {
      "_model_module": "@jupyter-widgets/base",
      "_model_module_version": "1.2.0",
      "_model_name": "LayoutModel",
      "_view_count": null,
      "_view_module": "@jupyter-widgets/base",
      "_view_module_version": "1.2.0",
      "_view_name": "LayoutView",
      "align_content": null,
      "align_items": null,
      "align_self": null,
      "border": null,
      "bottom": null,
      "display": null,
      "flex": null,
      "flex_flow": null,
      "grid_area": null,
      "grid_auto_columns": null,
      "grid_auto_flow": null,
      "grid_auto_rows": null,
      "grid_column": null,
      "grid_gap": null,
      "grid_row": null,
      "grid_template_areas": null,
      "grid_template_columns": null,
      "grid_template_rows": null,
      "height": null,
      "justify_content": null,
      "justify_items": null,
      "left": null,
      "margin": null,
      "max_height": null,
      "max_width": null,
      "min_height": null,
      "min_width": null,
      "object_fit": null,
      "object_position": null,
      "order": null,
      "overflow": null,
      "overflow_x": null,
      "overflow_y": null,
      "padding": null,
      "right": null,
      "top": null,
      "visibility": null,
      "width": null
     }
    },
    "e08df7238a0344e5a0d535afe9ce97dc": {
     "model_module": "@jupyter-widgets/controls",
     "model_module_version": "1.5.0",
     "model_name": "DescriptionStyleModel",
     "state": {
      "_model_module": "@jupyter-widgets/controls",
      "_model_module_version": "1.5.0",
      "_model_name": "DescriptionStyleModel",
      "_view_count": null,
      "_view_module": "@jupyter-widgets/base",
      "_view_module_version": "1.2.0",
      "_view_name": "StyleView",
      "description_width": ""
     }
    },
    "fec3f075ae2c4172a9199b80898e58f7": {
     "model_module": "@jupyter-widgets/base",
     "model_module_version": "1.2.0",
     "model_name": "LayoutModel",
     "state": {
      "_model_module": "@jupyter-widgets/base",
      "_model_module_version": "1.2.0",
      "_model_name": "LayoutModel",
      "_view_count": null,
      "_view_module": "@jupyter-widgets/base",
      "_view_module_version": "1.2.0",
      "_view_name": "LayoutView",
      "align_content": null,
      "align_items": null,
      "align_self": null,
      "border": null,
      "bottom": null,
      "display": null,
      "flex": null,
      "flex_flow": null,
      "grid_area": null,
      "grid_auto_columns": null,
      "grid_auto_flow": null,
      "grid_auto_rows": null,
      "grid_column": null,
      "grid_gap": null,
      "grid_row": null,
      "grid_template_areas": null,
      "grid_template_columns": null,
      "grid_template_rows": null,
      "height": null,
      "justify_content": null,
      "justify_items": null,
      "left": null,
      "margin": null,
      "max_height": null,
      "max_width": null,
      "min_height": null,
      "min_width": null,
      "object_fit": null,
      "object_position": null,
      "order": null,
      "overflow": null,
      "overflow_x": null,
      "overflow_y": null,
      "padding": null,
      "right": null,
      "top": null,
      "visibility": null,
      "width": null
     }
    }
   }
  }
 },
 "nbformat": 4,
 "nbformat_minor": 4
}
